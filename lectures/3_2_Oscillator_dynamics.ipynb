{
 "cells": [
  {
   "cell_type": "code",
   "execution_count": 1,
   "id": "70339712-8386-4692-bcf3-9d271d66221f",
   "metadata": {},
   "outputs": [],
   "source": [
    "from IPython.display import IFrame\n",
    "from IPython.display import YouTubeVideo"
   ]
  },
  {
   "cell_type": "markdown",
   "id": "3ed8b828-cca0-48f6-a4e0-d64d1706205c",
   "metadata": {},
   "source": [
    "# Oscillator dynamics"
   ]
  },
  {
   "cell_type": "markdown",
   "id": "60ce3327-08fd-463b-a633-6c916cc394ea",
   "metadata": {},
   "source": [
    "## Why does oscillatory motion occur\n",
    "\n",
    "**Newton's laws and oscillatory motion:**\n",
    "\n",
    "Newton's first law, the law of inertia, postulates that a body remains at rest or in uniform rectilinear motion unless acted upon by an external force. It follows that an oscillating body, changing the direction of its motion, is necessarily subjected to forces.\n",
    "\n",
    "**Analysis of forces in an oscillatory system:**\n",
    "\n",
    "Let us consider a one-dimensional oscillator, the position of which is described by the coordinates $x$. If the oscillator performs a motion along the $x$ axis, then at any moment the following holds:\n",
    "\n",
    "* When $x > 0$ (the body is deflected to the right), the force $F < 0$ (directed to the left) acts on it.\n",
    "* When $x < 0$ (the body is deflected to the left), the force $F > 0$ (directed to the right) acts on it.\n",
    "\n",
    "This analysis implies the existence of a point where $F = 0$, which defines the **equilibrium position** of the system. Conventionally, the origin of the coordinate system is placed at this equilibrium position ($x = 0$).\n",
    "\n",
    "**Example: Oscillation of a plastic ruler:**\n",
    "\n",
    "A demonstrative example of oscillatory motion is the deflection of a plastic ruler from its stable vertical position.\n",
    "\n",
    "1. **Restoring force:** The deformation of the ruler induces a restoring force that acts in the opposite direction of the deflection. This force tries to return the ruler to the equilibrium position.\n",
    "2. **Momentum:** After the ruler is released, the restoring force accelerates its movement towards the equilibrium position. Due to the momentum, the ruler continues to move even after reaching the equilibrium position, thereby causing a deflection to the opposite side.\n",
    "3. **Damping:** Real systems are affected by dissipative forces (e.g. friction), which gradually reduce the amplitude of oscillations until the motion stops completely.\n",
    "\n",
    "<div class='center-align'><figure><img src=\"https://phys.libretexts.org/@api/deki/files/11952/figure-17-01-01a.jpeg?revision=1&size=bestfit&width=496&height=553\" width=\"300\" alt=\"Body in plane\"/> </figure></div>\n",
    "\n",
    "**Dynamic analysis of the oscillation cycle:**\n",
    "\n",
    "1. After the ruler is deflected from the equilibrium position, a restoring force acts, which accelerates it back.\n",
    "2. In the equilibrium position, the resulting force is zero, but the ruler has a non-zero momentum, which carries it to the opposite side.\n",
    "3. On the opposite side, a restoring force acts in the opposite direction, slowing and stopping the ruler's movement.\n",
    "4. The process is repeated, with the amplitude of the oscillations gradually decreasing due to damping.\n",
    "\n",
    "![](https://phys.libretexts.org/@api/deki/files/11953/figure-17-01-02a.jpeg?revision=1&size=bestfit&width=623&height=153)"
   ]
  },
  {
   "cell_type": "markdown",
   "id": "d0e0273a-c153-40e9-b6e8-6cd88391ac46",
   "metadata": {},
   "source": [
    "## Oscillator Equation of Motion\n",
    "\n",
    "For one-dimensional simple harmonic motion, the equation of motion (which is a second-order linear differential equation with constant coefficients) can be derived using Newton's second law and Hooke's law.\n",
    "\n",
    "$$m \\ddot{x} = -kx$$\n",
    "\n",
    "where $m$ is the mass of the oscillating body, $x$ is its displacement from the equilibrium position, and $k$ is the spring constant. Therefore:\n",
    "\n",
    "$$\\frac{d^2x}{dt^2} = -\\left(\\frac{k}{m}\\right)x$$\n",
    "\n",
    "The solution to the above differential equation is a sinusoidal function:\n",
    "\n",
    "$$x(t) = c_1 \\cos(\\omega t) + c_2 \\sin(\\omega t)$$\n",
    "\n",
    "* We use the sum formula: $\\sin(\\alpha + \\varphi) = \\sin(\\alpha)\\cos(\\varphi) + \\cos(\\alpha)\\sin(\\varphi)$\n",
    "* We multiply $A$: $A\\sin(\\alpha + \\varphi) = A\\sin(\\alpha)\\cos(\\varphi) + A\\cos(\\alpha)\\sin(\\varphi)$\n",
    "* We compare with the original expression:\n",
    "* $c_1 = A\\sin(\\varphi)$\n",
    "* $c_2 = A\\cos(\\varphi)$\n",
    "* We derive:\n",
    "* $A = \\sqrt{a^2 + b^2}$\n",
    "* $\\varphi = \\arctan\\left(\\frac{a}{b}\\right)$\n",
    "\n",
    "We can therefore write the solution of the above equation in the form:\n",
    "\n",
    "$$x(t) = A \\cos(\\omega t - \\varphi)$$\n",
    "\n",
    "where:\n",
    "\n",
    "$$\\omega = \\sqrt{\\frac{k}{m}}$$\n",
    "\n",
    "$$A = \\sqrt{c_1^2 + c_2^2}$$\n",
    "\n",
    "$$\\tan \\varphi_0 = \\frac{c_2}{c_1}$$\n",
    "\n",
    "> **caution**\n",
    ">\n",
    "> The sum of two harmonic oscillations with the same angular velocity is a harmonic oscillation with the same frequency and phase shift.\n",
    "\n",
    "In the solution, $c_1$ and $c_2$ are two constants determined by the initial conditions, and the origin is set at the equilibrium position. Each of these constants has a physical meaning for the motion: $A$ is the amplitude (maximum displacement from equilibrium), $\\omega = 2\\pi f$ is the angular frequency, and $\\varphi_0$ is the phase.\n",
    "\n",
    "Since $\\omega = 2\\pi f$, we have:\n",
    "\n",
    "$$f = \\frac{1}{2\\pi} \\sqrt{\\frac{k}{m}}$$\n",
    "\n",
    "Since $T = \\frac{1}{f}$, we have:\n",
    "\n",
    "$$T = 2\\pi \\sqrt{\\frac{m}{k}}$$\n",
    "\n",
    "## Natural frequency of an oscillator\n",
    "\n",
    "> **The natural frequency of an oscillator** is the frequency at which an oscillator naturally oscillates when it is displaced from equilibrium and released. In other words, it is the frequency at which the oscillator oscillates without the application of an external force.\n",
    "\n",
    "* **Depends on the properties of the oscillator:**\n",
    "* The natural frequency is determined by the physical properties of the oscillator (mass, stiffness, length, etc.).\n",
    "* **Does not depend on amplitude (for linear oscillators):**\n",
    "* For ideal oscillators, the natural frequency is constant regardless of amplitude."
   ]
  },
  {
   "cell_type": "code",
   "execution_count": 2,
   "id": "6dc3ebec-aaa1-4ae5-a106-6b15cf656079",
   "metadata": {},
   "outputs": [
    {
     "data": {
      "image/jpeg": "[encoded data removed]",
      "text/html": [
       "\n",
       "        <iframe\n",
       "            width=\"400\"\n",
       "            height=\"300\"\n",
       "            src=\"https://www.youtube.com/embed/uGnAvaZD_qM\"\n",
       "            frameborder=\"0\"\n",
       "            allowfullscreen\n",
       "            \n",
       "        ></iframe>\n",
       "        "
      ],
      "text/plain": [
       "<IPython.lib.display.YouTubeVideo at 0x1ed5c691220>"
      ]
     },
     "execution_count": 2,
     "metadata": {},
     "output_type": "execute_result"
    }
   ],
   "source": [
    "YouTubeVideo('uGnAvaZD_qM')"
   ]
  },
  {
   "cell_type": "code",
   "execution_count": null,
   "id": "adf33fa6-9bc2-4e03-b2b9-6afc7fd85e79",
   "metadata": {},
   "outputs": [],
   "source": []
  }
 ],
 "metadata": {
  "kernelspec": {
   "display_name": "Python 3 (ipykernel)",
   "language": "python",
   "name": "python3"
  },
  "language_info": {
   "codemirror_mode": {
    "name": "ipython",
    "version": 3
   },
   "file_extension": ".py",
   "mimetype": "text/x-python",
   "name": "python",
   "nbconvert_exporter": "python",
   "pygments_lexer": "ipython3",
   "version": "3.12.7"
  }
 },
 "nbformat": 4,
 "nbformat_minor": 5
}
