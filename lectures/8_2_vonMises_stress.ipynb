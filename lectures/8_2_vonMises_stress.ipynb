{
 "cells": [
  {
   "cell_type": "markdown",
   "id": "eab00f9f-04f0-4811-ab2e-77247e027ae7",
   "metadata": {},
   "source": [
    "## Reduced stress in spatial stress\n",
    "\n",
    "In spatial stress, **reduced stress** according to **von Mises theory** is often used to assess plastic deformation. This approach allows replacing a complex stress state with a single scalar stress, which can be compared to the yield strength of the material.\n",
    "\n",
    "### Von Mises Reduced Stress (3D)\n",
    "\n",
    "$$\n",
    "\\sigma_{\\text{vm}} = \\sqrt{ \\frac{1}{2} \\left[ (\\sigma_{xx} - \\sigma_{yy})^2 + (\\sigma_{yy} - \\sigma_{zz})^2 + (\\sigma_{zz} - \\sigma_{xx})^2 + 6(\\tau_{xy}^2 + \\tau_{yz}^2 + \\tau_{zx}^2) \\right] }\n",
    "$$\n",
    "\n",
    "If we know the **principal stresses** $\\sigma_1$, $\\sigma_2$, $\\sigma_3$, then the von Mises reduced stress can be written in a simplified form:\n",
    "\n",
    "$$\n",
    "\\sigma_{\\text{vm}} = \\sqrt{ \\frac{1}{2} \\left[ (\\sigma_1 - \\sigma_2)^2 + (\\sigma_2 - \\sigma_3)^2 + (\\sigma_3 - \\sigma_1)^2 \\right] }\n",
    "$$\n",
    "\n",
    "### Calculation procedure:\n",
    "\n",
    "1. **Get the values ​​of the stress components:**\n",
    "- Normal stresses: $\\sigma_{xx}$, $\\sigma_{yy}$, $\\sigma_{zz}$\n",
    "- Shear stresses: $\\tau_{xy}$, $\\tau_{yz}$, $\\tau_{zx}$\n",
    "\n",
    "2. **Substitute into the relation for $\\sigma_{\\text{vm}}$**\n",
    "\n",
    "3. **Comparison with the yield strength of the material** $\\sigma_k$:\n",
    "- If $\\sigma_{\\text{vm}} < \\sigma_k$: elastic region\n",
    "- If $\\sigma_{\\text{vm}} \\geq \\sigma_k$: plastic deformation\n",
    "\n",
    "### Simplified cases\n",
    "\n",
    "#### Plane stress (2D)\n",
    "\n",
    "For plane stress, where $\\sigma_{zz} = \\tau_{yz} = \\tau_{zx} = 0$:\n",
    "\n",
    "$$\n",
    "\\sigma_{\\text{vm}} = \\sqrt{ \\sigma_{xx}^2 - \\sigma_{xx} \\sigma_{yy} + \\sigma_{yy}^2 + 3 \\tau_{xy}^2 }\n",
    "$$\n",
    "\n",
    "#### Uniaxial tension\n",
    "\n",
    "Only $\\sigma_{xx} = \\sigma$, the other components are zero:\n",
    "\n",
    "$$\n",
    "\\sigma_{\\text{vm}} = \\sigma\n",
    "$$\n",
    "\n",
    "### Physical significance\n",
    "\n",
    "The von Mises theory is based on the assumption that **a material fails when the shear strain energy reaches a critical value**. Therefore, it is suitable for metals and ductile materials.\n",
    "\n",
    ">warning\n",
    ">\n",
    "> **Hydrostatic state:** $\\sigma_1 = \\sigma_2 = \\sigma_3$\n",
    "$$\n",
    "\\sigma_{\\text{vm}} = 0\n",
    "$$\n",
    ">\n",
    ">The von Mises stress does not depend on the hydrostatic component of the stress — it depends only on **deviations from the average stress**, i.e. on the **deviatoric component**.\n",
    "\n",
    "![](https://www.researchgate.net/profile/Bolun-Liu-4/publication/365686447/figure/fig4/AS:11431281105503587@1670425728604/Distribution-of-von-Mises-stress-on-the-a-intact-femur-b-femur-after-implanting-a_W640.jpg)\n",
    "\n",
    "Distribution of von Mises stress on the (a) intact femur, (b) femur after implanting a solid Mayo stem and M1, M2, M3, (c) femur after implanting a solid CLS ste (d) femur after implanting a solid Fitmore stem.\n",
    "[http://dx.doi.org/10.1016/j.jot.2022.11.001](http://dx.doi.org/10.1016/j.jot.2022.11.001)"
   ]
  },
  {
   "cell_type": "markdown",
   "id": "f3966433-f520-4371-891d-923c4095ca06",
   "metadata": {},
   "source": []
  },
  {
   "cell_type": "code",
   "execution_count": null,
   "id": "455129b5-275c-467a-aab3-52cd5efe6c13",
   "metadata": {},
   "outputs": [],
   "source": []
  }
 ],
 "metadata": {
  "kernelspec": {
   "display_name": "Python 3 (ipykernel)",
   "language": "python",
   "name": "python3"
  },
  "language_info": {
   "codemirror_mode": {
    "name": "ipython",
    "version": 3
   },
   "file_extension": ".py",
   "mimetype": "text/x-python",
   "name": "python",
   "nbconvert_exporter": "python",
   "pygments_lexer": "ipython3",
   "version": "3.12.7"
  }
 },
 "nbformat": 4,
 "nbformat_minor": 5
}
