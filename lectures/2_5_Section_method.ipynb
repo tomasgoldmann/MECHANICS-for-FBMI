{
 "cells": [
  {
   "cell_type": "markdown",
   "id": "01b8eaee-0777-4cfc-ab37-31c21ff95b4d",
   "metadata": {},
   "source": [
    "# Determination of internal forces and stresses - section method"
   ]
  },
  {
   "cell_type": "markdown",
   "id": "4a2b21fd-ed69-4d66-a984-9b0423e5ade1",
   "metadata": {},
   "source": [
    "## Normal forces ($N$) and tensile or compressive stress ($\\sigma$)\n",
    "\n",
    "A part loaded only by forces in 1D, in the axis of the part, is called a member. The cross-section of a member can be circular (for a rod) or have a different shape. When external axial forces (F) are applied, internal forces (N) arise in the member as reaction forces.\n",
    "\n",
    "The normal (axial) stress $\\sigma$ can generally be defined by the ratio:\n",
    "\n",
    "$$\\sigma = \\frac{N}{A}$$\n",
    "\n",
    "where $A$ is the cross-sectional area \\[mm$^2$\\].\n",
    "\n",
    "Since forces and cross-sections can change along the member, the magnitude of internal forces $N$ and stress $\\sigma$ also change. We can therefore write\n",
    "\n",
    "$$N=N(x), \\sigma = \\sigma(x) $$\n",
    "where $x$ is the position coordinate of the place of application of forces and stresses.\n",
    "\n",
    "## Section method\n",
    "\n",
    "# Section method for determining internal forces in tension members\n",
    "\n",
    "The section method is a basic analytical tool in continuum mechanics that allows determining internal forces in a member or beam. For a member under tension, this method is applied in the following way:\n",
    "\n",
    "1. **Load identification**: first, all external forces acting on the member are determined, including applied forces and reactions at supports.\n",
    "2. **Selection of section**: the member is imaginary cut at the point where we want to determine internal forces. Most often, a section is chosen at the point where the load or geometry of the cross-section changes. The position of the section is determined by the coordinate $x$.\n",
    "3. **Division into two parts**: after performing the imaginary cut, two separate parts of the member are created. Each part must be in equilibrium, which means that an internal force appears on the cut surface that maintains balance with external forces.\n",
    "4. **Application of equilibrium equations**: the force acting on one part of the member must be balanced by the force acting on the other part. For tensile and compressive forces in the axial direction:\n",
    "\n",
    "$$\n",
    "\\vec{N}(x) + \\sum\\limits_i\\vec{F}_i = \\vec{0}\n",
    "$$\n",
    "\n",
    "where:\n",
    "- $N$ is the normal force in the section,\n",
    "- $F_i$ are the normal forces acting on the relaxed part of the section.\n",
    "\n",
    "![](https://encrypted-tbn0.gstatic.com/images?q=tbn:ANd9GcSk3hmzz70ih-bgGzuydHk6keCyJNqE-sHQNVFBm62DrVT8jJ9D72O7VV0XM98DWKsF8yQ&usqp=CAU)\n",
    "\n",
    "5. **Sign convention**\n",
    "- Tensile normal forces or stresses are considered **positive** if the member in a given section is lengthening.\n",
    "- Compressive normal forces or stresses are **negative** if the member in a given section is shortening.\n",
    "\n",
    "6. **Evaluation of internal forces**\n",
    "If the load is the same throughout the member and the cross-section is constant, the normal force $N$ will be constant.\n",
    "In the case of variable load or change in cross-section, it is necessary to perform multiple sections and analyze individual sections.\n",
    "\n",
    "7. **Evaluation of internal stresses** is determined by dividing the internal force $N(x)$ by the cross-sectional area $A(x)$ at a given location.\n",
    "\n",
    "$$\\sigma(x) = \\frac{N(x)}{A(x)} $$"
   ]
  },
  {
   "cell_type": "markdown",
   "id": "5c724f51-772a-45bc-8985-ea3faf76c553",
   "metadata": {},
   "source": [
    "## Length change\n",
    "\n",
    "The relative length change at the cut point is determined by the applied stress according to Hooke's law\n",
    "\n",
    "$$\\varepsilon(x) = \\frac{\\sigma(x)}{E(x)} $$\n",
    "\n",
    "It is true that the change in total length can be obtained by integrating the relative deformation along the length of the rod\n",
    "\n",
    "$$\\Delta l = \\int\\limits_0^L \\varepsilon(x) \\mathrm{d}x = \\int\\limits_0^L \\frac{\\sigma(x)}{E(x)} \\mathrm{d}x = \\int\\limits_0^L \\frac{N(x)}{A(x)E(x)} \\mathrm{d}x$$\n",
    "\n",
    "If a homogeneous isotropic rod of constant cross-section $A$ and original length $L$ has the same internal force $N$, then\n",
    "\n",
    "$$\n",
    "\\Delta L = \\frac{\\sigma L}{E} = \\frac{N L}{E A}\n",
    "$$\n",
    "\n",
    "In the case of a rod with a step (discontinuous) change of cross-section or under the action of isolated forces:\n",
    "\n",
    "$$\n",
    "\\Delta L = \\sum\\limits_i \\Delta L_i = \\sum\\limits_i \\frac{N_i L_i}{E_i A_i}\n",
    "$$\n",
    "where the index $i$ denotes sections that have a constant internal force, cross-section or material."
   ]
  },
  {
   "cell_type": "code",
   "execution_count": null,
   "id": "0c3d6c0e-7190-4a5a-a69a-e919957f2096",
   "metadata": {},
   "outputs": [],
   "source": []
  }
 ],
 "metadata": {
  "kernelspec": {
   "display_name": "Python 3 (ipykernel)",
   "language": "python",
   "name": "python3"
  },
  "language_info": {
   "codemirror_mode": {
    "name": "ipython",
    "version": 3
   },
   "file_extension": ".py",
   "mimetype": "text/x-python",
   "name": "python",
   "nbconvert_exporter": "python",
   "pygments_lexer": "ipython3",
   "version": "3.12.7"
  }
 },
 "nbformat": 4,
 "nbformat_minor": 5
}
