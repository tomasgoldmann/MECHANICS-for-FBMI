{
 "cells": [
  {
   "cell_type": "markdown",
   "id": "c3155e52-1a40-488b-8214-9944d8c3aac4",
   "metadata": {},
   "source": [
    "# Mechanical Propertiies of Material"
   ]
  },
  {
   "cell_type": "markdown",
   "id": "8a2261c2-f50d-43bf-9ab7-7d5eb396d4fd",
   "metadata": {},
   "source": [
    "## Overview of mechanical properties of materials\n",
    "\n",
    "Mechanical properties characterize the behavior of materials under the influence of external forces. They are of decisive importance for the calculation of machine components. These include strength, toughness, hardness and elasticity.\n",
    "\n",
    "1. **Strength** is the ability of a material to resist mechanical forces, we distinguish between tensile, compressive, torsional, shear/shear and bending strength. It is defined as the greatest stress required to break a material. Material failure is considered not only the division of the material into two parts, but also the formation of cracks. We test strength using the so-called static tensile test, in which we load the sample with a gradually increasing force and examine at what magnitude of force the test sample breaks.\n",
    "\n",
    "2. **Elasticity** is the ability of a material to deform under the influence of external forces and to return to its original state after the removal of these forces. An elastic material is, for example, rubber.\n",
    "\n",
    "3. **Elasticity** is the ability of a material to resist shocks. It is defined as the amount of work required to divide a material into two parts. The opposite of toughness is brittleness. A brittle material is, for example, glass, a tough material is, for example, steel. Toughness is tested by subjecting the sample to an impact. When a test bar is broken, a certain amount of work is consumed, the amount of this work can be calculated.\n",
    "\n",
    "4. **Hardness** is the resistance of a material to the penetration of a foreign body. It is determined by pressing a hard body into the tested material and measuring the depth or width of the indentation. We increase the hardness of metals by hardening - that is, by heating to a certain temperature and rapidly cooling. This is how hardened balls are processed into ball bearings, for example."
   ]
  },
  {
   "cell_type": "markdown",
   "id": "fa5d39ef-ee8e-40dc-b20a-98c38b553ff8",
   "metadata": {},
   "source": [
    "## Overview of technological properties of a material\n",
    "\n",
    "1. **Plasticity** is the suitability of a material for processing by forming. In a solid state, the material changes its shape under the action of external forces, but the cohesion is not broken - i.e. cracks do not form in the material. The shape created by the action of external forces remains preserved even after the acting forces are removed. This property is typical of metals and is important for forging, rolling, pressing.\n",
    "2. **Machinability** is the suitability of a material for chip machining (turning, milling, etc.). It is assessed according to mechanical properties, cutting resistance and the method of chip formation.\n",
    "3. **Castability** is a set of properties necessary for creating a high-quality casting. It is influenced by melting and solidification temperatures, thermal conductivity, viscosity, thermal expansion and contraction.\n",
    "4. **Weldability** is the ability of a material to create one indestructible whole from two parts by welding.\n",
    "5. **Wear resistance** Wear resistance is the resistance to external forces that cause the gradual loss of material."
   ]
  },
  {
   "cell_type": "markdown",
   "id": "1f5132ba-0820-440f-a4da-de2488768439",
   "metadata": {},
   "source": [
    "## Determining Mechanical and Technological Properties\n",
    "\n",
    "**Standards** for material testing, including ISO standards, provide guidelines and specifications for evaluating the mechanical properties of materials. These standards are essential for ensuring consistency and reliability in the use of materials and test methodologies across different industries. Tests and procedures suitable for measuring various material properties, such as strength, durability, and other characteristics, are included in these standards. These tests are performed using universal testing machines.\n",
    "\n",
    "![image](https://barrus-testing.com/wp-content/uploads/2024/02/barrus_astm_iso-768x331.jpg)\n",
    "\n",
    "These standards are developed and published by well-known organizations such as **ASTM** (American Society for Testing and Materials), **ISO** (International Organization for Standardization), and others. There are also regional and national recommendations, such as:\n",
    "\n",
    "* EN – Euronorm – European standards\n",
    "* DIN – Deutsches Institut für Normung, the German national standards organization\n",
    "* ČSN – Czech technical standards\n",
    "\n",
    "Since these recommendations are harmonized, they are generally identical today. These organizations ensure universal applicability and acceptance of these standards. Standards for material testing define test procedures, equipment, sample preparation, sample dimensions, properties and methods for evaluating results. Generally accepted test methods facilitate the comparability of results.\n",
    "\n",
    "Comparability is key in almost every industry, including aerospace, automotive, construction and healthcare, where material failure can have serious consequences. During the development of new materials or products, material testing standards provide reference values ​​for evaluating new materials against existing ones.\n",
    "\n",
    "Material testing can be divided into two groups: destructive and non-destructive. When a destructive testing method is used, the test specimen is destroyed. When using a non-destructive testing method, the test specimen remains in its original shape.\n",
    "\n",
    "| ISO Standard | ASTM Standard | Standard Name | Test Description |\n",
    "|----------|---------------|-------------|--------------|\n",
    "| ISO 6892-1 | ASTM E8 / E8M | Tensile Testing at Room Temperature | Specifies methods for testing tensile strength, yield strength, deformation and reduction in cross-section of metals. Defines the procedure for tensile tests on standardized metal specimens at room temperature and enables the determination of important mechanical properties. |\n",
    "| ISO 6892-2 | ASTM E21 | Tensile Testing at High Temperatures | Defines tensile tests on metals at high temperatures. |\n",
    "| ISO 148-1 | ASTM E23 | Charpy Impact Test | Describes the Charpy impact test method for metals. The test measures the strength and impact resistance of a material. |\n",
    "| ISO 12135 | ASTM E399 | Crack initiation and growth resistance test | Specifies a method for determining the crack initiation and growth properties of metals. |\n",
    "| ISO 6508 | ASTM E18 | Rockwell hardness test | Describes the hardness test of metallic materials by the Rockwell method. |\n",
    "| ISO 6507 | ASTM E384 | Vickers hardness test | Describes the hardness test of metallic materials by the Vickers method. |\n",
    "| - | ASTM E92 | Vickers & Knoop hardness test | Describes the hardness test of metallic materials by the Vickers and Knoop methods. |\n",
    "| ISO 6506 | ASTM E10 | Brinell hardness test | Describes the hardness test of metallic materials by the Brinell method. |"
   ]
  },
  {
   "cell_type": "code",
   "execution_count": null,
   "id": "656994d3-f02e-480b-a0c2-38904ba798c6",
   "metadata": {},
   "outputs": [],
   "source": []
  }
 ],
 "metadata": {
  "kernelspec": {
   "display_name": "Python 3 (ipykernel)",
   "language": "python",
   "name": "python3"
  },
  "language_info": {
   "codemirror_mode": {
    "name": "ipython",
    "version": 3
   },
   "file_extension": ".py",
   "mimetype": "text/x-python",
   "name": "python",
   "nbconvert_exporter": "python",
   "pygments_lexer": "ipython3",
   "version": "3.12.7"
  }
 },
 "nbformat": 4,
 "nbformat_minor": 5
}
