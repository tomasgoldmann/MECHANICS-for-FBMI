{
 "cells": [
  {
   "cell_type": "markdown",
   "id": "a89daec7-12bf-4ce9-b94a-81aaab116da4",
   "metadata": {},
   "source": [
    "## Dimensioning of beams with a combination of bending and torsion\n",
    "\n",
    "In practice, beams are often not only subjected to pure bending or torsion, but to a combination of these loads. Typical cases are shafts, cantilevers loaded outside the main planes or beams with eccentric loads. The combination of bending moment $M$ and torsion moment $T$ leads to a composite stressed state that must be taken into account in the design.\n",
    "\n",
    "### Step 1: Calculation of normal stress from bending\n",
    "\n",
    "The bending moment $M$ causes a normal stress in the fiber at a distance $y$ from the neutral axis according to the relationship:\n",
    "\n",
    "$$\n",
    "\\sigma = \\frac{M y}{I}\n",
    "$$\n",
    "\n",
    "where:\n",
    "- $\\sigma$ is the normal stress,\n",
    "- $M$ is the bending moment,\n",
    "- $y$ is the distance from the neutral axis,\n",
    "- $I$ is the moment of inertia of the beam cross section.\n",
    "\n",
    "### Step 2: Calculation of shear stress from torsion\n",
    "\n",
    "The torque $T$ causes shear stress in the cross-section:\n",
    "\n",
    "$$\n",
    "\\tau = \\frac{T \\rho}{J}\n",
    "$$\n",
    "\n",
    "where:\n",
    "- $\\tau$ is the shear stress,\n",
    "- $T$ is the torque,\n",
    "- $\\rho$ is the distance from the center of the cross-section (axis of rotation),\n",
    "- $J$ is the polar moment of inertia of the cross-section.\n",
    "\n",
    "### Step 3: Calculation of reduced stress (von Mises stress)\n",
    "\n",
    "To assess the strength in a combined stressed state (normal + shear stress), we will use the **von Mises hypothesis**. The reduced stress is given by the relationship:\n",
    "\n",
    "$$\n",
    "\\sigma_{red} = \\sqrt{\\sigma^2 + 3 \\tau^2}\n",
    "$$\n",
    "\n",
    "This relationship combines the effect of normal and shear stress and is used for materials subject to the limit state according to the plasticity theory.\n",
    "\n",
    "### Step 4: Comparison with ultimate stress\n",
    "\n",
    "The designed cross-section is **safe** if:\n",
    "\n",
    "$$\n",
    "\\sigma_{red} \\leq \\sigma_{d}\n",
    "$$\n",
    "\n",
    "where:\n",
    "- $\\sigma_{d}$ is the allowable (ultimate) stress of the material."
   ]
  },
  {
   "cell_type": "code",
   "execution_count": null,
   "id": "7296d7fc-e361-48a7-8fd7-4a301a6c72c5",
   "metadata": {},
   "outputs": [],
   "source": []
  }
 ],
 "metadata": {
  "kernelspec": {
   "display_name": "Python 3 (ipykernel)",
   "language": "python",
   "name": "python3"
  },
  "language_info": {
   "codemirror_mode": {
    "name": "ipython",
    "version": 3
   },
   "file_extension": ".py",
   "mimetype": "text/x-python",
   "name": "python",
   "nbconvert_exporter": "python",
   "pygments_lexer": "ipython3",
   "version": "3.12.7"
  }
 },
 "nbformat": 4,
 "nbformat_minor": 5
}
