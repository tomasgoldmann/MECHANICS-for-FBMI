{
 "cells": [
  {
   "cell_type": "markdown",
   "id": "d27b313c-df4a-414f-91b7-d3b4690060e2",
   "metadata": {},
   "source": [
    "# Moment of the force"
   ]
  },
  {
   "cell_type": "markdown",
   "id": "e147443d-9363-4526-a148-c719f8c389bf",
   "metadata": {},
   "source": [
    "## Definition of Moment of Force\n",
    "\n",
    "A moment of force is a vector quantity that describes the rotational effect of a force on a body. It allows us to analyze how a force affects the rotation of a body about a given axis.\n",
    "\n",
    "> The moment of force $\\mathbf{M}$ with respect to point O is defined as the vector product of the position vector $\\mathbf{r}$ and the force $\\mathbf{F}$:\n",
    "\n",
    "$$\\vec{M} = \\vec{r} \\times \\vec{F}$$\n",
    "\n",
    "Where:\n",
    "\n",
    "* $\\vec{M}$ is the moment of force (vector)\n",
    "* $\\vec{r}$ is the position vector from point O to the point of action of force $\\mathbf{F}$\n",
    "* $\\vec{F}$ is the force (vector)\n",
    "* $\\times$ denotes the vector product\n",
    "\n",
    "## Properties of the moment of force vector\n",
    "\n",
    "* **Magnitude:** The magnitude of the moment of force is given by:\n",
    "\n",
    "$$|\\vec{M}| = |\\vec{r}| |\\vec{F}| \\sin(\\theta)$$\n",
    "\n",
    "where $\\theta$ is the angle between the vectors $\\vec{r}$ and $\\vec{F}$.\n",
    "* **Direction:** The direction of the moment of force is perpendicular to the plane defined by the vectors $\\vec{r}$ and $\\vec{F}$. It is determined using the right-hand rule: If the fingers of the right hand point in the direction of rotation from the vector $\\vec{r}$ to the vector $\\vec{F}$, the thumb points in the direction of the moment of force.\n",
    "* **Units:** The unit of moment of force is the newton meter (Nm).\n",
    "\n",
    "## Moment of force in the plane\n",
    "\n",
    "In the plane (2D), we can calculate the moment of force $\\vec{M}$ using matrix notation. Let us assume that we have the position vector $\\vec{r} = (x, y)$ and the force $\\vec{F} = (F_x, F_y)$.\n",
    "\n",
    "The cross product in 2D can be written as the determinant of the matrix:\n",
    "\n",
    "$$\\vec{M} = \\begin{vmatrix} \\vec{k} & \\vec{i} & \\vec{j} \\\\ 0 & x & y \\\\ 0 & F_x & F_y \\end{vmatrix}$$\n",
    "\n",
    "Where:\n",
    "\n",
    "* $\\vec{i}$, $\\vec{j}$, $\\vec{k}$ are unit vectors in the x, y, and z directions.\n",
    "\n",
    "Expressing the determinant gives:\n",
    "\n",
    "$$\\vec{M} = \\vec{k} (x F_y - y F_x)$$\n",
    "\n",
    "The vector $\\vec{k}$ shows that the moment of force is perpendicular to the xy plane (i.e., in the z direction).\n",
    "\n",
    "In 2D, we are usually only interested in the magnitude of the moment of force, which is given by a scalar value:\n",
    "\n",
    "$$M = x F_y - y F_x$$\n",
    "\n",
    "## Sign convention in 2D\n",
    "\n",
    "* A moment of force that causes a counterclockwise rotation is usually considered positive.\n",
    "* A moment of force that causes a clockwise rotation is usually considered negative."
   ]
  },
  {
   "cell_type": "markdown",
   "id": "734bb41e-7796-4de1-9481-876a1d5864d6",
   "metadata": {},
   "source": [
    "## Varignon's Theorem\n",
    "\n",
    "> The moment of the resultant of a system of forces with respect to a given point is equal to the sum of the moments of the individual forces of this system with respect to the same point.\n",
    "\n",
    "Mathematically, if we have a set of forces $\\vec{F}_1, \\vec{F}_2, ..., \\vec{F}_n$ acting on a body and their resultant $\\vec{R}$, then the moment of the resultant $\\vec{M}_R$ with respect to point O is given by:\n",
    "\n",
    "$$\\vec{M}_R = \\vec{r} \\times \\vec{R} = \\sum_{i=1}^{n} (\\vec{r}_i \\times \\vec{F}_i) = \\vec{M}_1 + \\vec{M}_2 + ... + \\vec{M}_n$$\n",
    "\n",
    "where:\n",
    "\n",
    "* $\\vec{M}_R$ is the moment of the resultant $\\vec{R}$ with respect to point O.\n",
    "* $\\vec{r}$ is the position vector from point O to the point of action of the resultant $\\vec{R}$.\n",
    "* $\\vec{r}_i$ is the position vector from point O to the point of action of force $\\vec{F}_i$.\n",
    "* $\\vec{M}_i$ is the moment of force $\\vec{F}_i$ with respect to point O.\n",
    "* $\\vec{R}$ is the resultant of forces $\\vec{F}_1, \\vec{F}_2, ..., \\vec{F}_n$.\n",
    "\n",
    "### Meaning\n",
    "\n",
    "* **Simplification of calculations:** Varignon's theorem allows replacing the calculation of the moment of the resultant, which can be complex, with the calculation of the sum of the moments of the individual forces.\n",
    "* **Equilibrium analysis:** It helps in analyzing the equilibrium of a body, because the sum of the moments of the forces acting on the body must be zero for rotational equilibrium."
   ]
  },
  {
   "cell_type": "code",
   "execution_count": null,
   "id": "a62182d1-5cee-462e-bfa7-05a3a8c982c1",
   "metadata": {},
   "outputs": [],
   "source": []
  }
 ],
 "metadata": {
  "kernelspec": {
   "display_name": "Python 3 (ipykernel)",
   "language": "python",
   "name": "python3"
  },
  "language_info": {
   "codemirror_mode": {
    "name": "ipython",
    "version": 3
   },
   "file_extension": ".py",
   "mimetype": "text/x-python",
   "name": "python",
   "nbconvert_exporter": "python",
   "pygments_lexer": "ipython3",
   "version": "3.12.7"
  }
 },
 "nbformat": 4,
 "nbformat_minor": 5
}
