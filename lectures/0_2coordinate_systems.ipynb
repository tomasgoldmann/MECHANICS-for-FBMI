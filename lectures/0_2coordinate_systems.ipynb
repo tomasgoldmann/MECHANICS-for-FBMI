{
 "cells": [
  {
   "cell_type": "code",
   "execution_count": 2,
   "id": "224911c6-f411-4cd4-ab0e-e4d64ddda939",
   "metadata": {},
   "outputs": [],
   "source": [
    "from IPython.display import IFrame\n",
    "import math\n",
    "import numpy as np"
   ]
  },
  {
   "cell_type": "markdown",
   "id": "49932040-dd1c-4bc2-8192-602c273a1ef8",
   "metadata": {},
   "source": [
    "# Coordinate systems\n",
    "\n",
    "Motion (change of position in space over time) is not an absolute concept; we need a reference point relative to which we describe the movement of an object. Likewise, the state of this reference cannot be absolute in space, and therefore motion is relative.\n",
    "\n",
    "A reference frame is a place relative to which we choose to describe the motion of an object. In this reference frame, we define a coordinate system (set of axes) in which we measure the motion of an object (but the terms reference frame and coordinate system are often used interchangeably).\n",
    "\n",
    "The choice of a reference frame and a coordinate system is often a matter of judgment and practicality. However, there is an important distinction between reference frames when we are dealing with the dynamics of motion, where we are interested in the forces associated with the motion of an object. In dynamics, we speak of an inertial frame (also known as a Galilean frame) when Newton's laws of motion in their simplest form apply in that frame, and a non-inertial frame (also known as a non-inertial reference frame) when Newton's laws in their simplest form do not apply (apparent accelerations/forces appear in such a frame). An inertial frame is at rest or moving at a constant velocity (since there is no such thing as absolute rest!), while a non-inertial frame is accelerated (relative to an inertial frame).\n",
    "\n",
    "The concept of a frame of reference has changed significantly since the days of Aristotle, Galileo, Newton, and Einstein. You can read more about this and the philosophical implications in the article [Space and Time: Inertial Frames]( http://plato.stanford.edu/entries/spacetime-iframes/).\n",
    "\n",
    "## Coordinate system for human movement analysis\n",
    "\n",
    "In anatomy, we use a simplified reference system composed of perpendicular planes to provide a standard reference for qualitatively describing the structures and movements of the human body, as shown in the following figure.\n",
    "\n",
    "<div class='center-align'><figure><img src=\"http://upload.wikimedia.org/wikipedia/commons/3/34/BodyPlanes.jpg\" width=\"300\" alt=\"Anatomical body position\"/><figcaption><center><i>Figure. Anatomical body position and body planes (<a href=\"http://en.wikipedia.org/wiki/Human_anatomical_terms\" target=\"_blank\">image from Wikipedia</a> ).< /i></center></figcaption> </figure></div>\n",
    "\n",
    "## Coordinate system base\n",
    "\n",
    "**The base of a coordinate system** is a set of vectors that allow us to uniquely describe the position of any point in space. Think of it as a set of axes that intersect at a single point (the origin) and determine the directions in which we measure distances.\n",
    "\n",
    "**Why do we need a base?**\n",
    "\n",
    "* **Unambiguous description of position:** Thanks to the base, we can uniquely identify each point in space using coordinates that indicate how far this point is from the origin in the direction of each axis.\n",
    "* **Simplification of calculations:** The base allows us to convert geometric problems into algebraic ones, which makes them much easier to solve.\n",
    "* **Standardization:** The base provides us with a common language for describing spatial relationships.\n",
    "\n",
    "**What does the base look like?**\n",
    "\n",
    "* **In a plane:** The base is formed by two linearly independent vectors that determine the direction of the x and y axes. The most commonly used is the Cartesian coordinate system, where the x and y axes are perpendicular to each other and have the same unit.\n",
    "   \n",
    "* **In space:** The base consists of three linearly independent vectors that determine the direction of the x, y, and z axes. Again, the Cartesian coordinate system is most often used, where the axes are mutually perpendicular and have the same unit.\n",
    "   \n",
    "\n",
    "**Base features:**\n",
    "* **Linear independence:** No base vector must be a linear combination of the other base vectors.\n",
    "* **Range:** The number of vectors in the base is equal to the dimension of the space. In the plane there are two vectors, in space there are three.\n",
    "\n",
    "## Orthogonal and orthonormal bases\n",
    "\n",
    "An **orthogonal base** is a special type of base for a vector space where all vectors are perpendicular to each other. This means that the dot product of any two distinct vectors in that base is equal to zero.\n",
    "\n",
    "**Why is an orthogonal base advantageous?**\n",
    "\n",
    "* **Simpler calculations:** Many calculations, such as projecting vectors or finding the coordinates of a vector relative to a base, are significantly simpler for orthogonal bases.\n",
    "* **Geometric interpretation:** Orthogonality of vectors has a direct geometric interpretation - the vectors form a right angle.\n",
    "\n",
    "An **orthonormal base** is an even more special case of an orthogonal base. In addition to all vectors in this base being mutually perpendicular, they also have unit length (i.e. their magnitude is equal to one).\n",
    "\n",
    "**Why is an orthonormal base advantageous?**\n",
    "\n",
    "* **Normalization:** Unit length of vectors simplifies many calculations, especially when working with norms and distances.\n",
    "* ** Orthogonality:* * Preserves all the advantages of an orthogonal base.\n",
    "\n",
    "**Types of bases**\n",
    "* **Cartesian base:** The most common type of base, where the axes are perpendicular to each other and have the same unit.\n",
    "* **Spherical base:** Used to describe the position of points in spherical coordinates (radius, angle in the horizontal plane, angle from the vertical).\n",
    "* **Cylindrical base:** Used to describe the position of points in cylindrical coordinates (radius, angle, height).\n",
    "\n",
    "\n",
    "\n",
    "## Cartesian coordinate system\n",
    "\n",
    "Since we perceive the surrounding space as three-dimensional, a suitable coordinate system is the [Cartesian coordinate system]( http://en.wikipedia.org/wiki/Cartesian_coordinate_system) in the [Cartesian coordinate system]( http://en.wikipedia.org/wiki/Cartesian_coordinate_system) with three orthogonal axes, as shown below. The orthogonality of the Cartesian coordinate system is convenient for its use in classical mechanics, it is usually assumed that the structure of space has a [Cartesian coordinate system]( http://en.wikipedia.org/wiki/Cartesian_coordinate_system) and, as a result, motions in different directions are independent of each other.\n",
    "\n",
    "<div class='center-align'><figure><img src=\"https://raw.githubusercontent.com/demotu/BMC/master/images/CCS.png\" width=350/><figcaption><center><i>Figure. A point in three-dimensional Euclidean space described in a Cartesian coordinate system.< /i></center></figcaption> </figure></div>\n",
    "\n",
    "Another initiative for standardizing reference frames comes from the [Virtual Animation of the Kinematics of the Human for Industrial, Educational and Research Purposes (VAKHUM )] project ( https://github.com/BMClab/BMC/blob/master/courses/refs/VAKHUM.pdf ).\n",
    "\n",
    "## Determining the coordinate system\n",
    "\n",
    "The most common coordinate system we use is the Cartesian coordinate system, which uses three mutually perpendicular axes (x, y, z) and an origin. Every point in space can be uniquely identified by three numbers that indicate the distances from these axes.\n",
    "\n",
    "<div class='center-align'><figure><img src=\"https://raw.githubusercontent.com/demotu/BMC/master/images/vector3Dijk.png\" width=350/><figcaption><center><i>Figure. Representation of point <b>P</b> and its position vector $\\overrightarrow{\\mathbf{r }}$ in a Cartesian coordinate system. The bases $\\vec{\\mathbf{i}}, \\vec{\\mathbf{j}}, \\vec{\\mathbf{k }}$ form the base of this coordinate system and are usually represented in the RGB (red, green, blue) color sequence for easier visualization.</i></center></figcaption></figure></div>\n",
    "\n",
    "It can be seen that the base versors shown in the image above have the following coordinates in the Cartesian coordinate system:\n",
    "<br>\n",
    "<span class=\"notranslate\">\n",
    "\\begin{equation}\n",
    "\\hat{\\mathbf{i}} = \\begin{bmatrix}1\\\\0\\\\0 \\end{bmatrix}, \\quad \\hat{\\mathbf{j}} = \\begin{bmatrix}0\\\\1\\\\0 \\end{bmatrix}, \\quad \\hat{\\mathbf{k}} = \\begin{bmatrix} 0 \\\\ 0 \\\\ 1 \\end{bmatrix}\n",
    "\\end{equation}\n",
    "</span>\n",
    "\n",
    "Using the notation described in the figure above, the position vector $\\overrightarrow{\\mathbf{r }}$ (or point $\\overrightarrow{\\mathbf{P}}$) can be expressed as:\n",
    "<br>\n",
    "<span class=\"notranslate\">\n",
    "\\begin{equation}\n",
    "\\overrightarrow{\\mathbf{r}} = x \\vec{\\mathbf{i}} + y \\vec{\\mathbf{j}} + z\\vec{\\mathbf{k}}\n",
    "\\end{equation}\n",
    "</span>\n",
    "\n",
    "### Definition of base\n",
    "\n",
    "The mathematical problem of determining a coordinate system is to find a base and an origin for it (a base is just a set of vectors without an origin). There are various methods for calculating a base given by a set of points (coordinates), for example, the scalar product or the vector product can be used for this problem.\n",
    "\n",
    "#### Using the cross product\n",
    "\n",
    "Let's now define the base using the common method in motion analysis (using the cross product):\n",
    "Given the coordinates of three non-collinear points in 3D space (points that do not all lie on the same line), $\\overrightarrow{\\mathbf{m }}_ 1, \\overrightarrow{\\mathbf{m}}_2, \\overrightarrow{\\mathbf{m}}_3$, which can represent, for example, the position of markers captured from a motion analysis session, the following steps can be used:\n",
    "\n",
    "1. The first axis, $\\overrightarrow{\\mathbf{v }}_ 1$, the vector $\\overrightarrow{\\mathbf{m}}_2-\\overrightarrow{\\mathbf{m}}_1$ (or any other vector difference);\n",
    "\n",
    "2. The second axis, $\\overrightarrow{\\mathbf{v }}_ 2$, the vector product between the vectors $\\overrightarrow{\\mathbf{v}}_1$ and $\\overrightarrow{\\mathbf{m}}_3-\\overrightarrow{\\mathbf{m}}_1$ (or $\\overrightarrow{\\mathbf{m}}_3-\\overrightarrow{\\mathbf{m}}_2$);\n",
    "\n",
    "3. The third axis, $\\overrightarrow{\\mathbf{v }}_ 3$, is the cross product between the vectors $\\overrightarrow{\\mathbf{v}}_1$ and $\\overrightarrow{\\mathbf{v}}_2$; and\n",
    "\n",
    "4. Normalizing vectors so that they have norm 1, dividing each vector by its norm.\n",
    "\n",
    "The positions of the points used to construct the coordinate system must, by definition, be specified in relation to an existing coordinate system. In motion analysis, this coordinate system is the coordinate system from the motion capture system and is determined in the calibration phase. In this phase, the positions of markers placed on the object with perpendicular axes and known distances between markers are captured and used as a reference (laboratory) coordinate system.\n",
    "\n",
    "For example, given the positions $\\overrightarrow{\\mathbf{m }}_ 1 = [1,2,5], \\overrightarrow{\\mathbf{m}}_2 = [2,3,3], \\overrightarrow{\\mathbf{m}}_3 = [4,0,2]$, a base can be found with:"
   ]
  },
  {
   "cell_type": "code",
   "execution_count": 3,
   "id": "bf8d1892-cabe-4e8d-8ea0-866a4240d2db",
   "metadata": {},
   "outputs": [
    {
     "name": "stdout",
     "output_type": "stream",
     "text": [
      "Versors: \n",
      "e1 = [ 0.40824829  0.40824829 -0.81649658] \n",
      "e2 = [-0.76834982 -0.32929278 -0.5488213 ] \n",
      "e3 = [-0.49292179  0.85141036  0.17924429]\n",
      "\n",
      "Norm of each of the versors: \n",
      "||e1|| = 1.0 \n",
      "||e2|| = 1.0 \n",
      "||e3|| = 1.0\n",
      "\n",
      "Test of orthogonality (using cross product): \n",
      "e1 x e2: 1.0 \n",
      "e1 x e3: 1.0000000000000002 \n",
      "e2 x e3: 0.9999999999999999\n"
     ]
    }
   ],
   "source": [
    "import numpy as np\n",
    "\n",
    "m1 = np.array ([1, 2, 5])\n",
    "m2 = np.array ([2, 3, 3])\n",
    "m3 = np.array ([4, 0, 2])\n",
    "\n",
    "v1 = m2 - m1 # first axis\n",
    "v2 = np.cross(v1, m3 - m1) # second axis\n",
    "v3 = np.cross(v1, v2) # third axis\n",
    "\n",
    "# Vector normalization\n",
    "e1 = v1/np.linalg.norm(v1)\n",
    "e2 = v2/np.linalg.norm(v2)\n",
    "e3 = v3/np.linalg.norm(v3)\n",
    "\n",
    "print( 'Versors:', '\\ne1 =', e1, '\\ne2 =', e2, '\\ne3 =', e3)\n",
    "\n",
    "print( '\\nNorm of each of the versors:',\n",
    "'\\n||e1|| =', np.linalg .norm(e1),\n",
    "'\\n||e2|| =', np.linalg .norm(e2),\n",
    "'\\n||e3|| =', np.linalg .norm(e3))\n",
    "\n",
    "print( '\\nTest of orthogonality (using cross product):',\n",
    "'\\ne1 x e2:', np.linalg .norm(np.cross(e1, e2)),\n",
    "'\\ne1 x e3:', np.linalg .norm(np.cross(e1, e3)),\n",
    "'\\ne2 x e3:', np.linalg .norm(np.cross(e2, e3)))"
   ]
  },
  {
   "cell_type": "markdown",
   "id": "90190e81-36ce-431b-93fb-5bd9e8b35800",
   "metadata": {},
   "source": [
    "Due to rounding errors ([more here]( https://en.wikipedia.org/wiki/Round-off_error)) and inaccuracies in calculations with floating-point decimal numbers ([more here](https://en.wikipedia.org/wiki/Round-off_error)), the norms do not exactly equal 1.\n",
    "If necessary, we can round the result:"
   ]
  },
  {
   "cell_type": "code",
   "execution_count": 4,
   "id": "22d256aa-306b-436c-acc3-55cf81741bfb",
   "metadata": {},
   "outputs": [
    {
     "name": "stdout",
     "output_type": "stream",
     "text": [
      "\n",
      "Test of orthogonality (using cross product): \n",
      "e1 x e2: 1.0 \n",
      "e1 x e3: 1.0 \n",
      "e2 x e3: 1.0\n"
     ]
    }
   ],
   "source": [
    "print( '\\nTest of orthogonality (using cross product):',\n",
    "'\\ne1 x e2:', np.linalg .norm(np.cross(e1, e2)).round(8),\n",
    "'\\ne1 x e3:', np.linalg .norm(np.cross(e1, e3)).round(8),\n",
    "'\\ne2 x e3:', np.linalg .norm(np.cross(e2, e3)).round(8))"
   ]
  },
  {
   "cell_type": "markdown",
   "id": "ebf94cc8-f564-4e9b-9a2e-d70b55ddaee2",
   "metadata": {},
   "source": [
    "Or format the text representing the result:"
   ]
  },
  {
   "cell_type": "code",
   "execution_count": 5,
   "id": "3ce3f5d8-220c-4060-8ecc-c141fde9abab",
   "metadata": {},
   "outputs": [
    {
     "name": "stdout",
     "output_type": "stream",
     "text": [
      "\n",
      "Test of orthogonality (using cross product): \n",
      "e1 x e2: 1 \n",
      "e1 x e3: 1 \n",
      "e2 x e3: 1\n"
     ]
    }
   ],
   "source": [
    "print( '\\nTest of orthogonality (using cross product):',\n",
    "f'\\ne1 x e2: { np.linalg .norm(np.cross(e1, e2)):g}',\n",
    "f'\\ne1 x e3: { np.linalg .norm(np.cross(e1, e3)):g}',\n",
    "f'\\ne2 x e3: { np.linalg .norm(np.cross(e2, e3)):g}')"
   ]
  },
  {
   "cell_type": "markdown",
   "id": "69369af7-548f-447f-ac98-a7b696df1126",
   "metadata": {},
   "source": [
    "Where we used `f'{ :.g }'` to format a number to a string ([more details here](https://docs.python.org/dev/library/stdtypes.html#printf-style-string-formatting) [or here](https://docs.python.org/dev/library/stdtypes.html#printf-style-string-formatting)).\n",
    "\n",
    "For a permanent change, we could use the numpy settings to represent the decimal point precision with the function [`np.set_printoptions `]( https://numpy.org/doc/stable/reference/generated/numpy.set_printoptions.html), but that only works for numpy arrays, not numbers. Or use the IPython magic command [`np.set_printoptions `]( https://numpy.org/doc/stable/reference/generated/numpy.set_printoptions.html), but in this case you cannot use the print function to display the result.\n",
    "\n",
    "### Definition of the origin\n",
    "\n",
    "In order to define a coordinate system using a calculated base, we also need to define an origin. In principle, we could use any point as the origin, but if the calculated coordinate system should follow anatomical conventions, e.g. the origin of the coordinate system should be at the center of a joint, we will need to calculate the base and origin according to the standards used in motion analysis.\n",
    "\n",
    "When the coordinate system is a technical base rather than an anatomical one, a common practice in motion analysis is to define the origin of the coordinate system as the centroid (average) position between the markers in the reference frame. Using the average position across the markers potentially reduces the influence of noise (such as from soft tissue artifact) on the calculation.\n",
    "\n",
    "For the marks in the example above, the origin of the coordinate system will be:"
   ]
  },
  {
   "cell_type": "code",
   "execution_count": 6,
   "id": "a572da54-74ed-4d76-b3cf-6d3d9ac4908a",
   "metadata": {},
   "outputs": [
    {
     "name": "stdout",
     "output_type": "stream",
     "text": [
      "Origin:  [2.33333333 1.66666667 3.33333333]\n"
     ]
    }
   ],
   "source": [
    "origin = np.mean ((m1, m2, m3), axis=0)\n",
    "print( 'Origin: ', origin)"
   ]
  },
  {
   "cell_type": "markdown",
   "id": "43839107-f526-49b2-98e3-e14ce1b1a15a",
   "metadata": {},
   "source": [
    "Draw the coordinate system and base using Python's custom function `CCS.py`.\n",
    "We can copy and paste the contents of the `CCS.py` file here (and run the cell) or we can load the function from a directory, let's do that. First, create a \"functions\" folder and place the `CCS.py` file in it."
   ]
  },
  {
   "cell_type": "code",
   "execution_count": null,
   "id": "738679bd-7879-4a3b-9f6f-e360587b9788",
   "metadata": {},
   "outputs": [],
   "source": [
    "path2 = r'./functions'\n",
    "import sys\n",
    "sys.path.insert(1, path2)  # přidat do pythonpath\n",
    "from CCS import CCS"
   ]
  },
  {
   "cell_type": "code",
   "execution_count": 7,
   "id": "4adc3919-cd53-4cef-a992-8238aabdc0ed",
   "metadata": {},
   "outputs": [],
   "source": [
    "markers = np.vstack ((m1, m2, m3))\n",
    "base = np.vstack ((e1, e2, e3))"
   ]
  },
  {
   "cell_type": "code",
   "execution_count": 13,
   "id": "18aed4c0-cd5c-41dc-a426-f9efae09ef7c",
   "metadata": {},
   "outputs": [],
   "source": [
    "!pip3 install -q ipympl"
   ]
  },
  {
   "cell_type": "markdown",
   "id": "7a64e542-4cd8-4e86-be6c-e1073028a4b9",
   "metadata": {},
   "source": [
    "### Gram–Schmidt process\n",
    "\n",
    "Another classic mathematical procedure using the scalar product is known as the [Gram–Schmidt process]( http://en.wikipedia.org/wiki/Gram%E2%80%93Schmidt_process). See the [Gram–Schmidt process]( http://en.wikipedia.org/wiki/Gram%E2%80%93Schmidt_process) wikipedia for an example of the Gram–Schmidt process and how to implement it in Python.\n",
    "\n",
    "The [Gram–Schmidt process]( http://en.wikipedia.org/wiki/Gram%E2%80%93Schmidt_process) is a method for orthonormalizing (orthogonal unit versors) a set of vectors using a dot product. The Gram–Schmidt process works for any number of vectors.\n",
    "\n",
    "For example, given three vectors <span class=\"notranslate\">\n",
    "$\\overrightarrow{\\mathbf{a}}, \\overrightarrow{\\mathbf{b}}, \\overrightarrow{\\mathbf{c }}$ </span>, in 3D space the base $\\{\\vec{e}_a, \\vec{e}_b, \\vec{e}_c\\}$ can be found using the Gram–Schmidt process\n",
    "\n",
    "The first versor is in <span class=\"notranslate\">\n",
    "$\\overrightarrow{\\mathbf{a }}$ </span> direction (or in the direction of any of the other vectors):\n",
    "<br>\n",
    "<span class=\"notranslate\">\n",
    "\\begin{equation}\n",
    "\\vec{e}_a = \\frac{\\overrightarrow{\\mathbf{a} }}{ ||\\overrightarrow{\\mathbf{a}}||}\n",
    "\\end{equation}\n",
    "</span>\n",
    "\n",
    "The second versor, orthogonal to $\\vec{e}_a$, can be found assuming that we can express the vector $\\overrightarrow{\\mathbf{b }}$ in the direction of $\\vec{e}_a$ as:\n",
    "<br>\n",
    "<span class=\"notranslate\">\n",
    "\\begin{equation}\n",
    "\\overrightarrow{\\mathbf{b}} = \\overrightarrow{\\mathbf{b }}^ \\| + \\overrightarrow{\\mathbf{b}}^\\bot\n",
    "\\end{equation}\n",
    "</span>\n",
    "\n",
    "Then:\n",
    "\n",
    "<span class=\"notranslate\">\n",
    "\\begin{equation}\n",
    "\\overrightarrow{\\mathbf{b }}^ \\bot = \\overrightarrow{\\mathbf{b}} - \\overrightarrow{\\mathbf{b}}^\\| = \\overrightarrow{\\mathbf{b}} - (\\overrightarrow{\\mathbf{b}} \\cdot \\vec{e}_a ) \\vec{e}_a\n",
    "\\end{equation}\n",
    "</span>\n",
    "\n",
    "Finally:\n",
    "\n",
    "<span class=\"notranslate\">\n",
    "\\begin{equation}\n",
    "\\vec{e}_b = \\frac{\\overrightarrow{\\mathbf{b }}^ \\bot}{||\\overrightarrow{\\mathbf{b}}^\\bot||}\n",
    "\\end{equation}\n",
    "</span>\n",
    "\n",
    "The third versor, orthogonal to $\\{\\vec{e}_a, \\vec{e}_b \\}$ , can be found expressing the vector $\\overrightarrow{\\mathbf{C}}$ in the directions $\\vec{e}_a$ and $\\vec{e}_b$ as:\n",
    "<br>\n",
    "<span class=\"notranslate\">\n",
    "\\begin{equation}\n",
    "\\overrightarrow{\\mathbf{c}} = \\overrightarrow{\\mathbf{c }}^ \\| + \\overrightarrow{\\mathbf{c}}^\\bot\n",
    "\\end{equation}\n",
    "</span>\n",
    "\n",
    "Then:\n",
    "<span class=\"notranslate\">\n",
    "\\begin{equation}\n",
    "\\overrightarrow{\\mathbf{c }}^ \\bot = \\overrightarrow{\\mathbf{c}} - \\overrightarrow{\\mathbf{c}}^\\|\n",
    "\\end{equation}\n",
    "</span>\n",
    "\n",
    "Where:\n",
    "<span class=\"notranslate\">\n",
    "\\begin{equation}\n",
    "\\overrightarrow{\\mathbf{c }}^ \\| = (\\overrightarrow{\\mathbf{c}} \\cdot \\vec{e}_a ) \\hat{e}_a + (\\overrightarrow{\\mathbf{c}} \\cdot \\vec{e}_b ) \\hat{e}_b\n",
    "\\end{equation}\n",
    "</span>\n",
    "\n",
    "Finally:\n",
    "<span class=\"notranslate\">\n",
    "\\begin{equation}\n",
    "\\vec{e}_c = \\frac{\\overrightarrow{\\mathbf{c }}^ \\bot}{||\\overrightarrow{\\mathbf{c}}^\\bot||}\n",
    "\\end{equation}\n",
    "</span>\n",
    "\n",
    "And an animation of the Gram-Schmidt process in progress:\n",
    "\n",
    "<div class='center-align'><figure><img src=\"https://upload.wikimedia.org/wikipedia/commons/e/ee/Gram-Schmidt_orthonormalization_process.gif\" width=450/><figcaption><center><i>Figure. The Gram-Schmidt process is performed on three base vectors for R3 (<a href=\"https://commons.wikimedia.org/w/index.php?curid=24396471\">image from Wikipedia</a> ).</i></center></figcaption></figure></div>\n",
    "\n",
    "Let's implement the Gram–Schmidt process in Python.\n",
    "\n",
    "For example, given the positions we saw earlier, $\\overrightarrow{\\mathbf{m }}_ 1 = [1,2,5], \\overrightarrow{\\mathbf{m}}_2 = [2,3,3], \\overrightarrow{\\mathbf{m}}_3 = [4,0,2]$, the base can be found with:\n",
    "\n",
    "The first version is:"
   ]
  },
  {
   "cell_type": "code",
   "execution_count": 19,
   "id": "c31d991c-931c-41da-a67c-07bbca3779a4",
   "metadata": {},
   "outputs": [
    {
     "name": "stdout",
     "output_type": "stream",
     "text": [
      "[0.18257419 0.36514837 0.91287093]\n"
     ]
    }
   ],
   "source": [
    "ea = m1/np.linalg.norm(m1)\n",
    "print(ea)"
   ]
  },
  {
   "cell_type": "markdown",
   "id": "3dc623f2-642a-4073-881c-7da2d1edf74a",
   "metadata": {},
   "source": [
    "The second versor is:"
   ]
  },
  {
   "cell_type": "code",
   "execution_count": 20,
   "id": "9a3ce55d-0947-41c4-93a3-3b4e1bfe46b2",
   "metadata": {},
   "outputs": [
    {
     "name": "stdout",
     "output_type": "stream",
     "text": [
      "[ 0.59020849  0.70186955 -0.39878952]\n"
     ]
    }
   ],
   "source": [
    "eb = m2 - np.dot( m2, ea)*ea\n",
    "eb = eb/np.linalg.norm(eb)\n",
    "print(eb)"
   ]
  },
  {
   "cell_type": "markdown",
   "id": "6ae6408e-c175-45b5-bd90-3a0afc9fa92a",
   "metadata": {},
   "source": [
    "And the third version is:"
   ]
  },
  {
   "cell_type": "code",
   "execution_count": 21,
   "id": "734dd6b5-b19d-4bc6-8639-5eddadaf43e8",
   "metadata": {},
   "outputs": [
    {
     "name": "stdout",
     "output_type": "stream",
     "text": [
      "[ 0.78633365 -0.61159284  0.08737041]\n"
     ]
    }
   ],
   "source": [
    "ec = m3 - np.dot( m3, ea)*ea - np.dot(m3, eb)*eb\n",
    "ec = ec/np.linalg.norm(ec)\n",
    "print(ec)"
   ]
  },
  {
   "cell_type": "markdown",
   "id": "82bc14f5-a8bf-423a-bded-9d21054d39e5",
   "metadata": {},
   "source": [
    "Let's check the orthonormality between these versors:"
   ]
  },
  {
   "cell_type": "code",
   "execution_count": 22,
   "id": "bfd2fa32-432a-428f-8432-70eb7d170daf",
   "metadata": {},
   "outputs": [
    {
     "name": "stdout",
     "output_type": "stream",
     "text": [
      " Versors: \n",
      "ea = [0.18257419 0.36514837 0.91287093] \n",
      "eb = [ 0.59020849  0.70186955 -0.39878952] \n",
      "ec = [ 0.78633365 -0.61159284  0.08737041]\n",
      "\n",
      " Standard of each version: \n",
      " ||ea|| = 1.0 \n",
      " ||eb|| = 1.0 \n",
      " ||ec|| = 1.0\n",
      "\n",
      " Orthogonality test (scalar product): \n",
      " ea . eb: -3.3306690738754696e-16 \n",
      " eb . ec: 6.245004513516506e-17 \n",
      " ec . ea: 8.326672684688674e-17\n"
     ]
    }
   ],
   "source": [
    "print( \" Versors:\", \"\\nea =\", ea, \"\\neb =\", eb, \"\\nec =\", ec)\n",
    "\n",
    "print(\n",
    "\"\\n Standard of each version:\",\n",
    "\"\\n ||ea|| =\",\n",
    "    np.linalg.norm (ea),\n",
    "\"\\n ||eb|| =\",\n",
    "    np.linalg.norm (eb),\n",
    "\"\\n ||ec|| =\",\n",
    "    np.linalg .norm(ec),\n",
    ")\n",
    "\n",
    "print(\n",
    "\"\\n Orthogonality test (scalar product):\",\n",
    "\"\\n ea . eb:\",\n",
    "    np.dot( ea, eb),\n",
    "\"\\n eb . ec:\",\n",
    "    np.dot( eb, ec),\n",
    "\"\\n ec . ea:\",\n",
    "    np.dot( ec, ea),\n",
    ")"
   ]
  },
  {
   "cell_type": "markdown",
   "id": "e2ae2877-6d46-491e-a29b-a3731a0098c2",
   "metadata": {},
   "source": [
    "## "
   ]
  },
  {
   "cell_type": "markdown",
   "id": "259dac48-2b15-48ef-bc79-26883d6d80bb",
   "metadata": {},
   "source": [
    "Spherical coordinate system\n",
    "\n",
    "**Spherical coordinates** are a three-dimensional coordinate system that uses to determine the position of a point in space:\n",
    "\n",
    "* **Radial distance ($\\rho$ ):** The distance of a point from the origin.\n",
    "* **Azimuthal angle ($\\theta$ ):** The angle in the xy plane between the positive x-axis and the projection of a point onto this plane.\n",
    "* **Zenith angle ($\\phi$ ):** The angle between the positive axis behind the line connecting the point with the origin.\n",
    "\n",
    "![ Spherical Coordinate System](https://cdn1.byjus.com/wp-content/uploads/2019/09/Spherical-coordinate-system.png)\n",
    "\n",
    "**Spherical Coordinate Base**\n",
    "\n",
    "The base of spherical coordinates consists of three unit vectors:\n",
    "\n",
    "* **$\\vec{\\mathbf{e }}_ \\rho$:** Directs radially from the origin to the point.\n",
    "* **$\\vec{\\mathbf{e }}_ \\theta$:** Points in the direction of increasing azimuthal angle $\\theta$.\n",
    "* **$\\vec{\\mathbf{e }}_ \\varphi$:** Points in the direction of increasing zenith angle $\\varphi$.\n",
    "\n",
    "This base is orthonormal, meaning that the vectors are mutually perpendicular and have unit magnitude.\n",
    "\n",
    "**Transformation from Cartesian coordinates**\n",
    "\n",
    "To convert Cartesian coordinates ($x, y, z$) to spherical coordinates ($\\rho, \\theta, \\varphi$), the following relations apply:\n",
    "\n",
    "* $\\rho = \\ sqrt{ x^2 + y^2 + z^2}$\n",
    "* $\\theta = \\arctan{\\frac{y}{x }}$\n",
    "* $\\varphi = \\arccos{\\frac{z}{\\rho }}$\n",
    "\n",
    "**Transformation to Cartesian coordinates**\n",
    "\n",
    "The following relations apply to the conversion of spherical coordinates to Cartesian coordinates:\n",
    "* $x = \\rho \\sin{\\varphi} \\cos{\\ theta}$\n",
    "* $y = \\rho \\sin{\\varphi} \\sin{\\ theta}$\n",
    "* $z = \\rho \\cos{\\ varphi}$\n",
    "\n",
    "**Advantages of spherical coordinates:**\n",
    "\n",
    "* ** Symmetry:** They are used advantageously for problems with spherical symmetry (e.g. gravitational field, electrostatic field).\n",
    "* **Simplification of calculations:** In some cases, they can simplify the solution of physics problems.\n",
    "\n",
    "**Disadvantages of spherical coordinates: **\n",
    "\n",
    "* **More complex derivatives:** Calculating gradient, divergence, and rotation in spherical coordinates is more complex than in Cartesian coordinates.\n",
    "* ** Singularities:* * Singularities can occur at the origin (ρ = 0) and at the poles (φ = 0, π).\n",
    "\n",
    "IFrame( 'https://www.geogebra.org/classic/c5nsjx3t?embed', width='100%', height=500)\n",
    "\n",
    "## Cylindrical coordinates\n",
    "\n",
    "Cylindrical coordinates are suitable for systems with cylindrical symmetry. Three coordinates are used:\n",
    "\n",
    "* **Radial distance (ρ ):** The distance of a point from the z-axis.\n",
    "* **Azimuthal angle (θ ):** The angle in the xy plane measured from the positive x-axis.\n",
    "* **Height (z ):** The distance of a point from the xy plane (same as in Cartesian coordinates).\n",
    "\n",
    "![ Cylindrical coordinates](https://upload.wikimedia.org/wikipedia/commons/0/0e/Coord_system_CY_1.svg)\n",
    "\n",
    "**Transformational relationships: **\n",
    "\n",
    "* **From cylindrical to Cartesian:**\n",
    "* $x = \\rho \\cos{\\ theta}$\n",
    "* $y = \\rho \\sin{\\ theta}$\n",
    "* $z = z$\n",
    "* **From Cartesian to Cylindrical:**\n",
    "* $\\rho = \\ sqrt{ x^2 + y^2}$\n",
    "* $\\theta = \\arctan{\\frac{y}{x }}$\n",
    "* $z = z$"
   ]
  },
  {
   "cell_type": "code",
   "execution_count": 6,
   "id": "24a30402-e4ba-4415-ba54-231a2e8037ea",
   "metadata": {},
   "outputs": [
    {
     "data": {
      "text/html": [
       "\n",
       "        <iframe\n",
       "            width=\"100%\"\n",
       "            height=\"500\"\n",
       "            src=\"https://www.geogebra.org/classic/X3j28ZkC?embed\"\n",
       "            frameborder=\"0\"\n",
       "            allowfullscreen\n",
       "            \n",
       "        ></iframe>\n",
       "        "
      ],
      "text/plain": [
       "<IPython.lib.display.IFrame at 0x20101ad3d40>"
      ]
     },
     "execution_count": 6,
     "metadata": {},
     "output_type": "execute_result"
    }
   ],
   "source": [
    "IFrame( 'https://www.geogebra.org/classic/X3j28ZkC?embed', width='100%', height=500)"
   ]
  },
  {
   "cell_type": "markdown",
   "id": "a13b63a0-6372-445c-af9d-8f46ed57f4bc",
   "metadata": {},
   "source": [
    "** Comparison: **\n",
    "\n",
    "| Property | Cartesian | Spherical | Cylindrical |\n",
    "|---|---|---|---|\n",
    "| Symmetry | Rectangular | Spherical | Cylindrical |\n",
    "| Coordinates | x, y, z | ρ, θ, φ | ρ, θ, z |\n",
    "| Usage | General | Spherical symmetry | Cylindrical symmetry |\n",
    "\n",
    "**When to use which system?**\n",
    "\n",
    "* **Cartesian:** Most everyday problems, linear motion.\n",
    "* **Spherical:** Problems with spherical symmetry (e.g. gravity, electrostatics).\n",
    "* **Cylindrical:** Problems with cylindrical symmetry (e.g. fluid flow in pipes).\n",
    "\n",
    "**Why use coordinate systems other than Cartesian?**\n",
    "\n",
    "* **Simplification of calculations:** Problems with certain symmetry may be simpler in other coordinate systems.\n",
    "* **More natural description:** Some physical phenomena are more naturally described in other coordinate systems.\n",
    "\n",
    "\n",
    "## Further reading\n",
    "\n",
    "- [The right frame of reference makes it simple: An example of introductory mechanics supported by video analysis of motion]( https://www.researchgate.net/publication/267761615_The_right_frame_of_reference_makes_it_simple_An_example_of_introductory_mechanics_supported_by_video_analysis_of_motion)\n",
    "\n",
    "\n",
    "## Video lectures on the Internet\n",
    "\n",
    "- [Introduction to reference - Khan Academy]( https://www.khanacademy.org/science/physics/one-dimensional-motion/displacement-velocity-time/v/introduction-to-reference-frames)\n",
    "- [Introduction to orthonormal bases - Khan Academy]( https://www.khanacademy.org/math/linear-algebra/alternate-bases/orthonormal-base/v/linear-algebra-introduction-to-orthonormal-bases)\n",
    "- [The Gram-Schmidt process - Khan Academy]( https://www.khanacademy.org/math/linear-algebra/alternate-bases/orthonormal-base/v/linear-algebra-the-gram-schmidt-process)\n",
    "- [Biomechanics of Movement | Demo: Motion Capture Placement and Reference Frames]( https://youtu.be/ctwoH59Obew)\n",
    "\n",
    "## Problems\n",
    "\n",
    "1. How fast are you moving right now? In your answer, consider your motion relative to the Earth and relative to the Sun.\n",
    "\n",
    "2. Go to the website [ http://www.wisc-online.com/Objects/ViewObject.aspx?ID=AP15305]( http://www.wisc-online.com/Objects/ViewObject.aspx?ID=AP15305 ) and complete the interactive lesson to learn about anatomical terminology for describing relative position in the human body.\n",
    "\n",
    "3. To learn more about Cartesian coordinate systems, go to the website [ http://www.mathsisfun.com/data/cartesian-coordinates.html]( http://www.mathsisfun.com/data/cartesian-coordinates.html ), study the material, and answer the 10 questions at the end.\n",
    "\n",
    "4. Given points in 3D space, m1 = [2, 2, 0], m2 = [0, 1, 1], m3 = [1, 2, 0], find the orthonormal base.\n",
    "\n",
    "5. Determine whether the following points form a base in 3D space, m1 = [2, 2, 0], m2 = [1, 1, 1], m3 = [1, 1, 0].\n",
    "\n",
    "6. Derive expressions for the three axes of the pelvis, taking into account the convention of the project [Virtual Animation of the Kinematics of the Human for Industrial, Educational and Research Purposes (VAKHUM )]( https://github.com/BMClab/BMC/blob/master/courses/refs/VAKHUM.pdf) (each use RASIS, LASIS, RPSIS and LPSIS as names for the pelvic axis landmark and expression).\n",
    "\n",
    "7. Determine the vector base for the pelvis according to the convention of the project [Virtual Animation of the Kinematics of the Human for Industrial, Educational and Research Purposes (VAKHUM )]( https://github.com/BMClab/BMC/blob/master/courses/refs/VAKHUM.pdf) for the following anatomical landmark positions (units in meters): RASIS=[0.5, 4] 0.8, 70 . 0.1], RPSIS = [0.3, 0.85, 0.2], LPSIS = [0.29, 0.78, 0.3].\n",
    "\n",
    "## References\n",
    "\n",
    "- Corke P (2017) [Robotics, Vision and Control: Fundamental Algorithms in MATLAB]( https://petercorke.com/RVC/). 2nd ed. Springer-Verlag Berlin.\n",
    "- [Standards - International Society of Biomechanics]( https://isbweb.org/activities/standards).\n",
    "- The Stanford Encyclopedia of Philosophy. [Space and Time: Inertial Frames]( http://plato.stanford.edu/entries/spacetime-iframes/).\n",
    "- [Virtual Animation of the Kinematics of the Human for Industrial, Educational and Research Purposes (VAKHUM )]( https://github.com/BMClab/BMC/blob/master/courses/refs/VAKHUM.pdf)."
   ]
  }
 ],
 "metadata": {
  "kernelspec": {
   "display_name": "Python 3 (ipykernel)",
   "language": "python",
   "name": "python3"
  },
  "language_info": {
   "codemirror_mode": {
    "name": "ipython",
    "version": 3
   },
   "file_extension": ".py",
   "mimetype": "text/x-python",
   "name": "python",
   "nbconvert_exporter": "python",
   "pygments_lexer": "ipython3",
   "version": "3.12.7"
  }
 },
 "nbformat": 4,
 "nbformat_minor": 5
}
