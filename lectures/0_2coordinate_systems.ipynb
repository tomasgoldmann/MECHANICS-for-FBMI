{
 "cells": [
  {
   "cell_type": "code",
   "execution_count": 1,
   "id": "33d04dfe-0f70-455c-aa92-bf8062dbb6b4",
   "metadata": {},
   "outputs": [],
   "source": [
    "from IPython.display import IFrame\n",
    "import math\n",
    "import numpy as np"
   ]
  },
  {
   "cell_type": "markdown",
   "id": "49932040-dd1c-4bc2-8192-602c273a1ef8",
   "metadata": {},
   "source": [
    "# Coordinate systems\n",
    "\n",
    "Motion (change of position in space over time) is not an absolute concept; we need a reference point relative to which we describe the movement of an object. Likewise, the state of this reference cannot be absolute in space, and therefore motion is relative.\n",
    "\n",
    "A reference frame is a place relative to which we choose to describe the motion of an object. In this reference frame, we define a coordinate system (set of axes) in which we measure the motion of an object (but the terms reference frame and coordinate system are often used interchangeably).\n",
    "\n",
    "The choice of a reference frame and a coordinate system is often a matter of judgment and practicality. However, there is an important distinction between reference frames when we are dealing with the dynamics of motion, where we are interested in the forces associated with the motion of an object. In dynamics, we speak of an inertial frame (also known as a Galilean frame) when Newton's laws of motion in their simplest form apply in that frame, and a non-inertial frame (also known as a non-inertial reference frame) when Newton's laws in their simplest form do not apply (apparent accelerations/forces appear in such a frame). An inertial frame is at rest or moving at a constant velocity (since there is no such thing as absolute rest!), while a non-inertial frame is accelerated (relative to an inertial frame).\n",
    "\n",
    "The concept of a frame of reference has changed significantly since the days of Aristotle, Galileo, Newton, and Einstein. You can read more about this and the philosophical implications in the article [Space and Time: Inertial Frames]( http://plato.stanford.edu/entries/spacetime-iframes/).\n",
    "\n",
    "## Coordinate system for human movement analysis\n",
    "\n",
    "In anatomy, we use a simplified reference system composed of perpendicular planes to provide a standard reference for qualitatively describing the structures and movements of the human body, as shown in the following figure.\n",
    "\n",
    "<div class='center-align'><figure><img src=\"http://upload.wikimedia.org/wikipedia/commons/3/34/BodyPlanes.jpg\" width=\"300\" alt=\"Anatomical body position\"/><figcaption><center><i>Figure. Anatomical body position and body planes (<a href=\"http://en.wikipedia.org/wiki/Human_anatomical_terms\" target=\"_blank\">image from Wikipedia</a> ).< /i></center></figcaption> </figure></div>\n",
    "\n",
    "## Coordinate system base\n",
    "\n",
    "**The base of a coordinate system** is a set of vectors that allow us to uniquely describe the position of any point in space. Think of it as a set of axes that intersect at a single point (the origin) and determine the directions in which we measure distances.\n",
    "\n",
    "**Why do we need a base?**\n",
    "\n",
    "* **Unambiguous description of position:** Thanks to the base, we can uniquely identify each point in space using coordinates that indicate how far this point is from the origin in the direction of each axis.\n",
    "* **Simplification of calculations:** The base allows us to convert geometric problems into algebraic ones, which makes them much easier to solve.\n",
    "* **Standardization:** The base provides us with a common language for describing spatial relationships.\n",
    "\n",
    "**What does the base look like?**\n",
    "\n",
    "* **In a plane:** The base is formed by two linearly independent vectors that determine the direction of the x and y axes. The most commonly used is the Cartesian coordinate system, where the x and y axes are perpendicular to each other and have the same unit.\n",
    "   \n",
    "* **In space:** The base consists of three linearly independent vectors that determine the direction of the x, y, and z axes. Again, the Cartesian coordinate system is most often used, where the axes are mutually perpendicular and have the same unit.\n",
    "   \n",
    "\n",
    "**Base features:**\n",
    "* **Linear independence:** No base vector must be a linear combination of the other base vectors.\n",
    "* **Range:** The number of vectors in the base is equal to the dimension of the space. In the plane there are two vectors, in space there are three.\n",
    "\n",
    "## Orthogonal and orthonormal bases\n",
    "\n",
    "An **orthogonal base** is a special type of base for a vector space where all vectors are perpendicular to each other. This means that the dot product of any two distinct vectors in that base is equal to zero.\n",
    "\n",
    "**Why is an orthogonal base advantageous?**\n",
    "\n",
    "* **Simpler calculations:** Many calculations, such as projecting vectors or finding the coordinates of a vector relative to a base, are significantly simpler for orthogonal bases.\n",
    "* **Geometric interpretation:** Orthogonality of vectors has a direct geometric interpretation - the vectors form a right angle.\n",
    "\n",
    "An **orthonormal base** is an even more special case of an orthogonal base. In addition to all vectors in this base being mutually perpendicular, they also have unit length (i.e. their magnitude is equal to one).\n",
    "\n",
    "**Why is an orthonormal base advantageous?**\n",
    "\n",
    "* **Normalization:** Unit length of vectors simplifies many calculations, especially when working with norms and distances.\n",
    "* ** Orthogonality:* * Preserves all the advantages of an orthogonal base.\n",
    "\n",
    "**Types of bases**\n",
    "* **Cartesian base:** The most common type of base, where the axes are perpendicular to each other and have the same unit.\n",
    "* **Spherical base:** Used to describe the position of points in spherical coordinates (radius, angle in the horizontal plane, angle from the vertical).\n",
    "* **Cylindrical base:** Used to describe the position of points in cylindrical coordinates (radius, angle, height).\n",
    "\n",
    "\n",
    "\n",
    "## Cartesian coordinate system\n",
    "\n",
    "Since we perceive the surrounding space as three-dimensional, a suitable coordinate system is the [Cartesian coordinate system]( http://en.wikipedia.org/wiki/Cartesian_coordinate_system) in the [Cartesian coordinate system]( http://en.wikipedia.org/wiki/Cartesian_coordinate_system) with three orthogonal axes, as shown below. The orthogonality of the Cartesian coordinate system is convenient for its use in classical mechanics, it is usually assumed that the structure of space has a [Cartesian coordinate system]( http://en.wikipedia.org/wiki/Cartesian_coordinate_system) and, as a result, motions in different directions are independent of each other.\n",
    "\n",
    "<div class='center-align'><figure><img src=\"https://raw.githubusercontent.com/demotu/BMC/master/images/CCS.png\" width=350/><figcaption><center><i>Figure. A point in three-dimensional Euclidean space described in a Cartesian coordinate system.< /i></center></figcaption> </figure></div>\n",
    "\n",
    "Another initiative for standardizing reference frames comes from the [Virtual Animation of the Kinematics of the Human for Industrial, Educational and Research Purposes (VAKHUM )] project ( https://github.com/BMClab/BMC/blob/master/courses/refs/VAKHUM.pdf ).\n",
    "\n",
    "## Determining the coordinate system\n",
    "\n",
    "The most common coordinate system we use is the Cartesian coordinate system, which uses three mutually perpendicular axes (x, y, z) and an origin. Every point in space can be uniquely identified by three numbers that indicate the distances from these axes.\n",
    "\n",
    "<div class='center-align'><figure><img src=\"https://raw.githubusercontent.com/demotu/BMC/master/images/vector3Dijk.png\" width=350/><figcaption><center><i>Figure. Representation of point <b>P</b> and its position vector $\\overrightarrow{\\mathbf{r }}$ in a Cartesian coordinate system. The bases $\\vec{\\mathbf{i}}, \\vec{\\mathbf{j}}, \\vec{\\mathbf{k }}$ form the base of this coordinate system and are usually represented in the RGB (red, green, blue) color sequence for easier visualization.</i></center></figcaption></figure></div>\n",
    "\n",
    "It can be seen that the base versors shown in the image above have the following coordinates in the Cartesian coordinate system:\n",
    "<br>\n",
    "<span class=\"notranslate\">\n",
    "\\begin{equation}\n",
    "\\hat{\\mathbf{i}} = \\begin{bmatrix}1\\\\0\\\\0 \\end{bmatrix}, \\quad \\hat{\\mathbf{j}} = \\begin{bmatrix}0\\\\1\\\\0 \\end{bmatrix}, \\quad \\hat{\\mathbf{k}} = \\begin{bmatrix} 0 \\\\ 0 \\\\ 1 \\end{bmatrix}\n",
    "\\end{equation}\n",
    "</span>\n",
    "\n",
    "Using the notation described in the figure above, the position vector $\\overrightarrow{\\mathbf{r }}$ (or point $\\overrightarrow{\\mathbf{P}}$) can be expressed as:\n",
    "<br>\n",
    "<span class=\"notranslate\">\n",
    "\\begin{equation}\n",
    "\\overrightarrow{\\mathbf{r}} = x \\vec{\\mathbf{i}} + y \\vec{\\mathbf{j}} + z\\vec{\\mathbf{k}}\n",
    "\\end{equation}\n",
    "</span>\n",
    "\n",
    "### Definition of base\n",
    "\n",
    "The mathematical problem of determining a coordinate system is to find a base and an origin for it (a base is just a set of vectors without an origin). There are various methods for calculating a base given by a set of points (coordinates), for example, the scalar product or the vector product can be used for this problem.\n",
    "\n",
    "#### Using the cross product\n",
    "\n",
    "Let's now define the base using the common method in motion analysis (using the cross product):\n",
    "Given the coordinates of three non-collinear points in 3D space (points that do not all lie on the same line), $\\overrightarrow{\\mathbf{m }}_ 1, \\overrightarrow{\\mathbf{m}}_2, \\overrightarrow{\\mathbf{m}}_3$, which can represent, for example, the position of markers captured from a motion analysis session, the following steps can be used:\n",
    "\n",
    "1. The first axis, $\\overrightarrow{\\mathbf{v }}_ 1$, the vector $\\overrightarrow{\\mathbf{m}}_2-\\overrightarrow{\\mathbf{m}}_1$ (or any other vector difference);\n",
    "\n",
    "2. The second axis, $\\overrightarrow{\\mathbf{v }}_ 2$, the vector product between the vectors $\\overrightarrow{\\mathbf{v}}_1$ and $\\overrightarrow{\\mathbf{m}}_3-\\overrightarrow{\\mathbf{m}}_1$ (or $\\overrightarrow{\\mathbf{m}}_3-\\overrightarrow{\\mathbf{m}}_2$);\n",
    "\n",
    "3. The third axis, $\\overrightarrow{\\mathbf{v }}_ 3$, is the cross product between the vectors $\\overrightarrow{\\mathbf{v}}_1$ and $\\overrightarrow{\\mathbf{v}}_2$; and\n",
    "\n",
    "4. Normalizing vectors so that they have norm 1, dividing each vector by its norm.\n",
    "\n",
    "The positions of the points used to construct the coordinate system must, by definition, be specified in relation to an existing coordinate system. In motion analysis, this coordinate system is the coordinate system from the motion capture system and is determined in the calibration phase. In this phase, the positions of markers placed on the object with perpendicular axes and known distances between markers are captured and used as a reference (laboratory) coordinate system.\n",
    "\n",
    "For example, given the positions $\\overrightarrow{\\mathbf{m }}_ 1 = [1,2,5], \\overrightarrow{\\mathbf{m}}_2 = [2,3,3], \\overrightarrow{\\mathbf{m}}_3 = [4,0,2]$, a base can be found with:"
   ]
  },
  {
   "cell_type": "code",
   "execution_count": 2,
   "id": "bf8d1892-cabe-4e8d-8ea0-866a4240d2db",
   "metadata": {},
   "outputs": [
    {
     "name": "stdout",
     "output_type": "stream",
     "text": [
      "Versors: \n",
      "e1 = [ 0.40824829  0.40824829 -0.81649658] \n",
      "e2 = [-0.76834982 -0.32929278 -0.5488213 ] \n",
      "e3 = [-0.49292179  0.85141036  0.17924429]\n",
      "\n",
      "Norm of each of the versors: \n",
      "||e1|| = 1.0 \n",
      "||e2|| = 1.0 \n",
      "||e3|| = 1.0\n",
      "\n",
      "Test of orthogonality (using cross product): \n",
      "e1 x e2: 1.0 \n",
      "e1 x e3: 1.0000000000000002 \n",
      "e2 x e3: 0.9999999999999999\n"
     ]
    }
   ],
   "source": [
    "import numpy as np\n",
    "\n",
    "m1 = np.array ([1, 2, 5])\n",
    "m2 = np.array ([2, 3, 3])\n",
    "m3 = np.array ([4, 0, 2])\n",
    "\n",
    "v1 = m2 - m1 # first axis\n",
    "v2 = np.cross(v1, m3 - m1) # second axis\n",
    "v3 = np.cross(v1, v2) # third axis\n",
    "\n",
    "# Vector normalization\n",
    "e1 = v1/np.linalg.norm(v1)\n",
    "e2 = v2/np.linalg.norm(v2)\n",
    "e3 = v3/np.linalg.norm(v3)\n",
    "\n",
    "print( 'Versors:', '\\ne1 =', e1, '\\ne2 =', e2, '\\ne3 =', e3)\n",
    "\n",
    "print( '\\nNorm of each of the versors:',\n",
    "'\\n||e1|| =', np.linalg .norm(e1),\n",
    "'\\n||e2|| =', np.linalg .norm(e2),\n",
    "'\\n||e3|| =', np.linalg .norm(e3))\n",
    "\n",
    "print( '\\nTest of orthogonality (using cross product):',\n",
    "'\\ne1 x e2:', np.linalg .norm(np.cross(e1, e2)),\n",
    "'\\ne1 x e3:', np.linalg .norm(np.cross(e1, e3)),\n",
    "'\\ne2 x e3:', np.linalg .norm(np.cross(e2, e3)))"
   ]
  },
  {
   "cell_type": "markdown",
   "id": "90190e81-36ce-431b-93fb-5bd9e8b35800",
   "metadata": {},
   "source": [
    "Due to rounding errors ([more here]( https://en.wikipedia.org/wiki/Round-off_error)) and inaccuracies in calculations with floating-point decimal numbers ([more here](https://en.wikipedia.org/wiki/Round-off_error)), the norms do not exactly equal 1.\n",
    "If necessary, we can round the result:"
   ]
  },
  {
   "cell_type": "code",
   "execution_count": 3,
   "id": "22d256aa-306b-436c-acc3-55cf81741bfb",
   "metadata": {},
   "outputs": [
    {
     "name": "stdout",
     "output_type": "stream",
     "text": [
      "\n",
      "Test of orthogonality (using cross product): \n",
      "e1 x e2: 1.0 \n",
      "e1 x e3: 1.0 \n",
      "e2 x e3: 1.0\n"
     ]
    }
   ],
   "source": [
    "print( '\\nTest of orthogonality (using cross product):',\n",
    "'\\ne1 x e2:', np.linalg .norm(np.cross(e1, e2)).round(8),\n",
    "'\\ne1 x e3:', np.linalg .norm(np.cross(e1, e3)).round(8),\n",
    "'\\ne2 x e3:', np.linalg .norm(np.cross(e2, e3)).round(8))"
   ]
  },
  {
   "cell_type": "markdown",
   "id": "ebf94cc8-f564-4e9b-9a2e-d70b55ddaee2",
   "metadata": {},
   "source": [
    "Or format the text representing the result:"
   ]
  },
  {
   "cell_type": "code",
   "execution_count": 4,
   "id": "3ce3f5d8-220c-4060-8ecc-c141fde9abab",
   "metadata": {},
   "outputs": [
    {
     "name": "stdout",
     "output_type": "stream",
     "text": [
      "\n",
      "Test of orthogonality (using cross product): \n",
      "e1 x e2: 1 \n",
      "e1 x e3: 1 \n",
      "e2 x e3: 1\n"
     ]
    }
   ],
   "source": [
    "print( '\\nTest of orthogonality (using cross product):',\n",
    "f'\\ne1 x e2: { np.linalg .norm(np.cross(e1, e2)):g}',\n",
    "f'\\ne1 x e3: { np.linalg .norm(np.cross(e1, e3)):g}',\n",
    "f'\\ne2 x e3: { np.linalg .norm(np.cross(e2, e3)):g}')"
   ]
  },
  {
   "cell_type": "markdown",
   "id": "69369af7-548f-447f-ac98-a7b696df1126",
   "metadata": {},
   "source": [
    "Where we used `f'{ :.g }'` to format a number to a string ([more details here](https://docs.python.org/dev/library/stdtypes.html#printf-style-string-formatting) [or here](https://docs.python.org/dev/library/stdtypes.html#printf-style-string-formatting)).\n",
    "\n",
    "For a permanent change, we could use the numpy settings to represent the decimal point precision with the function [`np.set_printoptions `]( https://numpy.org/doc/stable/reference/generated/numpy.set_printoptions.html), but that only works for numpy arrays, not numbers. Or use the IPython magic command [`np.set_printoptions `]( https://numpy.org/doc/stable/reference/generated/numpy.set_printoptions.html), but in this case you cannot use the print function to display the result.\n",
    "\n",
    "### Definition of the origin\n",
    "\n",
    "In order to define a coordinate system using a calculated base, we also need to define an origin. In principle, we could use any point as the origin, but if the calculated coordinate system should follow anatomical conventions, e.g. the origin of the coordinate system should be at the center of a joint, we will need to calculate the base and origin according to the standards used in motion analysis.\n",
    "\n",
    "When the coordinate system is a technical base rather than an anatomical one, a common practice in motion analysis is to define the origin of the coordinate system as the centroid (average) position between the markers in the reference frame. Using the average position across the markers potentially reduces the influence of noise (such as from soft tissue artifact) on the calculation.\n",
    "\n",
    "For the marks in the example above, the origin of the coordinate system will be:"
   ]
  },
  {
   "cell_type": "code",
   "execution_count": 5,
   "id": "a572da54-74ed-4d76-b3cf-6d3d9ac4908a",
   "metadata": {},
   "outputs": [
    {
     "name": "stdout",
     "output_type": "stream",
     "text": [
      "Origin:  [2.33333333 1.66666667 3.33333333]\n"
     ]
    }
   ],
   "source": [
    "origin = np.mean ((m1, m2, m3), axis=0)\n",
    "print( 'Origin: ', origin)"
   ]
  },
  {
   "cell_type": "markdown",
   "id": "43839107-f526-49b2-98e3-e14ce1b1a15a",
   "metadata": {},
   "source": [
    "Draw the coordinate system and base using Python's custom function `CCS.py`.\n",
    "We can copy and paste the contents of the `CCS.py` file here (and run the cell) or we can load the function from a directory, let's do that. First, create a \"functions\" folder and place the `CCS.py` file in it."
   ]
  },
  {
   "cell_type": "code",
   "execution_count": 6,
   "id": "738679bd-7879-4a3b-9f6f-e360587b9788",
   "metadata": {},
   "outputs": [],
   "source": [
    "path2 = r'./functions'\n",
    "import sys\n",
    "sys.path.insert(1, path2)  # přidat do pythonpath\n",
    "from CCS import CCS"
   ]
  },
  {
   "cell_type": "code",
   "execution_count": 7,
   "id": "4adc3919-cd53-4cef-a992-8238aabdc0ed",
   "metadata": {},
   "outputs": [],
   "source": [
    "markers = np.vstack ((m1, m2, m3))\n",
    "basis = np.vstack ((e1, e2, e3))"
   ]
  },
  {
   "cell_type": "markdown",
   "id": "b98ba95b-b3a3-419a-8c3f-deb276176775",
   "metadata": {},
   "source": [
    "#### Coordinate System Visualization\n",
    "\n",
    "To have an interactive matplotlib graph, we need to install the `ipympl` library and restart the Google Colab environment before using it for the first time."
   ]
  },
  {
   "cell_type": "code",
   "execution_count": 8,
   "id": "e6b1a285-45a6-481a-8a1f-b60f7bddd52d",
   "metadata": {},
   "outputs": [],
   "source": [
    "!pip3 install -q ipympl"
   ]
  },
  {
   "cell_type": "code",
   "execution_count": 9,
   "id": "7d141cec-0fdc-423c-9d9f-22ef7ff690c4",
   "metadata": {},
   "outputs": [
    {
     "data": {
      "application/vnd.jupyter.widget-view+json": {
       "model_id": "bb5b2106ee99428a85958780b8756fba",
       "version_major": 2,
       "version_minor": 0
      },
      "image/png": "[encoded data removed]",
      "text/html": [
       "\n",
       "            <div style=\"display: inline-block;\">\n",
       "                <div class=\"jupyter-widgets widget-label\" style=\"text-align: center;\">\n",
       "                    Figure\n",
       "                </div>\n",
       "                <img src='data:image/png;base64,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' width=500.0/>\n",
       "            </div>\n",
       "        "
      ],
      "text/plain": [
       "Canvas(toolbar=Toolbar(toolitems=[('Home', 'Reset original view', 'home', 'home'), ('Back', 'Back to previous …"
      ]
     },
     "metadata": {},
     "output_type": "display_data"
    }
   ],
   "source": [
    "%matplotlib widget  \n",
    "\n",
    "CCS(xyz=[], Oijk=origin, ijk=basis, point=markers, vector=True);"
   ]
  },
  {
   "cell_type": "markdown",
   "id": "7a64e542-4cd8-4e86-be6c-e1073028a4b9",
   "metadata": {},
   "source": [
    "### Gram–Schmidt process\n",
    "\n",
    "Another classic mathematical procedure using the scalar product is known as the [Gram–Schmidt process]( http://en.wikipedia.org/wiki/Gram%E2%80%93Schmidt_process). See the [Gram–Schmidt process]( http://en.wikipedia.org/wiki/Gram%E2%80%93Schmidt_process) wikipedia for an example of the Gram–Schmidt process and how to implement it in Python.\n",
    "\n",
    "The [Gram–Schmidt process]( http://en.wikipedia.org/wiki/Gram%E2%80%93Schmidt_process) is a method for orthonormalizing (orthogonal unit versors) a set of vectors using a dot product. The Gram–Schmidt process works for any number of vectors.\n",
    "\n",
    "For example, given three vectors <span class=\"notranslate\">\n",
    "$\\overrightarrow{\\mathbf{a}}, \\overrightarrow{\\mathbf{b}}, \\overrightarrow{\\mathbf{c }}$ </span>, in 3D space the base $\\{\\vec{e}_a, \\vec{e}_b, \\vec{e}_c\\}$ can be found using the Gram–Schmidt process\n",
    "\n",
    "The first versor is in <span class=\"notranslate\">\n",
    "$\\overrightarrow{\\mathbf{a }}$ </span> direction (or in the direction of any of the other vectors):\n",
    "<br>\n",
    "<span class=\"notranslate\">\n",
    "\\begin{equation}\n",
    "\\vec{e}_a = \\frac{\\overrightarrow{\\mathbf{a} }}{ ||\\overrightarrow{\\mathbf{a}}||}\n",
    "\\end{equation}\n",
    "</span>\n",
    "\n",
    "The second versor, orthogonal to $\\vec{e}_a$, can be found assuming that we can express the vector $\\overrightarrow{\\mathbf{b }}$ in the direction of $\\vec{e}_a$ as:\n",
    "<br>\n",
    "<span class=\"notranslate\">\n",
    "\\begin{equation}\n",
    "\\overrightarrow{\\mathbf{b}} = \\overrightarrow{\\mathbf{b }}^ \\| + \\overrightarrow{\\mathbf{b}}^\\bot\n",
    "\\end{equation}\n",
    "</span>\n",
    "\n",
    "Then:\n",
    "\n",
    "<span class=\"notranslate\">\n",
    "\\begin{equation}\n",
    "\\overrightarrow{\\mathbf{b }}^ \\bot = \\overrightarrow{\\mathbf{b}} - \\overrightarrow{\\mathbf{b}}^\\| = \\overrightarrow{\\mathbf{b}} - (\\overrightarrow{\\mathbf{b}} \\cdot \\vec{e}_a ) \\vec{e}_a\n",
    "\\end{equation}\n",
    "</span>\n",
    "\n",
    "Finally:\n",
    "\n",
    "<span class=\"notranslate\">\n",
    "\\begin{equation}\n",
    "\\vec{e}_b = \\frac{\\overrightarrow{\\mathbf{b }}^ \\bot}{||\\overrightarrow{\\mathbf{b}}^\\bot||}\n",
    "\\end{equation}\n",
    "</span>\n",
    "\n",
    "The third versor, orthogonal to $\\{\\vec{e}_a, \\vec{e}_b \\}$ , can be found expressing the vector $\\overrightarrow{\\mathbf{C}}$ in the directions $\\vec{e}_a$ and $\\vec{e}_b$ as:\n",
    "<br>\n",
    "<span class=\"notranslate\">\n",
    "\\begin{equation}\n",
    "\\overrightarrow{\\mathbf{c}} = \\overrightarrow{\\mathbf{c }}^ \\| + \\overrightarrow{\\mathbf{c}}^\\bot\n",
    "\\end{equation}\n",
    "</span>\n",
    "\n",
    "Then:\n",
    "<span class=\"notranslate\">\n",
    "\\begin{equation}\n",
    "\\overrightarrow{\\mathbf{c }}^ \\bot = \\overrightarrow{\\mathbf{c}} - \\overrightarrow{\\mathbf{c}}^\\|\n",
    "\\end{equation}\n",
    "</span>\n",
    "\n",
    "Where:\n",
    "<span class=\"notranslate\">\n",
    "\\begin{equation}\n",
    "\\overrightarrow{\\mathbf{c }}^ \\| = (\\overrightarrow{\\mathbf{c}} \\cdot \\vec{e}_a ) \\hat{e}_a + (\\overrightarrow{\\mathbf{c}} \\cdot \\vec{e}_b ) \\hat{e}_b\n",
    "\\end{equation}\n",
    "</span>\n",
    "\n",
    "Finally:\n",
    "<span class=\"notranslate\">\n",
    "\\begin{equation}\n",
    "\\vec{e}_c = \\frac{\\overrightarrow{\\mathbf{c }}^ \\bot}{||\\overrightarrow{\\mathbf{c}}^\\bot||}\n",
    "\\end{equation}\n",
    "</span>\n",
    "\n",
    "And an animation of the Gram-Schmidt process in progress:\n",
    "\n",
    "<div class='center-align'><figure><img src=\"https://upload.wikimedia.org/wikipedia/commons/e/ee/Gram-Schmidt_orthonormalization_process.gif\" width=450/><figcaption><center><i>Figure. The Gram-Schmidt process is performed on three base vectors for R3 (<a href=\"https://commons.wikimedia.org/w/index.php?curid=24396471\">image from Wikipedia</a> ).</i></center></figcaption></figure></div>\n",
    "\n",
    "Let's implement the Gram–Schmidt process in Python.\n",
    "\n",
    "For example, given the positions we saw earlier, $\\overrightarrow{\\mathbf{m }}_ 1 = [1,2,5], \\overrightarrow{\\mathbf{m}}_2 = [2,3,3], \\overrightarrow{\\mathbf{m}}_3 = [4,0,2]$, the base can be found with:\n",
    "\n",
    "The first version is:"
   ]
  },
  {
   "cell_type": "code",
   "execution_count": null,
   "id": "ed2702de-a029-4f62-8bf5-93b7bbe4654c",
   "metadata": {},
   "outputs": [],
   "source": []
  },
  {
   "cell_type": "code",
   "execution_count": 10,
   "id": "c31d991c-931c-41da-a67c-07bbca3779a4",
   "metadata": {},
   "outputs": [
    {
     "name": "stdout",
     "output_type": "stream",
     "text": [
      "[0.18257419 0.36514837 0.91287093]\n"
     ]
    }
   ],
   "source": [
    "ea = m1/np.linalg.norm(m1)\n",
    "print(ea)"
   ]
  },
  {
   "cell_type": "markdown",
   "id": "3dc623f2-642a-4073-881c-7da2d1edf74a",
   "metadata": {},
   "source": [
    "The second versor is:"
   ]
  },
  {
   "cell_type": "code",
   "execution_count": 11,
   "id": "9a3ce55d-0947-41c4-93a3-3b4e1bfe46b2",
   "metadata": {},
   "outputs": [
    {
     "name": "stdout",
     "output_type": "stream",
     "text": [
      "[ 0.59020849  0.70186955 -0.39878952]\n"
     ]
    }
   ],
   "source": [
    "eb = m2 - np.dot( m2, ea)*ea\n",
    "eb = eb/np.linalg.norm(eb)\n",
    "print(eb)"
   ]
  },
  {
   "cell_type": "markdown",
   "id": "6ae6408e-c175-45b5-bd90-3a0afc9fa92a",
   "metadata": {},
   "source": [
    "And the third version is:"
   ]
  },
  {
   "cell_type": "code",
   "execution_count": 12,
   "id": "734dd6b5-b19d-4bc6-8639-5eddadaf43e8",
   "metadata": {},
   "outputs": [
    {
     "name": "stdout",
     "output_type": "stream",
     "text": [
      "[ 0.78633365 -0.61159284  0.08737041]\n"
     ]
    }
   ],
   "source": [
    "ec = m3 - np.dot( m3, ea)*ea - np.dot(m3, eb)*eb\n",
    "ec = ec/np.linalg.norm(ec)\n",
    "print(ec)"
   ]
  },
  {
   "cell_type": "markdown",
   "id": "82bc14f5-a8bf-423a-bded-9d21054d39e5",
   "metadata": {},
   "source": [
    "Let's check the orthonormality between these versors:"
   ]
  },
  {
   "cell_type": "code",
   "execution_count": 13,
   "id": "bfd2fa32-432a-428f-8432-70eb7d170daf",
   "metadata": {},
   "outputs": [
    {
     "name": "stdout",
     "output_type": "stream",
     "text": [
      " Versors: \n",
      "ea = [0.18257419 0.36514837 0.91287093] \n",
      "eb = [ 0.59020849  0.70186955 -0.39878952] \n",
      "ec = [ 0.78633365 -0.61159284  0.08737041]\n",
      "\n",
      " Standard of each version: \n",
      " ||ea|| = 1.0 \n",
      " ||eb|| = 1.0 \n",
      " ||ec|| = 1.0\n",
      "\n",
      " Orthogonality test (scalar product): \n",
      " ea . eb: -3.3306690738754696e-16 \n",
      " eb . ec: 5.551115123125783e-17 \n",
      " ec . ea: 8.326672684688674e-17\n"
     ]
    }
   ],
   "source": [
    "print( \" Versors:\", \"\\nea =\", ea, \"\\neb =\", eb, \"\\nec =\", ec)\n",
    "\n",
    "print(\n",
    "\"\\n Standard of each version:\",\n",
    "\"\\n ||ea|| =\",\n",
    "    np.linalg.norm (ea),\n",
    "\"\\n ||eb|| =\",\n",
    "    np.linalg.norm (eb),\n",
    "\"\\n ||ec|| =\",\n",
    "    np.linalg .norm(ec),\n",
    ")\n",
    "\n",
    "print(\n",
    "\"\\n Orthogonality test (scalar product):\",\n",
    "\"\\n ea . eb:\",\n",
    "    np.dot( ea, eb),\n",
    "\"\\n eb . ec:\",\n",
    "    np.dot( eb, ec),\n",
    "\"\\n ec . ea:\",\n",
    "    np.dot( ec, ea),\n",
    ")"
   ]
  },
  {
   "cell_type": "markdown",
   "id": "e2ae2877-6d46-491e-a29b-a3731a0098c2",
   "metadata": {},
   "source": [
    "## "
   ]
  },
  {
   "cell_type": "markdown",
   "id": "259dac48-2b15-48ef-bc79-26883d6d80bb",
   "metadata": {},
   "source": [
    "Spherical coordinate system\n",
    "\n",
    "**Spherical coordinates** are a three-dimensional coordinate system that uses to determine the position of a point in space:\n",
    "\n",
    "* **Radial distance ($\\rho$ ):** The distance of a point from the origin.\n",
    "* **Azimuthal angle ($\\theta$ ):** The angle in the xy plane between the positive x-axis and the projection of a point onto this plane.\n",
    "* **Zenith angle ($\\phi$ ):** The angle between the positive axis behind the line connecting the point with the origin.\n",
    "\n",
    "![ Spherical Coordinate System](https://cdn1.byjus.com/wp-content/uploads/2019/09/Spherical-coordinate-system.png)\n",
    "\n",
    "**Spherical Coordinate Base**\n",
    "\n",
    "The base of spherical coordinates consists of three unit vectors:\n",
    "\n",
    "* **$\\vec{\\mathbf{e }}_ \\rho$:** Directs radially from the origin to the point.\n",
    "* **$\\vec{\\mathbf{e }}_ \\theta$:** Points in the direction of increasing azimuthal angle $\\theta$.\n",
    "* **$\\vec{\\mathbf{e }}_ \\varphi$:** Points in the direction of increasing zenith angle $\\varphi$.\n",
    "\n",
    "This base is orthonormal, meaning that the vectors are mutually perpendicular and have unit magnitude.\n",
    "\n",
    "**Transformation from Cartesian coordinates**\n",
    "\n",
    "To convert Cartesian coordinates ($x, y, z$) to spherical coordinates ($\\rho, \\theta, \\varphi$), the following relations apply:\n",
    "\n",
    "* $\\rho = \\ sqrt{ x^2 + y^2 + z^2}$\n",
    "* $\\theta = \\arctan{\\frac{y}{x }}$\n",
    "* $\\varphi = \\arccos{\\frac{z}{\\rho }}$\n",
    "\n",
    "**Transformation to Cartesian coordinates**\n",
    "\n",
    "The following relations apply to the conversion of spherical coordinates to Cartesian coordinates:\n",
    "* $x = \\rho \\sin{\\varphi} \\cos{\\ theta}$\n",
    "* $y = \\rho \\sin{\\varphi} \\sin{\\ theta}$\n",
    "* $z = \\rho \\cos{\\ varphi}$\n",
    "\n",
    "**Advantages of spherical coordinates:**\n",
    "\n",
    "* ** Symmetry:** They are used advantageously for problems with spherical symmetry (e.g. gravitational field, electrostatic field).\n",
    "* **Simplification of calculations:** In some cases, they can simplify the solution of physics problems.\n",
    "\n",
    "**Disadvantages of spherical coordinates: **\n",
    "\n",
    "* **More complex derivatives:** Calculating gradient, divergence, and rotation in spherical coordinates is more complex than in Cartesian coordinates.\n",
    "* ** Singularities:* * Singularities can occur at the origin (ρ = 0) and at the poles (φ = 0, π).\n",
    "\n",
    "IFrame( 'https://www.geogebra.org/classic/c5nsjx3t?embed', width='100%', height=500)\n",
    "\n",
    "## Cylindrical coordinates\n",
    "\n",
    "Cylindrical coordinates are suitable for systems with cylindrical symmetry. Three coordinates are used:\n",
    "\n",
    "* **Radial distance (ρ ):** The distance of a point from the z-axis.\n",
    "* **Azimuthal angle (θ ):** The angle in the xy plane measured from the positive x-axis.\n",
    "* **Height (z ):** The distance of a point from the xy plane (same as in Cartesian coordinates).\n",
    "\n",
    "![ Cylindrical coordinates](https://upload.wikimedia.org/wikipedia/commons/0/0e/Coord_system_CY_1.svg)\n",
    "\n",
    "**Transformational relationships: **\n",
    "\n",
    "* **From cylindrical to Cartesian:**\n",
    "* $x = \\rho \\cos{\\ theta}$\n",
    "* $y = \\rho \\sin{\\ theta}$\n",
    "* $z = z$\n",
    "* **From Cartesian to Cylindrical:**\n",
    "* $\\rho = \\ sqrt{ x^2 + y^2}$\n",
    "* $\\theta = \\arctan{\\frac{y}{x }}$\n",
    "* $z = z$"
   ]
  },
  {
   "cell_type": "code",
   "execution_count": 14,
   "id": "24a30402-e4ba-4415-ba54-231a2e8037ea",
   "metadata": {},
   "outputs": [
    {
     "data": {
      "text/html": [
       "\n",
       "        <iframe\n",
       "            width=\"100%\"\n",
       "            height=\"500\"\n",
       "            src=\"https://www.geogebra.org/classic/X3j28ZkC?embed\"\n",
       "            frameborder=\"0\"\n",
       "            allowfullscreen\n",
       "            \n",
       "        ></iframe>\n",
       "        "
      ],
      "text/plain": [
       "<IPython.lib.display.IFrame at 0x1778e3f1490>"
      ]
     },
     "execution_count": 14,
     "metadata": {},
     "output_type": "execute_result"
    }
   ],
   "source": [
    "IFrame( 'https://www.geogebra.org/classic/X3j28ZkC?embed', width='100%', height=500)"
   ]
  },
  {
   "cell_type": "markdown",
   "id": "a13b63a0-6372-445c-af9d-8f46ed57f4bc",
   "metadata": {},
   "source": [
    "** Comparison: **\n",
    "\n",
    "| Property | Cartesian | Spherical | Cylindrical |\n",
    "|---|---|---|---|\n",
    "| Symmetry | Rectangular | Spherical | Cylindrical |\n",
    "| Coordinates | x, y, z | ρ, θ, φ | ρ, θ, z |\n",
    "| Usage | General | Spherical symmetry | Cylindrical symmetry |\n",
    "\n",
    "**When to use which system?**\n",
    "\n",
    "* **Cartesian:** Most everyday problems, linear motion.\n",
    "* **Spherical:** Problems with spherical symmetry (e.g. gravity, electrostatics).\n",
    "* **Cylindrical:** Problems with cylindrical symmetry (e.g. fluid flow in pipes).\n",
    "\n",
    "**Why use coordinate systems other than Cartesian?**\n",
    "\n",
    "* **Simplification of calculations:** Problems with certain symmetry may be simpler in other coordinate systems.\n",
    "* **More natural description:** Some physical phenomena are more naturally described in other coordinate systems.\n",
    "\n",
    "\n",
    "## Further reading\n",
    "\n",
    "- [The right frame of reference makes it simple: An example of introductory mechanics supported by video analysis of motion]( https://www.researchgate.net/publication/267761615_The_right_frame_of_reference_makes_it_simple_An_example_of_introductory_mechanics_supported_by_video_analysis_of_motion)\n",
    "\n",
    "\n",
    "## Video lectures on the Internet\n",
    "\n",
    "- [Introduction to reference - Khan Academy]( https://www.khanacademy.org/science/physics/one-dimensional-motion/displacement-velocity-time/v/introduction-to-reference-frames)\n",
    "- [Introduction to orthonormal bases - Khan Academy]( https://www.khanacademy.org/math/linear-algebra/alternate-bases/orthonormal-base/v/linear-algebra-introduction-to-orthonormal-bases)\n",
    "- [The Gram-Schmidt process - Khan Academy]( https://www.khanacademy.org/math/linear-algebra/alternate-bases/orthonormal-base/v/linear-algebra-the-gram-schmidt-process)\n",
    "- [Biomechanics of Movement | Demo: Motion Capture Placement and Reference Frames]( https://youtu.be/ctwoH59Obew)\n",
    "\n",
    "## Problems\n",
    "\n",
    "1. How fast are you moving right now? In your answer, consider your motion relative to the Earth and relative to the Sun.\n",
    "\n",
    "2. Go to the website [ http://www.wisc-online.com/Objects/ViewObject.aspx?ID=AP15305]( http://www.wisc-online.com/Objects/ViewObject.aspx?ID=AP15305 ) and complete the interactive lesson to learn about anatomical terminology for describing relative position in the human body.\n",
    "\n",
    "3. To learn more about Cartesian coordinate systems, go to the website [ http://www.mathsisfun.com/data/cartesian-coordinates.html]( http://www.mathsisfun.com/data/cartesian-coordinates.html ), study the material, and answer the 10 questions at the end.\n",
    "\n",
    "4. Given points in 3D space, m1 = [2, 2, 0], m2 = [0, 1, 1], m3 = [1, 2, 0], find the orthonormal base.\n",
    "\n",
    "5. Determine whether the following points form a base in 3D space, m1 = [2, 2, 0], m2 = [1, 1, 1], m3 = [1, 1, 0].\n",
    "\n",
    "6. Derive expressions for the three axes of the pelvis, taking into account the convention of the project [Virtual Animation of the Kinematics of the Human for Industrial, Educational and Research Purposes (VAKHUM )]( https://github.com/BMClab/BMC/blob/master/courses/refs/VAKHUM.pdf) (each use RASIS, LASIS, RPSIS and LPSIS as names for the pelvic axis landmark and expression).\n",
    "\n",
    "7. Determine the vector base for the pelvis according to the convention of the project [Virtual Animation of the Kinematics of the Human for Industrial, Educational and Research Purposes (VAKHUM )]( https://github.com/BMClab/BMC/blob/master/courses/refs/VAKHUM.pdf) for the following anatomical landmark positions (units in meters): RASIS=[0.5, 4] 0.8, 70 . 0.1], RPSIS = [0.3, 0.85, 0.2], LPSIS = [0.29, 0.78, 0.3].\n",
    "\n",
    "## References\n",
    "\n",
    "- Corke P (2017) [Robotics, Vision and Control: Fundamental Algorithms in MATLAB]( https://petercorke.com/RVC/). 2nd ed. Springer-Verlag Berlin.\n",
    "- [Standards - International Society of Biomechanics]( https://isbweb.org/activities/standards).\n",
    "- The Stanford Encyclopedia of Philosophy. [Space and Time: Inertial Frames]( http://plato.stanford.edu/entries/spacetime-iframes/).\n",
    "- [Virtual Animation of the Kinematics of the Human for Industrial, Educational and Research Purposes (VAKHUM )]( https://github.com/BMClab/BMC/blob/master/courses/refs/VAKHUM.pdf)."
   ]
  }
 ],
 "metadata": {
  "kernelspec": {
   "display_name": "Python 3 (ipykernel)",
   "language": "python",
   "name": "python3"
  },
  "language_info": {
   "codemirror_mode": {
    "name": "ipython",
    "version": 3
   },
   "file_extension": ".py",
   "mimetype": "text/x-python",
   "name": "python",
   "nbconvert_exporter": "python",
   "pygments_lexer": "ipython3",
   "version": "3.12.7"
  }
 },
 "nbformat": 4,
 "nbformat_minor": 5
}
