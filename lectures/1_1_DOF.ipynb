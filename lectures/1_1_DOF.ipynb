{
 "cells": [
  {
   "cell_type": "markdown",
   "id": "34349c52-746f-4974-a4b8-5f25af213059",
   "metadata": {},
   "source": [
    "## Degrees of Freedom\n",
    "\n",
    "> **Degrees of freedom** (DOF) in mechanics is the number of independent parameters that define the configuration of a mechanical system. In other words, it is the number of independent movements that a body can perform.\n",
    "\n",
    "* In a surface, a point has two degrees of freedom\n",
    "* translation along the x-axis and along the y-axis\n",
    "* In a surface, a body has three degrees of freedom\n",
    "* translation along the x-axis, y-axis\n",
    "* rotation around the point."
   ]
  },
  {
   "cell_type": "markdown",
   "id": "2cfad2f8-fed6-431f-a287-dd1b8d900661",
   "metadata": {},
   "source": [
    "<div class='center-align'><figure><img src=\"https://engineeringstatics.org/external/images/DOF-2d.svg\" width=\"300\" alt=\"Body in plane\"/><figcaption><center><i>Body in Plane</i></center></figcaption> </figure></div>\n",
    "\n",
    "        \n"
   ]
  },
  {
   "cell_type": "markdown",
   "id": "7e165926-76d9-4964-a9f0-c4ca28b79575",
   "metadata": {},
   "source": [
    "* In space, a point has three degrees of freedom\n",
    "* displacements along the x, y, z axes\n",
    "* In three-dimensional space, a rigid body has 6 degrees of freedom:\n",
    "* 3 translational (movement along the x, y, z axes)\n",
    "* 3 rotational (rotation around the x, y, z axes)\n",
    "<div class='center-align'><figure><img src=\"https://engineeringstatics.org/external/images/DOF-3d.svg\" width=\"300\" alt=\"Body in plane\"/><figcaption><center><i>Body in Space</i></center></figcaption> </figure></div>\n",
    "\n",
    "\n",
    "| Dimensionality | Object | Number of degrees of freedom | Description |\n",
    "|---|---|---|---|\n",
    "| 2D | Point | 2 | Displacements along the x and y axes |\n",
    "| 2D | Solid | 3 | Translation in x and y axes, rotation around z axis |\n",
    "| 3D | Point | 3 | Translation in x, y and z axes |\n",
    "| 3D | Solid | 6 | Translation in x, y and z axes, rotation around x, y and z axes |"
   ]
  },
  {
   "cell_type": "markdown",
   "id": "bcf8ae54-e324-4f91-b300-060985c6f1de",
   "metadata": {},
   "source": [
    "# Constraint\n",
    "\n",
    "> **Constraint** limits or prohibits some degrees of freedom of a body.\n",
    "\n",
    "* **Geometric constraints**: Rigid connections between bodies, contact surfaces, joints.\n",
    "* **Force constraints**: The action of external forces that limit movement (e.g., gravity).\n",
    "* **Kinematic constraints**: Limitations given by the prescribed movement of parts of the system.\n",
    "\n",
    "## Examples of constraints\n",
    "\n",
    "* **Joint**: A joint allows rotation around one axis, but limits displacement in other directions. An example is a door hinge or a knee joint.\n",
    "* **Sliding support**: A sliding support allows displacement in one direction, but limits displacement in other directions and rotation. An example is a piston in an engine.\n",
    "* **Fixation**: A fixation limits all displacements and rotations at a given point. An example is a beam fixed to a wall.\n",
    "* **Rope**: A rope limits displacement in the direction of the rope's pull, but does not limit displacement in the perpendicular direction.\n",
    "* **Support**: A support limits displacement in one or more directions, depending on the type of support. An example is a bridge support.\n",
    "* **Contact surface**: The contact surface between two bodies limits displacement in the direction perpendicular to the surface.\n",
    "\n",
    "![image](https://www.researchgate.net/publication/360839815/figure/fig3/AS:11431281245062021@1716029495485/Common-mechanical-joints-supported-by-our-computational-approach-R-DOF-and-T-DOF-below_W640.jpg)\n",
    "---\n",
    "Constraints\n",
    "\n",
    "Contraints with specified translational (T-DOF) and rotational (R-DOF) degrees of freedom.\n",
    "\n",
    "## Division of constraints\n",
    "\n",
    "Contraints can be divided according to various criteria:\n",
    "\n",
    "* **By type of constraint**:\n",
    "    * **Holonomic constraints**: Constrain the position of the body.\n",
    "    * **Non-holonomic constraints**: Constrain the velocity or acceleration of the body.\n",
    "    * **Scleronomic bonds**: Do not depend on time.\n",
    "    * **Rheonomic bonds**: Do depend on time.\n",
    "* **By energy dissipation**:\n",
    "    * **Ideal bonds**: Do not perform work.\n",
    "    * **Real bonds**: Perform work (e.g. friction).\n",
    "    * **By number of constraints**:\n",
    "    * **Unilateral bonds**: Restrict movement in only one direction.\n",
    "    * **Bilateral bonds**: Restrict movement in both directions."
   ]
  },
  {
   "cell_type": "markdown",
   "id": "b05e957d-7580-442b-bc72-171a35a741c7",
   "metadata": {},
   "source": [
    "### Statically Determinate and Indeterminate Systems\n",
    "\n",
    "For a body to be in static equilibrium, all possible motions must be adequately constrained. If the degrees of freedom are not constrained, the body is in an unstable state and can move freely in one or more ways. Stability is highly desirable for safety reasons, and bodies are often constrained by **redundant constraints**, so that even if one fails, the body would still remain stable. If the constraints are interpreted correctly, then equal numbers of constraints and degrees of freedom create a stable system, and the values ​​of the reaction forces and moments can be determined using the equations of equilibrium. If the number of constraints exceeds the number of degrees of freedom, the body is in equilibrium, but you will need techniques that go beyond the equations of equilibrium in statics to determine the reactions.\n",
    "\n",
    "In mechanics, we distinguish two basic types of static systems according to the relationship between the number of unknown reactions and the number of static equilibrium equations:\n",
    "\n",
    "1. **Statically determinate system**\n",
    "* **Definition:** A system where the number of unknown reaction forces and moments is **equal** to the number of static equilibrium equations.\n",
    "* **Solution:** All unknown reactions can be determined only using the static equilibrium equations.\n",
    "* **Example:** A simple beam with one hinged and one sliding support.\n",
    "\n",
    "2. **Statically indeterminate system**\n",
    "* **Definition:** A system where the number of unknown reaction forces and moments is **greater** than the number of static equilibrium equations.\n",
    "* **Solution:** The static equilibrium equations alone are not sufficient to determine all unknown reactions. It is necessary to take into account the deformation behavior of the material and the geometry of the system.\n",
    "* **Solution methods:** Compatibility equations, finite element method.\n",
    "* **Example:** Continuous beam with multiple supports.\n",
    "* **Degree of static uncertainty:** Difference between number of unknowns and number of equations.\n",
    "\n",
    "| System type | Characteristics | Solutions | Examples |\n",
    "|---|---|---|---|\n",
    "| Statically determinate | Number of unknowns = number of equations | Equation of equilibrium is sufficient | Simple beam with 2 supports |\n",
    "| Statically indeterminate | Number of unknowns > number of equations | Required deformation conditions | Embedded beam with support| beam"
   ]
  },
  {
   "cell_type": "markdown",
   "id": "6e04f888-8076-4c85-9916-dc98264b2d9d",
   "metadata": {},
   "source": [
    "DOF is defined by [Chebychev–Grübler–Kutzbach criterion](https://en.wikipedia.org/wiki/Chebychev%E2%80%93Gr%C3%BCbler%E2%80%93Kutzbach_criterion) also known as **mobility criterion**."
   ]
  },
  {
   "cell_type": "code",
   "execution_count": null,
   "id": "87ffa491-e8fe-4c48-a780-06ebff6a1795",
   "metadata": {},
   "outputs": [],
   "source": []
  }
 ],
 "metadata": {
  "kernelspec": {
   "display_name": "Python 3 (ipykernel)",
   "language": "python",
   "name": "python3"
  },
  "language_info": {
   "codemirror_mode": {
    "name": "ipython",
    "version": 3
   },
   "file_extension": ".py",
   "mimetype": "text/x-python",
   "name": "python",
   "nbconvert_exporter": "python",
   "pygments_lexer": "ipython3",
   "version": "3.12.7"
  }
 },
 "nbformat": 4,
 "nbformat_minor": 5
}
