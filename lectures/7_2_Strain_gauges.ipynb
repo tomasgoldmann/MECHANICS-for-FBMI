{
 "cells": [
  {
   "cell_type": "markdown",
   "id": "c5fb2abf-b9ad-49cc-873d-e54694cec10e",
   "metadata": {},
   "source": [
    "## Principle of a strain gauge\n",
    "\n",
    "> A strain gauge (strain sensor) is a device used to **measure the deformation (stretching or compression) of a material**. It works on the principle of a change in **electrical resistance**, **capacitance**, or **optical properties**, which are related to a change in the length of the material.\n",
    "\n",
    "For the most commonly used **resistance strain gauges**, the following relationship applies:\n",
    "\n",
    "$$\n",
    "\\Delta R = R k \\varepsilon\n",
    "$$\n",
    "\n",
    "where:\n",
    "- $\\Delta R$ is the change in resistance,\n",
    "- $R$ is the original resistance of the strain gauge,\n",
    "- $k$ is the strain gauge factor (characterizes the sensitivity of the transducer),\n",
    "- $\\varepsilon$ is the relative deformation ($\\varepsilon = \\frac{\\Delta l}{l}$).\n",
    "\n",
    "Strain gauges are glued to the surface of the material and, when loaded, change their resistance proportionally to the deformation. This change is measured by a Wheatstone bridge, which converts the resistance change into a voltage signal.\n",
    "\n",
    "<div class='center-align'><figure><img src=\"https://blog.endaq.com/hs-fs/hubfs/Blog-Images/Strain%20Gauges/compression-and-tension-experienced-on-strain-gauge.png?width=1091&name=compression-and-tension-experienced-on-strain-gauge.png?revision=1&size=bestfit&width=800&height=398\" width=\"500\" ></figure></div>\n",
    "\n",
    "## Types of strain gauges\n",
    "\n",
    "Strain gauges are divided according to the measurement principle and material:\n",
    "\n",
    "### Electrical strain gauges\n",
    "1. **Resistance strain gauges** – the most common, measure the change in electrical resistance during deformation.\n",
    "- **Metal foil strain gauges** – accurate, durable, used in industry and biomechanics.\n",
    "- **Semiconductor strain gauges** – higher sensitivity, but nonlinear response.\n",
    "\n",
    "2. **Inductive Strain Gauges** – use the change in inductance of a coil during deformation.\n",
    "\n",
    "3. **Capacitive Strain Gauges** – measure the change in capacitance between two electrodes.\n",
    "\n",
    "### Optical Strain Gauges\n",
    "1. **Fiber Bragg Grating (FBG) Strain Gauges** – measure the change in wavelength of light in optical fibers.\n",
    "2. **Holographic Interferometry** – uses laser interference patterns to measure deformation.\n",
    "\n",
    "### Mechanical Strain Gauges\n",
    "1. **Lever Strain Gauges** – use the mechanical conversion of deformation into visible displacement.\n",
    "2. **Hydraulic Strain Gauges** – measure the pressure of a liquid by changing its volume during deformation.\n",
    "\n",
    "## Strain Gauge Rosette\n",
    "\n",
    "![](https://theinstrumentguru.com/wp-content/uploads/2022/04/Strain-Guage-Rosette-configuration-2048x626.jpg)\n",
    "\n",
    "A strain gauge rosette is an arrangement of two or more strain gauges that are placed close together and measure deformations in different directions of a given component. **A single strain gauge can only effectively measure deformation in one direction**, so using multiple strain gauges allows for more measurements and provides a more accurate assessment of surface tension.\n",
    "\n",
    "Strain gauge roses are particularly used **when the direction of deformation is unknown or when the principal axis of deformation in a component is unknown**.\n",
    "It can be shown that for the general case of a plane biaxial strain state with unknown principal directions, three independent stress measurements in different directions are required to determine the dominant strains and stresses.\n",
    "\n",
    "Even if the main deformation directions are known in advance, **at least two independent measurements are required to determine the main deformations**."
   ]
  },
  {
   "cell_type": "code",
   "execution_count": null,
   "id": "1437b7a9-e5cf-4b4a-8d80-3371f7fc60b1",
   "metadata": {},
   "outputs": [],
   "source": []
  }
 ],
 "metadata": {
  "kernelspec": {
   "display_name": "Python 3 (ipykernel)",
   "language": "python",
   "name": "python3"
  },
  "language_info": {
   "codemirror_mode": {
    "name": "ipython",
    "version": 3
   },
   "file_extension": ".py",
   "mimetype": "text/x-python",
   "name": "python",
   "nbconvert_exporter": "python",
   "pygments_lexer": "ipython3",
   "version": "3.12.7"
  }
 },
 "nbformat": 4,
 "nbformat_minor": 5
}
