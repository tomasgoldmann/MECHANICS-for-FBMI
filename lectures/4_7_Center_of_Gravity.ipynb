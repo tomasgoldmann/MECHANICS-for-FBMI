{
 "cells": [
  {
   "cell_type": "markdown",
   "id": "a27a3d7a-6eea-4335-bca7-e754a7ff55ea",
   "metadata": {},
   "source": [
    "# Center of gravity"
   ]
  },
  {
   "cell_type": "markdown",
   "id": "5d5d5d0c-70cc-4a4a-842b-9091c6bec984",
   "metadata": {},
   "source": [
    "> The center of gravity is the point at which the total mass of a body or system of bodies is concentrated.\n",
    "\n",
    "The center of gravity is the point at which a body behaves as if all its mass were concentrated there and is a key concept in statics and dynamics.\n",
    "\n",
    "#### Discrete Objects\n",
    "\n",
    "For a system of discrete objects (e.g. particles) with masses $m_i$ and position vectors $\\vec{r}_i$, the position of the center of mass $\\vec{r}_T$ is given by the relation:\n",
    "\n",
    "$$\\vec{r}_T = \\frac{\\sum\\limits_{i=1}^{n} m_i \\vec{r}_i}{\\sum\\limits_{i=1}^{n} m_i}$$\n",
    "\n",
    "where:\n",
    "\n",
    "* $n$ is the number of objects\n",
    "* $m_i$ is the mass of the ith object\n",
    "* $\\vec{r}_i$ is the position vector of the ith object\n",
    "\n",
    "In Cartesian coordinates, we can write this relation for the individual axes:\n",
    "\n",
    "$$x_T = \\frac{\\sum_{i=1}^{n} m_i x_i}{\\sum_{i=1}^{n} m_i}$$\n",
    "\n",
    "$$y_T = \\frac{\\sum_{i=1}^{n} m_i y_i}{\\sum_{i=1}^{n} m_i}$$\n",
    "\n",
    "$$z_T = \\frac{\\sum_{i=1}^{n} m_i z_i}{\\sum_{i=1}^{n} m_i}$$\n",
    "\n",
    "#### Continuous objects (integrals)\n",
    "\n",
    "For continuous objects (e.g. bodies with variable density), the center of mass is calculated using integrals:\n",
    "\n",
    "$$\\vec{r}_T = \\frac{\\int \\vec{r} \\, dm}{\\int dm} = \\frac{\\int \\vec{r} \\, \\rho \\, dV}{\\int \\rho \\, dV}$$\n",
    "\n",
    "where:\n",
    "\n",
    "* $dm$ is the mass element\n",
    "* $\\rho$ is the density of the body\n",
    "* $dV$ is the volume element\n",
    "\n",
    "In Cartesian coordinates:\n",
    "\n",
    "$$x_T = \\frac{\\int x \\, dm}{\\int dm} = \\frac{\\int x \\, \\rho \\, dV}{\\int \\rho \\, dV}$$\n",
    "\n",
    "$$y_T = \\frac{\\int y \\, dm}{\\int dm} = \\frac{\\int y \\, \\rho \\, dV}{\\int \\rho \\, dV}$$\n",
    "\n",
    "$$z_T = \\frac{\\int z \\, dm}{\\int dm} = \\frac{\\int z \\, \\rho \\, dV}{\\int \\rho \\, dV}$$\n",
    "\n",
    "For homogeneous bodies (constant density), the density $\\rho$ is reduced and the calculation is simplified to:\n",
    "\n",
    "$$x_T = \\frac{\\int x \\, dV}{\\int dV}$$\n",
    "\n",
    "$$y_T = \\frac{\\int y \\, dV}{\\int dV}$$\n",
    "\n",
    "$$z_T = \\frac{\\int z \\, dV}{\\int dV}$$\n",
    "\n",
    "where $\\int dV$ is the total volume of the body."
   ]
  },
  {
   "cell_type": "code",
   "execution_count": null,
   "id": "462c6cab-6a00-43e9-9401-b4ec9dfae152",
   "metadata": {},
   "outputs": [],
   "source": []
  }
 ],
 "metadata": {
  "kernelspec": {
   "display_name": "Python 3 (ipykernel)",
   "language": "python",
   "name": "python3"
  },
  "language_info": {
   "codemirror_mode": {
    "name": "ipython",
    "version": 3
   },
   "file_extension": ".py",
   "mimetype": "text/x-python",
   "name": "python",
   "nbconvert_exporter": "python",
   "pygments_lexer": "ipython3",
   "version": "3.12.7"
  }
 },
 "nbformat": 4,
 "nbformat_minor": 5
}
