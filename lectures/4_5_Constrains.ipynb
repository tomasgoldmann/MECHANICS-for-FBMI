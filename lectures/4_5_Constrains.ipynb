{
 "cells": [
  {
   "cell_type": "markdown",
   "id": "adbdbeec-0973-49db-9f28-9868e2e02493",
   "metadata": {},
   "source": [
    "# Constraints in the plane\n",
    "\n",
    "Constraints serve to prevent movement, i.e. they remove (cancel) *r* degrees of freedom.\n",
    "\n",
    "* The number of degrees the constraint cancels is the number of reaction components that arise.\n",
    "* In the calculation, we release the constraints and replace them with forces (moments), the magnitudes of the reactions are unknown, the positive direction of the reactions is often chosen in the direction of the axes.\n",
    "\n",
    "1. **Sliding joint in a plane**\n",
    "* $R_z$ removes one degree of freedom ($r = 1$)\n",
    "* One reaction occurs in the direction of the Z axis.\n",
    "\n",
    "2. **Fixed joint in a plane**\n",
    "* Removes two degrees of freedom ($r = 2$), allows rotation\n",
    "* $R_z$, $R_x$\n",
    "\n",
    "3. **Swinging rod in a plane or space**\n",
    "* Removes one degree of freedom ($r = 1$)\n",
    "* Other names: strut, strut (pressure), rod (tension), rod\n",
    "* It is created by the hinged support of a plate, body on both sides\n",
    "* Guides the object along a circle (spherical surface)\n",
    "* If no transverse load is applied, the perpendicular reactions are zero (moment equilibrium condition to the joint)\n",
    "\n",
    "4. **Stuck**\n",
    "* Removes all degrees of freedom ($r = 3$) - ​​$R_z$, $R_x, M$\n",
    "* Causes reaction forces in two perpendicular directions and reaction moment.\n",
    "\n",
    "# Principle of relaxation\n",
    "\n",
    "> The principle of relaxation consists in replacing the constraints acting on the body with the forces and moments that these constraints cause.\n",
    "\n",
    "1. **Identification of constraints:** Determine all constraints acting on the body. Constraints limit the movement of the body and cause reaction forces and moments.\n",
    "2. **Relaxation of the body:** Remove all constraints and replace them with reaction forces and moments. The direction and magnitude of these reactions are usually unknown.\n",
    "3. **Choosing a coordinate system:** Choose a suitable coordinate system in which you will solve the equilibrium equations.\n",
    "4. **Building equilibrium equations:** Build static equilibrium equations for the relaxed body. These equations express the conditions that must be met for the body to be in equilibrium.\n",
    "5. **Solving equations:** Solve the equilibrium equations and determine the unknown reaction forces and moments."
   ]
  },
  {
   "cell_type": "code",
   "execution_count": null,
   "id": "211dc832-ab57-4286-b27a-e27ee83b23b3",
   "metadata": {},
   "outputs": [],
   "source": []
  }
 ],
 "metadata": {
  "kernelspec": {
   "display_name": "Python 3 (ipykernel)",
   "language": "python",
   "name": "python3"
  },
  "language_info": {
   "codemirror_mode": {
    "name": "ipython",
    "version": 3
   },
   "file_extension": ".py",
   "mimetype": "text/x-python",
   "name": "python",
   "nbconvert_exporter": "python",
   "pygments_lexer": "ipython3",
   "version": "3.12.7"
  }
 },
 "nbformat": 4,
 "nbformat_minor": 5
}
