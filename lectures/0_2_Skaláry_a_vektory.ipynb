{
 "cells": [
  {
   "cell_type": "markdown",
   "metadata": {
    "slideshow": {
     "slide_type": "slide"
    }
   },
   "source": [
    "# Skalár a vektor\n",
    "\n",
    "připraveno na základě podkladů [Marcos Duarte, Renato Naville Watanabe, Laboratory of Biomechanics and Motor Control](https://nbviewer.org/github/BMClab/BMC/blob/master/notebooks/ScalarVector.ipynb)"
   ]
  },
  {
   "cell_type": "markdown",
   "metadata": {
    "slideshow": {
     "slide_type": "slide"
    }
   },
   "source": [
    "Python velmi dobře zpracovává všechny matematické operace s číselnými skaláry a vektory a pro podobné věci můžete použít [Sympy](http://sympy.org), ale s abstraktními symboly. Podívejme se stručně skaláry a vektory a ukážeme, jak používat Python pro numerický výpočet.\n",
    "\n",
    "Přehled o skalárech a vektorech viz kapitola 2 [Andy Ruina and Rudra Pratap: Introduction to Statics and Dynamics](http://ruina.tam.cornell.edu/Book/index.html)."
   ]
  },
  {
   "cell_type": "markdown",
   "metadata": {},
   "source": [
    "## Nastavení Pythonu"
   ]
  },
  {
   "cell_type": "code",
   "execution_count": 4,
   "metadata": {
    "ExecuteTime": {
     "end_time": "2020-09-25T18:14:33.148480Z",
     "start_time": "2020-09-25T18:14:33.145872Z"
    }
   },
   "outputs": [],
   "source": [
    "from IPython.display import IFrame\n",
    "import math\n",
    "import numpy as np"
   ]
  },
  {
   "cell_type": "markdown",
   "metadata": {
    "slideshow": {
     "slide_type": "slide"
    }
   },
   "source": [
    "## Skalární veličina\n",
    "\n",
    "> **Skalární veličina** je fyzikální veličina, která je plně určena jediným číselným údajem a jednotkou. To znamená, že k jejímu popisu stačí uvést, jaká je její velikost. Na rozdíl od vektorových veličin, které mají kromě velikosti také směr, skaláry nemají žádné směrové vlastnosti.\n",
    "\n",
    "**Příklady skalárních veličin:**\n",
    "- Délka: Například délka tužky je 15 cm.\n",
    "- Hmotnost: Hmotnost knihy je 500 gramů.\n",
    "- Čas: Doba trvání filmu je 2 hodiny.\n",
    "- Teplota: Teplota vody je 20 stupňů Celsia.\n",
    "- Energie: Kinetická energie pohybujícího se tělesa je 100 Joule.\n",
    "\n",
    "**Grafické znázornění skalárů**\n",
    "Skaláry se obvykle graficky znázorňují pouze jako čísla s příslušnou jednotkou. Na rozdíl od vektorů, které se znázorňují jako úsečky s orientací, skaláry nemají žádný směr, a proto je jejich grafické znázornění jednoduché.\n",
    "\n",
    "### Skalární operace v Pythonu\n",
    "\n",
    "Jednoduché aritmetické operace se skaláry jsou skutečně jednoduché:"
   ]
  },
  {
   "cell_type": "code",
   "execution_count": 6,
   "metadata": {
    "ExecuteTime": {
     "end_time": "2020-09-25T18:14:33.156785Z",
     "start_time": "2020-09-25T18:14:33.152486Z"
    },
    "slideshow": {
     "slide_type": "fragment"
    }
   },
   "outputs": [
    {
     "name": "stdout",
     "output_type": "stream",
     "text": [
      "a = 2 , b = 5\n",
      "a + b = 7\n",
      "a - b = -3\n",
      "a * b = 10\n",
      "a / b = 0.4\n",
      "a ** b = 32\n",
      "sqrt(b) = 2.23606797749979\n"
     ]
    }
   ],
   "source": [
    "a = 2\n",
    "b = 5\n",
    "print('a =', a, ', b =', b)\n",
    "print('a + b =', a + b)\n",
    "print('a - b =', a - b)\n",
    "print('a * b =', a * b)\n",
    "print('a / b =', a / b)\n",
    "print('a ** b =', a ** b)\n",
    "print('sqrt(b) =', math.sqrt(b))"
   ]
  },
  {
   "cell_type": "markdown",
   "metadata": {
    "slideshow": {
     "slide_type": "slide"
    }
   },
   "source": [
    "Pokud máte sadu čísel nebo pole, je pravděpodobně lepší použít NUMPY; Bude to rychlejší pro velké soubory dat a v kombinaci se Scipy, má mnohem více matematických funkcí."
   ]
  },
  {
   "cell_type": "code",
   "execution_count": 8,
   "metadata": {
    "ExecuteTime": {
     "end_time": "2020-09-25T18:14:33.164182Z",
     "start_time": "2020-09-25T18:14:33.159233Z"
    },
    "slideshow": {
     "slide_type": "fragment"
    }
   },
   "outputs": [
    {
     "name": "stdout",
     "output_type": "stream",
     "text": [
      "a = 2 , b = [3 4 5 6 7 8]\n",
      "a + b = [ 5  6  7  8  9 10]\n",
      "a - b = [-1 -2 -3 -4 -5 -6]\n",
      "a * b = [ 6  8 10 12 14 16]\n",
      "a / b = [0.66666667 0.5        0.4        0.33333333 0.28571429 0.25      ]\n",
      "a ** b = [  8  16  32  64 128 256]\n",
      "np.sqrt(b) = [1.73205081 2.         2.23606798 2.44948974 2.64575131 2.82842712]\n"
     ]
    }
   ],
   "source": [
    "a = 2\n",
    "b = [3, 4, 5, 6, 7, 8]\n",
    "b = np.array(b)\n",
    "print('a =', a, ', b =', b)\n",
    "print('a + b =', a + b)\n",
    "print('a - b =', a - b)\n",
    "print('a * b =', a * b)\n",
    "print('a / b =', a / b)\n",
    "print('a ** b =', a ** b)\n",
    "print('np.sqrt(b) =', np.sqrt(b))  # Použijte funkce numpy pro numpy pole"
   ]
  },
  {
   "cell_type": "markdown",
   "metadata": {
    "slideshow": {
     "slide_type": "slide"
    }
   },
   "source": [
    "Numpy provádí aritmetické operace jediného čísla v `a` se všemi čísly pole` b`. Tomu se říká v informatice pojmem *broadcasting*.\n",
    "I když máte dvě pole (ale musí mít stejnou velikost), Numpy pravidla platí pro vás:"
   ]
  },
  {
   "cell_type": "code",
   "execution_count": 10,
   "metadata": {
    "ExecuteTime": {
     "end_time": "2020-09-25T18:14:33.169496Z",
     "start_time": "2020-09-25T18:14:33.165541Z"
    },
    "slideshow": {
     "slide_type": "fragment"
    }
   },
   "outputs": [
    {
     "name": "stdout",
     "output_type": "stream",
     "text": [
      "a = [1 2 3] , b = [4 5 6]\n",
      "a + b = [5 7 9]\n",
      "a - b = [-3 -3 -3]\n",
      "a * b = [ 4 10 18]\n",
      "a / b = [0.25 0.4  0.5 ]\n",
      "a ** b = [  1  32 729]\n"
     ]
    }
   ],
   "source": [
    "a = np.array([1, 2, 3])\n",
    "b = np.array([4, 5, 6])\n",
    "print('a =', a, ', b =', b)\n",
    "print('a + b =', a + b)\n",
    "print('a - b =', a - b)\n",
    "print('a * b =', a * b)\n",
    "print('a / b =', a / b)\n",
    "print('a ** b =', a ** b)"
   ]
  },
  {
   "cell_type": "markdown",
   "metadata": {},
   "source": [
    "## Extenzivní a intenzivní veličiny\n",
    "\n",
    "V termodynamice a fyzice obecně rozlišujeme dva základní typy veličin: extenzivní a intenzivní. Toto rozdělení je důležité pro pochopení chování systémů a jejich vlastností.\n",
    "\n",
    "### Extenzivní veličiny\n",
    "\n",
    "* **Definice:** Extenzivní veličiny jsou takové, jejichž hodnota závisí na velikosti systému, tedy na množství látky nebo hmotnosti. Pokud zdvojnásobíme množství látky v systému, zdvojnásobí se i hodnota extenzivní veličiny.\n",
    "\n",
    "* **Příklady:**\n",
    "    * **Hmotnost (m):** Celková hmotnost tělesa.\n",
    "    * **Objem (V):** Prostor, který těleso zabírá.\n",
    "    * **Energie (E):** Celková energie systému (vnitřní energie, kinetická energie, potenciální energie).\n",
    "    * **Entropie (S):** Míra neuspořádanosti systému.\n",
    "    * **Náboj (Q):** Celkový elektrický náboj.\n",
    "    * **Délka (l):** Rozměr tělesa.\n",
    "\n",
    "### Intenzivní veličiny\n",
    "\n",
    "* **Definice:** Intenzivní veličiny jsou takové, jejichž hodnota nezávisí na velikosti systému. Zůstávají stejné, i když změníme množství látky v systému.\n",
    "\n",
    "* **Příklady:**\n",
    "    * **Teplota (T):** Míra horkosti nebo chladu.\n",
    "    * **Tlak (p):** Síla působící na jednotku plochy.\n",
    "    * **Hustota (ρ):** Hmotnost na jednotku objemu.\n",
    "    * **Měrná tepelná kapacita (c):** Množství tepla potřebné k ohřátí jednotky hmotnosti o 1 stupeň.\n",
    "    * **Koncentrace (c):** Množství látky v daném objemu.\n",
    "\n",
    "### Vztah mezi extenzivními a intenzivními veličinami\n",
    "\n",
    "* Poměr dvou extenzivních veličin dává často intenzivní veličinu (např. hustota = hmotnost/objem).\n",
    "* Intenzivní veličiny jsou \"kvalitativní\" vlastnosti, zatímco extenzivní veličiny jsou \"kvantitativní\".\n",
    "\n",
    "### Praktický význam\n",
    "\n",
    "Rozlišení mezi extenzivními a intenzivními veličinami je klíčové pro správné pochopení a popis termodynamických systémů a procesů. Umožňuje nám například:\n",
    "\n",
    "* Vytvářet termodynamické modely a rovnice.\n",
    "* Porovnávat vlastnosti různých látek.\n",
    "* Předpovídat chování systémů při změnách podmínek."
   ]
  },
  {
   "attachments": {},
   "cell_type": "markdown",
   "metadata": {
    "slideshow": {
     "slide_type": "slide"
    }
   },
   "source": [
    "## Vektor\n",
    "\n",
    "> **Vektorová veličina** je fyzikální veličina, která je charakterizována nejen svou velikostí, ale také směrem.\n",
    "\n",
    "Co to znamená?\n",
    "\n",
    "**Velikost**: Určuje \"intenzitu\" nebo \"množství\" této veličiny. Například rychlost 50 km/h udává velikost rychlosti.\n",
    "**Směr**: Určuje, kam veličina \"směřuje\" nebo \"působí\". Například rychlost 50 km/h na východ udává jak velikost, tak i směr pohybu.\n",
    "Grafické znázornění:\n",
    "\n",
    "Vektor se graficky znázorňuje jako **orientovaná úsečka**.\n",
    "\n",
    "\n",
    "Délka úsečky představuje velikost vektoru.\n",
    "Směr úsečky (a šipka na jejím konci) představuje směr vektoru.\n",
    "\n",
    "Symboly pro vektory jsou obvykle v knihách tištěny tučně, jako **a**. Mezi další zvyklosti označování patří $\\vec {a}$. Aby jsme předešli nedorozumění budeme v našem kurzu označovat vektory $\\vec{\\mathbf{a}}$. \n",
    "\n",
    "Například zvažte polohu bodu v prostoru představovaném vektorem:\n",
    "\n",
    "![image.png](https://fyzweb.cz/materialy/sily/sourad/sourad1.gif)\n",
    "\n",
    "Pozice bodu představovaného vektorem v karteziánském souřadném systému.\n",
    "\n",
    "Poloha bodu (vektor) výše může být reprezentována jako n -tice hodnot:\n",
    "\n",
    "$$ (x,\\: y,\\: z) \\; \\Rightarrow \\; (5, 3, -2) $$ \n",
    "\n",
    "nebo ve formě matice:\n",
    "\n",
    "$$ \\begin{bmatrix} x \\\\y \\\\z \\end{bmatrix} \\;\\; \\Rightarrow  \\;\\; \\begin{bmatrix} 1 \\\\3 \\\\2 \\end{bmatrix}$$\n",
    "\n",
    "Můžeme použít pole Numpy k reprezentaci komponent vektorů. \n",
    "Například pro výše uvedený vektor je vyjádřen v Pythonu jako:"
   ]
  },
  {
   "cell_type": "code",
   "execution_count": 13,
   "metadata": {
    "ExecuteTime": {
     "end_time": "2020-09-25T18:14:33.172492Z",
     "start_time": "2020-09-25T18:14:33.170590Z"
    },
    "slideshow": {
     "slide_type": "fragment"
    }
   },
   "outputs": [
    {
     "name": "stdout",
     "output_type": "stream",
     "text": [
      "a = [1 3 2]\n"
     ]
    }
   ],
   "source": [
    "a = np.array([1, 3, 2])\n",
    "print('a =', a)"
   ]
  },
  {
   "cell_type": "code",
   "execution_count": null,
   "metadata": {},
   "outputs": [],
   "source": [
    "Vektor může být také reprezentován jako:\n",
    "$$ \\overrightarrow{\\mathbf{a}} = a_x\\hat{\\mathbf{i}} + a_y\\hat{\\mathbf{j}} + a_z\\hat{\\mathbf{k}} $$ \n",
    "\n",
    "kde vektory <span class = \"notranSlate\"> $ \\vec{\\mathbf{i}}, \\, \\vec{\\mathbf{j}}, \\, \\vec{\\mathbf{k}} \\, $ jsou jednotkové vektory ve směru jednotlivých souřadnicových os a jsou obvykle reprezentovány v barevné sekvenci **rgb** (červená, zelená, modrá) pro snadnější vizualizaci. Násobek $a_x \\vec{\\mathbf{i}}, \\: a_y \\vec{\\mathbf{j}}, \\: a_z \\vec{\\mathbf{k}} $ jsou vektorové komponenty vektoru  $\\vec{\\mathbf{a}}$ .\n",
    "\n",
    "Jednotkový vektor (můžete se setkat také s označením verzor) je vektor, jehož délka (nebo norma) je 1."
   ]
  },
  {
   "cell_type": "code",
   "execution_count": 15,
   "metadata": {},
   "outputs": [
    {
     "data": {
      "text/html": [
       "\n",
       "        <iframe\n",
       "            width=\"100%\"\n",
       "            height=\"500\"\n",
       "            src=\"https://www.geogebra.org/classic/ydu8a7t7?embed\"\n",
       "            frameborder=\"0\"\n",
       "            allowfullscreen\n",
       "            \n",
       "        ></iframe>\n",
       "        "
      ],
      "text/plain": [
       "<IPython.lib.display.IFrame at 0x1bb590eb980>"
      ]
     },
     "execution_count": 15,
     "metadata": {},
     "output_type": "execute_result"
    }
   ],
   "source": [
    "IFrame('https://www.geogebra.org/classic/ydu8a7t7?embed', width='100%', height=500)"
   ]
  },
  {
   "cell_type": "markdown",
   "metadata": {},
   "source": [
    "## Násobení vektoru skalárem\n",
    "\n",
    "U složek vektoru ${a_x}\\vec{\\mathbf{i}}$ jsme již využili násobení vektoru $\\vec{\\mathbf{i}}$ číslem $a_x$.\n",
    "\n",
    "> Násobení vektoru skalárem je operace, která mění velikost vektoru, ale ne jeho směr. Můžeme si to představit jako \"natažení\" nebo \"zkrácení\" vektoru.\n",
    "\n",
    "**Jak to funguje**:\n",
    "- **Zvětšení:** Když násobíme vektor kladným skalárem (číslem větším než 1), zvětšíme jeho velikost. Je to jako bychom vektor \"natahovali\".\n",
    "- **Zmenšení:** Když násobíme vektor kladným skalárem mezi 0 a 1, zmenšíme jeho velikost. Je to jako bychom vektor \"zkracovali\".\n",
    "- **Změna směru:** Když násobíme vektor záporným skalárem, změníme jeho směr na opačný. Je to jako bychom vektor \"otočili\" o 180 stupňů. Velikost vektoru se přitom může také změnit v závislosti na absolutní hodnotě skaláru."
   ]
  },
  {
   "cell_type": "code",
   "execution_count": 17,
   "metadata": {},
   "outputs": [
    {
     "name": "stdout",
     "output_type": "stream",
     "text": [
      "a * b = [4 2]\n",
      "a * b = [1.  0.5]\n",
      "a * d = [-2 -1]\n"
     ]
    }
   ],
   "source": [
    "a = np.array([2,1])\n",
    "b = 2\n",
    "c = 0.5\n",
    "d = -1\n",
    "print('a * b =', a* b)\n",
    "print('a * b =', a * c)\n",
    "print('a * d =', a * d)"
   ]
  },
  {
   "cell_type": "code",
   "execution_count": 18,
   "metadata": {},
   "outputs": [
    {
     "data": {
      "text/html": [
       "\n",
       "        <iframe\n",
       "            width=\"100%\"\n",
       "            height=\"500\"\n",
       "            src=\"https://www.geogebra.org/classic/HYZXHadK?embed\"\n",
       "            frameborder=\"0\"\n",
       "            allowfullscreen\n",
       "            \n",
       "        ></iframe>\n",
       "        "
      ],
      "text/plain": [
       "<IPython.lib.display.IFrame at 0x1bb5ad2a0f0>"
      ]
     },
     "execution_count": 18,
     "metadata": {},
     "output_type": "execute_result"
    }
   ],
   "source": [
    "IFrame('https://www.geogebra.org/classic/HYZXHadK?embed', width='100%', height=500)"
   ]
  },
  {
   "cell_type": "markdown",
   "metadata": {},
   "source": [
    "Jestliže máme vektor $\\vec{{\\mathbf{a}}}$, existuje k němu opačný vektor $-\\vec{{\\mathbf{a}}}$. Pro tento vektor platí:\n",
    "$$\\vec{{\\mathbf{a}}} + (-\\vec{{\\mathbf{a}}}) = \\vec{{\\mathbf{0}}}$$\n",
    "kde $\\vec{{\\mathbf{0}}}$ je nulový vektor $\\vec{{\\mathbf{0}}} = (0,0,0)$. "
   ]
  },
  {
   "cell_type": "markdown",
   "metadata": {
    "slideshow": {
     "slide_type": "slide"
    }
   },
   "source": [
    "Násobení skalárem funguje v Pythonu jednoduše jako násobení pole. Protože však nyní jednáme s vektory, nyní některé operace nedávají smysl. Například pro dvojici vektorů neexistují žádné násobení, dělení, síla a druhou odmocninu ve způsobu, jakým jsme vypočítali.\n",
    "\n",
    "Jednotkový vektor $\\vec{\\mathbf{u}}$ nenulového vektoru $\\vec{\\mathbf{a}}$ je jednotkový vektor se stejným směrem:\n",
    "\n",
    "$$ \\mathbf{\\vec{u}} = \\frac{\\overrightarrow{\\mathbf{a}}}{||\\overrightarrow{\\mathbf{a}}||} = \\frac{a_x\\,\\hat{\\mathbf{i}} + a_y\\,\\vec{\\mathbf{j}} + a_z\\, \\vec{\\mathbf{k}}}{\\sqrt{a_x^2+a_y^2+a_z^2}} $$"
   ]
  },
  {
   "cell_type": "markdown",
   "metadata": {
    "slideshow": {
     "slide_type": "slide"
    }
   },
   "source": [
    "### Velikost (délka nebo norma) vektoru\n",
    "\n",
    "Velikost (délka) vektoru je často reprezentována symbolem $ || \\; || $, také známou jako norma (nebo euklidovská norma) vektoru a je definována jako:\n",
    "$$ ||\\overrightarrow{\\mathbf{a}}|| = \\sqrt{a_x^2+a_y^2+a_z^2} $$\n",
    "Funkce `numpy.linalg.norm` počítá normu:"
   ]
  },
  {
   "cell_type": "code",
   "execution_count": 22,
   "metadata": {
    "ExecuteTime": {
     "end_time": "2020-09-25T18:14:33.178718Z",
     "start_time": "2020-09-25T18:14:33.173437Z"
    },
    "slideshow": {
     "slide_type": "fragment"
    }
   },
   "outputs": [
    {
     "data": {
      "text/plain": [
       "3.7416573867739413"
      ]
     },
     "execution_count": 22,
     "metadata": {},
     "output_type": "execute_result"
    }
   ],
   "source": [
    "a = np.array([1, 2, 3])\n",
    "np.linalg.norm(a)"
   ]
  },
  {
   "cell_type": "markdown",
   "metadata": {
    "slideshow": {
     "slide_type": "fragment"
    }
   },
   "source": [
    "Nebo můžeme definici použít přímo a spočítat:"
   ]
  },
  {
   "cell_type": "code",
   "execution_count": 24,
   "metadata": {
    "ExecuteTime": {
     "end_time": "2020-09-25T18:14:33.183016Z",
     "start_time": "2020-09-25T18:14:33.180543Z"
    },
    "slideshow": {
     "slide_type": "fragment"
    }
   },
   "outputs": [
    {
     "data": {
      "text/plain": [
       "3.7416573867739413"
      ]
     },
     "execution_count": 24,
     "metadata": {},
     "output_type": "execute_result"
    }
   ],
   "source": [
    "np.sqrt(np.sum(a*a))"
   ]
  },
  {
   "cell_type": "markdown",
   "metadata": {
    "slideshow": {
     "slide_type": "slide"
    }
   },
   "source": [
    "Poté, verzor (jedotkový vektor) pro vektor $ \\overrightarrow{\\mathbf{a}} = (1, 2, 3)$ je:"
   ]
  },
  {
   "cell_type": "code",
   "execution_count": 26,
   "metadata": {
    "ExecuteTime": {
     "end_time": "2020-09-25T18:14:33.186129Z",
     "start_time": "2020-09-25T18:14:33.183859Z"
    },
    "slideshow": {
     "slide_type": "fragment"
    }
   },
   "outputs": [
    {
     "name": "stdout",
     "output_type": "stream",
     "text": [
      "u = [0.26726124 0.53452248 0.80178373]\n"
     ]
    }
   ],
   "source": [
    "a = np.array([1, 2, 3])\n",
    "u = a/np.linalg.norm(a)\n",
    "print('u =', u)"
   ]
  },
  {
   "cell_type": "markdown",
   "metadata": {
    "slideshow": {
     "slide_type": "slide"
    }
   },
   "source": [
    "A můžeme ověřit, že jeho velikost je skutečně 1:"
   ]
  },
  {
   "cell_type": "code",
   "execution_count": 28,
   "metadata": {
    "ExecuteTime": {
     "end_time": "2020-09-25T18:14:33.189322Z",
     "start_time": "2020-09-25T18:14:33.187221Z"
    },
    "slideshow": {
     "slide_type": "fragment"
    }
   },
   "outputs": [
    {
     "data": {
      "text/plain": [
       "1.0"
      ]
     },
     "execution_count": 28,
     "metadata": {},
     "output_type": "execute_result"
    }
   ],
   "source": [
    "np.linalg.norm(u)"
   ]
  },
  {
   "cell_type": "markdown",
   "metadata": {
    "slideshow": {
     "slide_type": "skip"
    }
   },
   "source": [
    "Ale reprezentace vektoru jako n-tice hodnot je platná pouze pro vektor s jeho působištěm, který se shoduje s počátkem souřadnicového systému $ (0, 0, 0) $.\n",
    "Například zvažte následující vektor:\n",
    "![vektor v prostoru](https://images.nagwa.com/figures/explainers/694162356987/6.svg)\n",
    "\n",
    "Takový vektor nelze reprezentovat $(B_x, B_y, B_z)$, protože by to bylo pro vektor od původu do bodu B., aby přesně reprezentoval tento vektor, který potřebujeme dva vektory $\\vec{OB}$ a $\\vec{OA}$. Tato skutečnost je důležitá, když provádíme některé výpočty v mechanice."
   ]
  },
  {
   "cell_type": "markdown",
   "metadata": {
    "slideshow": {
     "slide_type": "slide"
    }
   },
   "source": [
    "### Sčítání a odečítání vektorů"
   ]
  },
  {
   "cell_type": "markdown",
   "metadata": {
    "slideshow": {
     "slide_type": "fragment"
    }
   },
   "source": [
    "Sčítáním dvou vektorů získáme další vektor:\n",
    "$$ \\overrightarrow{\\mathbf{a}} + \\overrightarrow{\\mathbf{b}} = (a_x\\vec{\\mathbf{i}} + a_y\\vec{\\mathbf{j}} + a_z\\vec{\\mathbf{k}}) + (b_x\\vec{\\mathbf{i}} + b_y\\vec{\\mathbf{j}} + b_z\\vec{\\mathbf{k}}) = \n",
    "(a_x+b_x)\\vec{\\mathbf{i}} + (a_y+b_y)\\vec{\\mathbf{j}} + (a_z+b_z)\\vec{\\mathbf{k}} $$\n",
    "\n",
    "V maticovém zápisu to bude vypadat:\n",
    "$$\\begin{bmatrix} a_x \\\\ a_y \\\\ a_z \\end{bmatrix}  +  \\begin{bmatrix} b_x \\\\ b_y \\\\ b_z \\end{bmatrix} = \\begin{bmatrix} a_x + b_x \\\\ a_y + b_y \\\\ a_z + b_z \\end{bmatrix}$$\n"
   ]
  },
  {
   "cell_type": "markdown",
   "metadata": {},
   "source": [
    "Metoda rovnoběžníku je grafická metoda, která nám umožňuje názorně sčítat dva vektory.\n",
    "\n",
    "**Postup:**\n",
    "1. Nakreslení vektorů: Oba vektory, které chceme sčítat, nakreslíme tak, aby jejich počáteční body splývaly.\n",
    "2. Sestrojení rovnoběžníku: Z koncových bodů obou vektorů sestrojíme rovnoběžníky. Tj. z koncového bodu prvního vektoru sestrojíme přímku rovnoběžnou s druhým vektorem a naopak. Tím vznikne rovnoběžník.\n",
    "3. Výsledný vektor: Úhlopříčka rovnoběžníku, která vychází z bodu, kde se oba vektory setkávají, představuje výsledný vektor (vektorový součet)."
   ]
  },
  {
   "cell_type": "code",
   "execution_count": 33,
   "metadata": {},
   "outputs": [
    {
     "data": {
      "text/html": [
       "\n",
       "        <iframe\n",
       "            width=\"100%\"\n",
       "            height=\"500\"\n",
       "            src=\"https://www.geogebra.org/classic/FCknj7c3?embed\"\n",
       "            frameborder=\"0\"\n",
       "            allowfullscreen\n",
       "            \n",
       "        ></iframe>\n",
       "        "
      ],
      "text/plain": [
       "<IPython.lib.display.IFrame at 0x1bb59872cc0>"
      ]
     },
     "execution_count": 33,
     "metadata": {},
     "output_type": "execute_result"
    }
   ],
   "source": [
    "IFrame('https://www.geogebra.org/classic/FCknj7c3?embed', width='100%', height=500)"
   ]
  },
  {
   "cell_type": "markdown",
   "metadata": {},
   "source": [
    "V prostoru metoda rovnoběžníku funguje stejně, ale musíme jeho konstrukci provést v rovině určené oběma vektory. Proto se v prostoru raděi spoléháme na výpočet"
   ]
  },
  {
   "cell_type": "code",
   "execution_count": 35,
   "metadata": {},
   "outputs": [
    {
     "data": {
      "text/html": [
       "\n",
       "        <iframe\n",
       "            width=\"100%\"\n",
       "            height=\"500\"\n",
       "            src=\"https://www.geogebra.org/classic/gkhaxb2b?embed\"\n",
       "            frameborder=\"0\"\n",
       "            allowfullscreen\n",
       "            \n",
       "        ></iframe>\n",
       "        "
      ],
      "text/plain": [
       "<IPython.lib.display.IFrame at 0x1bb5ae46fc0>"
      ]
     },
     "execution_count": 35,
     "metadata": {},
     "output_type": "execute_result"
    }
   ],
   "source": [
    "IFrame('https://www.geogebra.org/classic/gkhaxb2b?embed', width='100%', height=500)"
   ]
  },
  {
   "cell_type": "markdown",
   "metadata": {
    "slideshow": {
     "slide_type": "slide"
    }
   },
   "source": [
    "Odčítání dvou vektorů je také dalším vektorem:\n",
    "\n",
    "$$ \\overrightarrow{\\mathbf{a}} - \\overrightarrow{\\mathbf{b}} = (a_x\\vec{\\mathbf{i}} + a_y\\vec{\\mathbf{j}} + a_z\\vec{\\mathbf{k}}) - (b_x\\vec{\\mathbf{i}} + b_y\\vec{\\mathbf{j}} + b_z\\vec{\\mathbf{k}}) = \n",
    "(a_x-b_x)\\vec{\\mathbf{i}} + (a_y-b_y)\\vec{\\mathbf{j}} + (a_z-b_z)\\vec{\\mathbf{k}} $$\n",
    "\n",
    "V maticovém zápisu to bude vypadat:\n",
    "$$\\begin{bmatrix} a_x \\\\ a_y \\\\ a_z \\end{bmatrix}  -  \\begin{bmatrix} b_x \\\\ b_y \\\\ b_z \\end{bmatrix} = \\begin{bmatrix} a_x - b_x \\\\ a_y - b_y \\\\ a_z - b_z \\end{bmatrix}$$"
   ]
  },
  {
   "cell_type": "markdown",
   "metadata": {
    "slideshow": {
     "slide_type": "slide"
    }
   },
   "source": [
    "Zvažte dvě 2D pole (řádky a sloupce) představující polohu dvou objektů pohybujících se v prostoru. Sloupce představují vektorové komponenty a řádky hodnot polohového vektoru v různých okamžicích. Je snadné provést sčítání a odčítání s těmito vektory:"
   ]
  },
  {
   "cell_type": "code",
   "execution_count": 38,
   "metadata": {
    "ExecuteTime": {
     "end_time": "2020-09-25T18:14:33.194357Z",
     "start_time": "2020-09-25T18:14:33.190817Z"
    },
    "slideshow": {
     "slide_type": "fragment"
    }
   },
   "outputs": [
    {
     "name": "stdout",
     "output_type": "stream",
     "text": [
      "a = [[1 2 3]\n",
      " [1 1 1]] \n",
      "b = [[4 5 6]\n",
      " [7 8 9]]\n",
      "a + b = [[ 5  7  9]\n",
      " [ 8  9 10]]\n",
      "a - b = [[-3 -3 -3]\n",
      " [-6 -7 -8]]\n"
     ]
    }
   ],
   "source": [
    "a = np.array([[1, 2, 3], [1, 1, 1]])\n",
    "b = np.array([[4, 5, 6], [7, 8, 9]])\n",
    "print('a =', a, '\\nb =', b)\n",
    "print('a + b =', a + b)\n",
    "print('a - b =', a - b)"
   ]
  },
  {
   "cell_type": "markdown",
   "metadata": {
    "slideshow": {
     "slide_type": "slide"
    }
   },
   "source": [
    "Numpy zvládne n-dimenzionální pole s velikostí omezenou dostupnou pamětí v počítači.\n",
    "\n",
    "A můžeme provádět operace na každém vektoru, například vypočítat normu každého z nich.\n",
    "Nejprve zkontrolujeme tvar proměnné `a` pomocí metody„ tvar “nebo funkce` numpy.shape`:"
   ]
  },
  {
   "cell_type": "code",
   "execution_count": 40,
   "metadata": {
    "ExecuteTime": {
     "end_time": "2020-09-25T18:14:33.198858Z",
     "start_time": "2020-09-25T18:14:33.195818Z"
    },
    "slideshow": {
     "slide_type": "fragment"
    }
   },
   "outputs": [
    {
     "name": "stdout",
     "output_type": "stream",
     "text": [
      "(2, 3)\n",
      "(2, 3)\n"
     ]
    }
   ],
   "source": [
    "print(a.shape)\n",
    "print(np.shape(a))"
   ]
  },
  {
   "cell_type": "markdown",
   "metadata": {
    "slideshow": {
     "slide_type": "slide"
    }
   },
   "source": [
    "To znamená, že proměnná `A` má 2 řádky a 3 sloupce.\n",
    "Musíme sdělit funkci `numpy.norm` pro výpočet normy pro každý vektor, tj. Abychom fungovali skrz sloupce proměnné` a` pomocí paraneter `osy`:"
   ]
  },
  {
   "cell_type": "code",
   "execution_count": 42,
   "metadata": {
    "ExecuteTime": {
     "end_time": "2020-09-25T18:14:33.203908Z",
     "start_time": "2020-09-25T18:14:33.200760Z"
    },
    "slideshow": {
     "slide_type": "fragment"
    }
   },
   "outputs": [
    {
     "data": {
      "text/plain": [
       "array([3.74165739, 1.73205081])"
      ]
     },
     "execution_count": 42,
     "metadata": {},
     "output_type": "execute_result"
    }
   ],
   "source": [
    "np.linalg.norm(a, axis=1)"
   ]
  },
  {
   "cell_type": "markdown",
   "metadata": {},
   "source": [
    "### Vektor mezi dvěma danými body \n",
    "\n",
    "podle [Lesson Explainer: Vectors in Space](https://www.nagwa.com/en/explainers/694162356987/)\n",
    "\n",
    "Začněme uvažováním dvou odlišných bodů a v prostoru, jak je znázorněno na obrázku.\n",
    "![body AB](https://images.nagwa.com/figures/explainers/694162356987/5.svg)\n",
    "\n",
    "Chceme sestrojit vektor z $A$ do $B$, který je označen $\\vec{AB}$\n",
    "![vektor AB](https://images.nagwa.com/figures/explainers/694162356987/6.svg)\n",
    "\n",
    "Abychom toho dosáhli, můžeme cestovat přes počátek, jak je znázorněno na obrázku níže. Můžeme jít z bodu $O$ do bodu $A$ a pak z bodu $O$ do bodu\n",
    "$B$. \n",
    "![vektor AB](https://images.nagwa.com/figures/explainers/694162356987/7.svg)\n",
    "\n",
    "To lze zapsat jako následující rovnici pomocí vektorů: \n",
    "$$\\vec{AB} = \\vec{AO} + \\vec{OB} $$\n",
    "Pro jakýkoli bod $A$ platí\n",
    "$$\\vec{AO} = - \\vec{OA}$$\n",
    "Tuto vlastnost můžeme použít k přepsání naší rovnice takto: \n",
    "$$\\vec{AB} = -\\vec{OA} + \\vec{BO} $$\n",
    "Vektor $\\vec{AB}$ je tak možné vyjádřit\n",
    "\n",
    "$$\\vec{AB} =  \\vec{BO} - \\vec{OA}  = \\vec{\\mathbf{B}} - \\vec{\\mathbf{A}}$$\\\n",
    "Vektor mezi dvěma body můžeme získat tak, že od polohového vektoru konečného bodu odčítáme polohový vektor počátečního bodu. "
   ]
  },
  {
   "cell_type": "code",
   "execution_count": 44,
   "metadata": {},
   "outputs": [
    {
     "data": {
      "text/html": [
       "\n",
       "        <iframe\n",
       "            width=\"100%\"\n",
       "            height=\"500\"\n",
       "            src=\"https://www.geogebra.org/classic/NrzgxrQa?embed\"\n",
       "            frameborder=\"0\"\n",
       "            allowfullscreen\n",
       "            \n",
       "        ></iframe>\n",
       "        "
      ],
      "text/plain": [
       "<IPython.lib.display.IFrame at 0x1bb593f7ec0>"
      ]
     },
     "execution_count": 44,
     "metadata": {},
     "output_type": "execute_result"
    }
   ],
   "source": [
    "IFrame('https://www.geogebra.org/classic/NrzgxrQa?embed', width='100%', height=500)"
   ]
  },
  {
   "cell_type": "markdown",
   "metadata": {
    "slideshow": {
     "slide_type": "slide"
    }
   },
   "source": [
    "## Skalární součin\n",
    "\n",
    "> Skalární součin je operace, která přiřazuje dvěma vektorům jediné číslo (skalár).\n",
    "\n",
    "Toto číslo nám poskytuje informaci o tom, jak moc jsou tyto dva vektory \"souhlasné\" neboli jak moc \"směřují stejným směrem\". Skalární součin umožňuje vypočítat projekci jednoho vektoru na druhý. Tato projekce nám říká, jak velká část jednoho vektoru \"směřuje\" ve směru druhého vektoru.\n",
    "\n",
    "**Matematický zápis**\n",
    "Skalární součin vektorů $\\vec{\\mathbf{u}}$ a $\\vec{\\mathbf{v}}$ se značí $\\vec{\\mathbf{u}} \\cdot \\vec{\\mathbf{u}}$.\n",
    "\n",
    "Definujme skalární součin jednotkových vektorů v pravoúhlém souřadnicovém systému. \n",
    "$$ \\vec{\\mathbf{i}} \\cdot \\vec{\\mathbf{i}} = \\vec{\\mathbf{j}} \\cdot \\vec{\\mathbf{j}} = \\vec{\\mathbf{k}} \\cdot \\vec{\\mathbf{k}}= 1 \\quad \\text{a} \\quad \\vec{\\mathbf{i}} \\cdot \\vec{\\mathbf{j}} = \\vec{\\mathbf{i}} \\cdot \\vec{\\mathbf{k}} = \\vec{\\mathbf{j}} \\cdot \\vec{\\mathbf{k}} = 0 $$\n",
    "\n",
    "PSkalární součin mezi dvěma vektory je matematická operace algebraicky definovaná jako součet násobků jednotlivých složek (v každém směru) obou vektorů. \n",
    " $$ \\overrightarrow{\\mathbf{a}} \\cdot \\overrightarrow{\\mathbf{b}} = (a_x\\,\\vec{\\mathbf{i}}+a_y\\,\\vec{\\mathbf{j}}+a_z\\,\\vec{\\mathbf{k}}) \\cdot (b_x\\,\\vec{\\mathbf{i}}+b_y\\,\\vec{\\mathbf{j}}+b_z\\,\\vec{\\mathbf{k}}) = a_x b_x + a_y b_y + a_z b_z $$\n",
    "\n",
    "Geometrický ekvivalent skalární součinu je násobek velikostí dvou vektorů a kosinunu úhlu mezi nimi:\n",
    "$$ \\overrightarrow{\\mathbf{a}} \\cdot \\overrightarrow{\\mathbf{b}} = ||\\overrightarrow{\\mathbf{a}}||\\:||\\overrightarrow{\\mathbf{b}}||\\:cos(\\theta) $$\n",
    "\n",
    "\n",
    "Což je také ekvivalentní tomu, že skalární součin vektoru  $\\overrightarrow{\\mathbf{a}}$ and $\\overrightarrow{\\mathbf{b}}$ je velikostí vektoru $\\overrightarrow{\\mathbf{a}}$  a velikostí složky $\\overrightarrow{\\mathbf{b}}$  paralelní s $\\overrightarrow{\\mathbf{a}}$\n",
    "\n",
    "V maticovém zápisu můžeme zapsat jako násobení dvojice vektorů\n",
    " $$ \\overrightarrow{\\mathbf{a}} \\cdot \\overrightarrow{\\mathbf{b}} =  \\begin{bmatrix} a_x \\\\ a_y \\\\ a_z \\end{bmatrix}  \\begin{bmatrix} b_x \\\\ b_y \\\\ b_z \\end{bmatrix}^T = \\begin{bmatrix} a_x \\\\ a_y \\\\ a_z \\end{bmatrix} [b_x, b_y, b_z]$$\n"
   ]
  },
  {
   "cell_type": "markdown",
   "metadata": {
    "slideshow": {
     "slide_type": "skip"
    }
   },
   "source": [
    "V této interaktivní animaci lze vizualizovat skalární součin mezi dvěma vektory:"
   ]
  },
  {
   "cell_type": "code",
   "execution_count": 47,
   "metadata": {
    "ExecuteTime": {
     "end_time": "2020-09-25T18:14:33.207047Z",
     "start_time": "2020-09-25T18:14:33.204984Z"
    },
    "slideshow": {
     "slide_type": "skip"
    }
   },
   "outputs": [
    {
     "data": {
      "text/html": [
       "\n",
       "        <iframe\n",
       "            width=\"100%\"\n",
       "            height=\"500\"\n",
       "            src=\"https://www.geogebra.org/classic/ncdf2jsw?embed\"\n",
       "            frameborder=\"0\"\n",
       "            allowfullscreen\n",
       "            \n",
       "        ></iframe>\n",
       "        "
      ],
      "text/plain": [
       "<IPython.lib.display.IFrame at 0x1bb59179340>"
      ]
     },
     "execution_count": 47,
     "metadata": {},
     "output_type": "execute_result"
    }
   ],
   "source": [
    "IFrame('https://www.geogebra.org/classic/ncdf2jsw?embed',\n",
    "       width='100%', height=500)"
   ]
  },
  {
   "cell_type": "markdown",
   "metadata": {
    "slideshow": {
     "slide_type": "slide"
    }
   },
   "source": [
    "Numpy funkce pro skalární součin je `numpy.dot`:"
   ]
  },
  {
   "cell_type": "code",
   "execution_count": 49,
   "metadata": {
    "ExecuteTime": {
     "end_time": "2020-09-25T18:14:33.211082Z",
     "start_time": "2020-09-25T18:14:33.208103Z"
    },
    "slideshow": {
     "slide_type": "fragment"
    }
   },
   "outputs": [
    {
     "name": "stdout",
     "output_type": "stream",
     "text": [
      "a = [1 2 3] \n",
      "b = [4 5 6]\n",
      "np.dot(a, b) = 32\n"
     ]
    }
   ],
   "source": [
    "a = np.array([1, 2, 3])\n",
    "b = np.array([4, 5, 6])\n",
    "print('a =', a, '\\nb =', b)\n",
    "print('np.dot(a, b) =', np.dot(a, b))"
   ]
  },
  {
   "cell_type": "markdown",
   "metadata": {
    "slideshow": {
     "slide_type": "slide"
    }
   },
   "source": [
    "Nebo můžeme definici použít přímo a spočítat přímo:"
   ]
  },
  {
   "cell_type": "code",
   "execution_count": 51,
   "metadata": {
    "ExecuteTime": {
     "end_time": "2020-09-25T18:14:33.215843Z",
     "start_time": "2020-09-25T18:14:33.212582Z"
    },
    "slideshow": {
     "slide_type": "fragment"
    }
   },
   "outputs": [
    {
     "data": {
      "text/plain": [
       "32"
      ]
     },
     "execution_count": 51,
     "metadata": {},
     "output_type": "execute_result"
    }
   ],
   "source": [
    "np.sum(a*b)"
   ]
  },
  {
   "cell_type": "markdown",
   "metadata": {
    "slideshow": {
     "slide_type": "slide"
    }
   },
   "source": [
    "Pro 2D pole vykonává funkce `numpy.dot` spíše násobení než skalárního součinu; Pojďme tedy použít funkci `numpy.sum`:"
   ]
  },
  {
   "cell_type": "code",
   "execution_count": 53,
   "metadata": {
    "ExecuteTime": {
     "end_time": "2020-09-25T18:14:33.221604Z",
     "start_time": "2020-09-25T18:14:33.217193Z"
    },
    "slideshow": {
     "slide_type": "fragment"
    }
   },
   "outputs": [
    {
     "data": {
      "text/plain": [
       "array([32, 24])"
      ]
     },
     "execution_count": 53,
     "metadata": {},
     "output_type": "execute_result"
    }
   ],
   "source": [
    "a = np.array([[1, 2, 3], [1, 1, 1]])\n",
    "b = np.array([[4, 5, 6], [7, 8, 9]])\n",
    "np.sum(a*b, axis=1)"
   ]
  },
  {
   "cell_type": "markdown",
   "metadata": {
    "slideshow": {
     "slide_type": "slide"
    }
   },
   "source": [
    "## Vektorový součin\n",
    "\n",
    "> Vektorový součin je binární operace definovaná ve třírozměrném euklidovském prostoru, která přiřadí dvěma vektorům nový vektor, který je na ně oba kolmý. Na rozdíl od skalárního součinu, jehož výsledkem je číslo (skalár), výsledkem vektorového součinu je opět vektor.\n",
    "\n",
    "**Matematický zápis**\n",
    "Vektorový součin vektorů $\\vec{\\mathbf{a}}$ a $\\vec{\\mathbf{b}}$ se značí $\\vec{\\mathbf{a}} \\times \\vec{\\mathbf{b}}$.\n",
    "\n",
    "**Geometrická interpretace**\n",
    "- **Směr**: Výsledný vektor je kolmý k rovině určené vektory $\\vec{\\mathbf{a}}$ a $\\vec{\\mathbf{b}}$. Jeho směr se určuje pomocí pravidla pravé ruky: Pokud prsty pravé ruky ohneme od vektoru u k vektoru v, ukazuje nám palec směr výsledného vektoru.\n",
    "\n",
    "![pravidlo pravé ruky](https://www.ck12.org//flx/show/THUMB_POSTCARD/image/user%3Af99688690816/28.43.2.png)\n",
    "\n",
    "- **Velikost**: Velikost výsledného vektoru je rovna ploše rovnoběžníku určeného vektory $\\vec{\\mathbf{a}}$ a $\\vec{\\mathbf{b}}$.\n",
    "\n",
    "  $$ \\overrightarrow{\\mathbf{a}} \\times \\overrightarrow{\\mathbf{b}} = ||\\overrightarrow{\\mathbf{a}}||\\:||\\overrightarrow{\\mathbf{b}}||\\:sin(\\theta) $$\n",
    "\n",
    "<br>\n",
    "<figure><img src=\"http://upload.wikimedia.org/wikipedia/commons/4/4e/Cross_product_parallelogram.svg\" width=160 alt=\"Vector subtraction\"/><figcaption><i>Obr. Plocha rovnoběžníku je rovna velikosti vektorového součinu(zdroj Wikipedia).</i>\n",
    "</figcaption></figure>\n",
    "\n",
    "**Analytické vyjádření**\n",
    "\n",
    "Definujme vektorový součin jednotkových vektorů:\n",
    "$$ \\begin{array}{l l}\n",
    "\\vec{\\mathbf{i}} \\times \\vec{\\mathbf{i}} = \\vec{\\mathbf{j}} \\times \\vec{\\mathbf{j}} = \\vec{\\mathbf{k}} \\times \\vec{\\mathbf{k}} = 0 \\\\\n",
    "\\vec{\\mathbf{i}} \\times \\vec{\\mathbf{j}} = \\vec{\\mathbf{k}}, \\quad \\vec{\\mathbf{k}} \\times \\vec{\\mathbf{k}} = \\vec{\\mathbf{i}}, \\quad \\vec{\\mathbf{k}} \\times \\vec{\\mathbf{i}} = \\vec{\\mathbf{j}} \\\\\n",
    "\\vec{\\mathbf{j}} \\times \\vec{\\mathbf{i}} = -\\vec{\\mathbf{k}}, \\quad \\vec{\\mathbf{k}} \\times \\vec{\\mathbf{j}}= -\\vec{\\mathbf{i}}, \\quad \\vec{\\mathbf{i}} \\times \\vec{\\mathbf{k}} = -\\vec{\\mathbf{j}}\n",
    "\\end{array} $$\n",
    "\n",
    "získáme pak\n",
    "\n",
    "$$ \\overrightarrow{\\mathbf{a}} \\times \\overrightarrow{\\mathbf{b}} = (a_x\\,\\vec{\\mathbf{i}} + a_y\\,\\vec{\\mathbf{j}} + a_z\\,\\vec{\\mathbf{k}}) \\times (b_x\\,\\vec{\\mathbf{i}}+b_y\\,\\vec{\\mathbf{j}}+b_z\\,\\vec{\\mathbf{k}}) = (a_y b_z-a_z b_y)\\vec{\\mathbf{i}} + (a_z b_x-a_x b_z)\\vec{\\mathbf{j}}+(a_x b_y- a_y b_x)\\vec{\\mathbf{k}} $$\n",
    "\n",
    "Vektorový součin lze také vypočítat jako determinant matice:\n",
    "$$ \\overrightarrow{\\mathbf{a}} \\times \\overrightarrow{\\mathbf{b}} = \\left| \\begin{array}{ccc}\n",
    "\\vec{\\mathbf{i}} & \\vec{\\mathbf{j}} & \\vec{\\mathbf{k}} \\\\\n",
    "a_x & a_y & a_z \\\\\n",
    "b_x & b_y & b_z \n",
    "\\end{array} \\right|\n",
    "= a_y b_z \\vec{\\mathbf{i}} + a_z b_x \\vec{\\mathbf{j}} +  a_x b_y \\vec{\\mathbf{k}} - a_y b_x \\vec{\\mathbf{k}}-a_z b_y \\vec{\\mathbf{i}} - a_x b_z \\vec{\\mathbf{j}} $$\n",
    "$$\\overrightarrow{\\mathbf{a}} \\times \\overrightarrow{\\mathbf{b}} = (a_y b_z-a_z b_y)\\vec{\\mathbf{i}} + (a_z b_x-a_x b_z)\\vec{\\mathbf{j}} + (a_x b_y-a_y b_x)\\vec{\\mathbf{k}} $$\n"
   ]
  },
  {
   "cell_type": "markdown",
   "metadata": {
    "slideshow": {
     "slide_type": "skip"
    }
   },
   "source": [
    "V této interaktivní animaci lze vizualizovat vektorový součin mezi dvěma vektory:"
   ]
  },
  {
   "cell_type": "code",
   "execution_count": 56,
   "metadata": {
    "ExecuteTime": {
     "end_time": "2020-09-25T18:14:33.226252Z",
     "start_time": "2020-09-25T18:14:33.223372Z"
    },
    "slideshow": {
     "slide_type": "skip"
    }
   },
   "outputs": [
    {
     "data": {
      "text/html": [
       "\n",
       "        <iframe\n",
       "            width=\"100%\"\n",
       "            height=\"500\"\n",
       "            src=\"https://www.geogebra.org/classic/cz6v2U99?embed\"\n",
       "            frameborder=\"0\"\n",
       "            allowfullscreen\n",
       "            \n",
       "        ></iframe>\n",
       "        "
      ],
      "text/plain": [
       "<IPython.lib.display.IFrame at 0x1bb590eb1d0>"
      ]
     },
     "execution_count": 56,
     "metadata": {},
     "output_type": "execute_result"
    }
   ],
   "source": [
    "IFrame('https://www.geogebra.org/classic/cz6v2U99?embed',\n",
    "       width='100%', height=500)"
   ]
  },
  {
   "cell_type": "markdown",
   "metadata": {
    "slideshow": {
     "slide_type": "slide"
    }
   },
   "source": [
    "Numpy funkce pro křížový produkt je `numpy.cross`:"
   ]
  },
  {
   "cell_type": "code",
   "execution_count": 58,
   "metadata": {
    "ExecuteTime": {
     "end_time": "2020-09-25T18:14:33.230672Z",
     "start_time": "2020-09-25T18:14:33.227536Z"
    },
    "slideshow": {
     "slide_type": "fragment"
    }
   },
   "outputs": [
    {
     "name": "stdout",
     "output_type": "stream",
     "text": [
      "a = [0, 0, 5] \n",
      " b = [3, 0, 0]\n",
      "np.cross(a, b) = [ 0 15  0]\n"
     ]
    }
   ],
   "source": [
    "a = [0, 0, 5]\n",
    "b = [3, 0, 0]\n",
    "\n",
    "print('a =', a, '\\n b =', b)\n",
    "print('np.cross(a, b) =', np.cross(a, b))"
   ]
  },
  {
   "cell_type": "markdown",
   "metadata": {
    "slideshow": {
     "slide_type": "slide"
    }
   },
   "source": [
    "Pro 2D pole s vektory v různých řádcích:"
   ]
  },
  {
   "cell_type": "code",
   "execution_count": 60,
   "metadata": {
    "ExecuteTime": {
     "end_time": "2020-09-25T18:14:33.234848Z",
     "start_time": "2020-09-25T18:14:33.231839Z"
    },
    "slideshow": {
     "slide_type": "fragment"
    }
   },
   "outputs": [
    {
     "data": {
      "text/plain": [
       "array([[-3,  6, -3],\n",
       "       [ 1, -2,  1]])"
      ]
     },
     "execution_count": 60,
     "metadata": {},
     "output_type": "execute_result"
    }
   ],
   "source": [
    "a = np.array([[1, 2, 3], [1, 1, 1]])\n",
    "b = np.array([[4, 5, 6], [7, 8, 9]])\n",
    "np.cross(a, b, axis=1)"
   ]
  },
  {
   "cell_type": "code",
   "execution_count": 61,
   "metadata": {
    "ExecuteTime": {
     "end_time": "2020-09-25T18:14:33.237820Z",
     "start_time": "2020-09-25T18:14:33.235951Z"
    },
    "slideshow": {
     "slide_type": "skip"
    },
    "tags": []
   },
   "outputs": [],
   "source": [
    "a = np.array([1, 2, 0])\n",
    "b = np.array([0, 1, 3])\n",
    "c = np.array([1, 0, 1])"
   ]
  },
  {
   "cell_type": "markdown",
   "metadata": {},
   "source": [
    "## Další čtení\n",
    "\n",
    "- Přečtěte si stránky 44-92 první kapitoly [Ruina and Rudra's book](http://ruina.tam.cornell.edu/Book/index.html) o skalárech a vektorech v mechanice."
   ]
  },
  {
   "cell_type": "markdown",
   "metadata": {},
   "source": [
    "## Video přednášky na internetu\n",
    "\n",
    "- Khan Academy: [Vectors](https://www.khanacademy.org/math/algebra-home/alg-vectors)\n",
    "- [Vectors, what even are they?](https://youtu.be/fNk_zzaMoSs)\n",
    "- [Základy vektorové a tenzorové algebry](https://is.muni.cz/do/rect/el/estud/prif/js17/pocetni_praktikum1/web/ch02.html)"
   ]
  },
  {
   "cell_type": "markdown",
   "metadata": {
    "slideshow": {
     "slide_type": "slide"
    }
   },
   "source": [
    "## Problémy\n",
    "\n",
    "1. Vzhledem k vektorům, $\\overrightarrow{\\mathbf{a}}=[1, 0, 0]$ a $\\overrightarrow{\\mathbf{b}}=[1, 1, 1]$, vypočítejte jejich skalární a vektorový součin.\n",
    "\n",
    "2. Vypočítejte jednotkové vektory pro $ [2, −2, 3] $ a $ [3, −3, 2] $ a určete ortogonální vektor těchto dvou vektorů.\n",
    "\n",
    "3. Vzhledem k vektorům $a = [1, 0, 0]$ a $b = [1, 1, 1]$, vypočítejte $\\overrightarrow{\\mathbf{a}} \\times \\overrightarrow{\\mathbf{b}}$  a ověřte, že tento vektor je ortogonální na původní vektory. Vypočítejte také  $\\overrightarrow{\\mathbf{b}} \\times \\overrightarrow{\\mathbf{a}}$ a porovnejte s  $\\overrightarrow{\\mathbf{a}} \\times \\overrightarrow{\\mathbf{b}}$.\n",
    "\n",
    "4. Vzhledem k vektorům $ [1, 1, 0]; [1, 0, 1]; [0, 1, 1] $, vypočítejte ortonormální bázi souřadnicového systému.\n",
    "\n",
    "6. Vyřešte úlohy  **1.1** až **1.9**, **1.11** (pomocí Pythonu), **1.12**, **1.14**, **1.17**, **1.18** do **1.24** knihy Ruiny a Rudry\n",
    "\n",
    "7. Z knihy Ruiny a Rudry vyřešte problémy **1.1.1** do **1.3.16**.\n",
    "\n",
    "Pokud si nejste jisti ve skalárech a vektorech, měli byste tyto problémy vyřešit nejprve ručně a poté pomocí Pythonu zkontrolovat odpovědi.Znalost vektorového počtu je nezbytná pro další zvládnutí mechaniky. "
   ]
  },
  {
   "cell_type": "markdown",
   "metadata": {
    "slideshow": {
     "slide_type": "slide"
    }
   },
   "source": [
    "## Reference\n",
    "\n",
    "- Ruina A, Rudra P (2019) [Introduction to Statics and Dynamics](http://ruina.tam.cornell.edu/Book/index.html). Oxford University Press."
   ]
  }
 ],
 "metadata": {
  "kernelspec": {
   "display_name": "Python 3 (ipykernel)",
   "language": "python",
   "name": "python3"
  },
  "language_info": {
   "codemirror_mode": {
    "name": "ipython",
    "version": 3
   },
   "file_extension": ".py",
   "mimetype": "text/x-python",
   "name": "python",
   "nbconvert_exporter": "python",
   "pygments_lexer": "ipython3",
   "version": "3.12.7"
  },
  "latex_envs": {
   "LaTeX_envs_menu_present": true,
   "autoclose": false,
   "autocomplete": true,
   "bibliofile": "biblio.bib",
   "cite_by": "apalike",
   "current_citInitial": 1,
   "eqLabelWithNumbers": true,
   "eqNumInitial": 1,
   "hotkeys": {
    "equation": "Ctrl-E",
    "itemize": "Ctrl-I"
   },
   "labels_anchors": false,
   "latex_user_defs": false,
   "report_style_numbering": false,
   "user_envs_cfg": false
  },
  "nbTranslate": {
   "displayLangs": [
    "*"
   ],
   "hotkey": "alt-t",
   "langInMainMenu": true,
   "sourceLang": "en",
   "targetLang": "fr",
   "useGoogleTranslate": true
  },
  "toc": {
   "base_numbering": 1,
   "nav_menu": {},
   "number_sections": true,
   "sideBar": true,
   "skip_h1_title": true,
   "title_cell": "Contents",
   "title_sidebar": "Contents",
   "toc_cell": true,
   "toc_position": {},
   "toc_section_display": true,
   "toc_window_display": false
  },
  "varInspector": {
   "cols": {
    "lenName": 16,
    "lenType": 16,
    "lenVar": 40
   },
   "kernels_config": {
    "python": {
     "delete_cmd_postfix": "",
     "delete_cmd_prefix": "del ",
     "library": "var_list.py",
     "varRefreshCmd": "print(var_dic_list())"
    },
    "r": {
     "delete_cmd_postfix": ") ",
     "delete_cmd_prefix": "rm(",
     "library": "var_list.r",
     "varRefreshCmd": "cat(var_dic_list()) "
    }
   },
   "types_to_exclude": [
    "module",
    "function",
    "builtin_function_or_method",
    "instance",
    "_Feature"
   ],
   "window_display": false
  },
  "widgets": {
   "application/vnd.jupyter.widget-state+json": {
    "state": {},
    "version_major": 2,
    "version_minor": 0
   }
  }
 },
 "nbformat": 4,
 "nbformat_minor": 4
}
