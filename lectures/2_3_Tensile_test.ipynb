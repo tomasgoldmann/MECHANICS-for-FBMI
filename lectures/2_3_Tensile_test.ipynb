{
 "cells": [
  {
   "cell_type": "code",
   "execution_count": 1,
   "id": "e36f15eb-9a23-4345-aee7-eff653eafb02",
   "metadata": {},
   "outputs": [],
   "source": [
    "from IPython.display import IFrame\n",
    "from IPython.display import YouTubeVideo"
   ]
  },
  {
   "cell_type": "markdown",
   "id": "3e70861f-b379-4100-ab09-2849bab9ff89",
   "metadata": {},
   "source": [
    "# Tensile test\n",
    "\n",
    "![](https://matca.cz/wp-content/uploads/2021/04/stress_strain_2.gif)\n",
    "\n",
    "A tensile test is a destructive mechanical test of a material that is used to determine its mechanical properties under tensile load. During the test, the test sample is clamped in a tearing machine and gradually loaded with tensile force. During the test, the elongation of the sample and the force acting on it are measured. A tensile diagram is then compiled from the measured data, from which the mechanical properties of the material are evaluated.\n",
    "\n",
    "In general, tensile tests are distinguished under\n",
    "* **static load** - constant constant load\n",
    "* **quasi-static load** - the load increases continuously and acts continuously (quasi-statically). The upper limit for quasi-static test methods is at a deformation rate of approximately 10-1/s, therefore the maximum increase (e.g. deformation) must not be greater than 0.1% / s\n",
    "* **cyclic loading** - the load changes periodically\n",
    "* **shock loading** - a sudden change in load\n",
    "\n",
    "# Test procedure\n",
    "\n",
    "1. **Sample preparation**: A test sample of standardized dimensions and shape is made from the material.\n",
    "2. **Sample clamping**: The sample is clamped in the jaws of a tearing machine.\n",
    "3. **Sample loading**: The sample is gradually loaded with a tensile force.\n",
    "4. **Data measurement**: During the test, the elongation of the sample and the applied force are measured.\n",
    "5. **Diagram compilation**: A tensile diagram is compiled from the measured data, which shows the dependence of stress on deformation.\n",
    "6. **Parameter evaluation**: The mechanical properties of the material are evaluated from the tensile diagram."
   ]
  },
  {
   "cell_type": "markdown",
   "id": "b4d707dc-3a47-416f-86fa-302f6e8e2269",
   "metadata": {},
   "source": [
    "## Tensile diagram\n",
    "\n",
    "The test process is graphically recorded using a tensile diagram, which is the dependence of force (stress) on the elongation (relative elongation) of the test specimen. We distinguish three types of tensile diagram:\n",
    "1. **working diagram** - dependence of force $F$ on elongation $\\Delta l$)\n",
    "2. **contractual diagram** - dependence of contractual stress $\\sigma_s$ on relative elongation $\\varepsilon$, related to the original dimensions of the sample) and\n",
    "3. **actual diagram** - dependence of actual stress $\\sigma$ on actual elongation $\\epsilon$, related to the actual current dimensions of the sample during the test.\n",
    "\n",
    "The contractual tensile diagram is most often used. The contractual stress $\\sigma_s$ is given by the relation\n",
    "\n",
    "$$\\sigma_s = \\frac{F}{A_0}$$\n",
    "\n",
    "where $F$ is the loading force and $A_0$ is the original cross-section of the loaded sample. The proportional longitudinal elongation $\\varepsilon$ is defined by\n",
    "\n",
    "$$\\varepsilon = \\frac{\\Delta l}{l_0} = \\frac{l - l_0}{l_0}$$\n",
    "\n",
    "where $l$ is the length of the specimen after loading with a force $F$ and $l_0$ is the original length of the specimen.\n",
    "\n",
    "![](https://www.admet.com/wp-content/uploads/2017/07/ductile-specimen-shape-during-testing.png)\n",
    "\n",
    "1. **Elastic region**\n",
    "- The relationship between stress and strain is **linear**.\n",
    "- After the load is removed, the material **returns to its original shape**.\n",
    "- The material obeys **Hooke's law** and there is a direct proportionality between stress and strain.\n",
    "- The **slope of the line** in this region defines an important material property – **Young's modulus** (tensile modulus of elasticity).\n",
    "\n",
    "2. **Transition to the plastic region**\n",
    "- When a certain stress is reached, **the material passes from the elastic to the plastic region**.\n",
    "- **Yield limit** indicates the stress at which permanent (plastic) deformation begins.\n",
    "- **Elastic deformations are reversible, plastic deformations are not reversible**.\n",
    "\n",
    "3. **Necking and fracture of the material**\n",
    "- During **necking**, non-uniform plastic deformation occurs, in which part of the sample **significantly thins**.\n",
    "- High stress concentrations arise in this area, which leads to the final **fracture of the material**.\n",
    "- After fracture, **percentage elongation** and **total reduction in the cross-section of the sample** can be calculated.\n",
    "\n",
    ">Warning\n",
    ">\n",
    "> Actual stress is not equal to contractual stress\n",
    "During the test, the cross-section changes. Therefore, the actual stress differs from the contractual stress, at which the original cross-sectional area is calculated."
   ]
  },
  {
   "cell_type": "code",
   "execution_count": 2,
   "id": "01253f90-914c-43ad-b00b-23dca7d4e1e7",
   "metadata": {},
   "outputs": [
    {
     "data": {
      "image/jpeg": "[encoded data removed]",
      "text/html": [
       "\n",
       "        <iframe\n",
       "            width=\"800\"\n",
       "            height=\"300\"\n",
       "            src=\"https://www.youtube.com/embed/67fSwIjYJ-E\"\n",
       "            frameborder=\"0\"\n",
       "            allowfullscreen\n",
       "            \n",
       "        ></iframe>\n",
       "        "
      ],
      "text/plain": [
       "<IPython.lib.display.YouTubeVideo at 0x1e248ac1df0>"
      ]
     },
     "execution_count": 2,
     "metadata": {},
     "output_type": "execute_result"
    }
   ],
   "source": [
    "YouTubeVideo('67fSwIjYJ-E', width=800)"
   ]
  },
  {
   "cell_type": "markdown",
   "id": "9b6be770-e917-45fa-bdb7-89bfa58537be",
   "metadata": {},
   "source": [
    "## Parameters evaluated from the tensile test\n",
    "\n",
    "![](https://ocw.tudelft.nl/wp-content/uploads/stressstraincomplete.png)\n",
    "\n",
    "| **Parameter**                    | **Limits / Values**       | **Name in (ASTM)**   | **Name in(ISO)** | **Deffinition** |\n",
    "|----------------------------------|---------------------------|----------------------|----------------------|--------------|\n",
    "| **Proportional Limit** | $\\sigma_L$ (MPa) | PL | - | The highest stress at which the stress is proportional to the deformation according to Hooke's law. |\n",
    "| **Elasticity Limit**  | $\\sigma_e$ (MPa) | EL | - | The ultimate stress that does not cause permanent deformation after unloading (unloading) |\n",
    "| **Modulus of elasticity** | E (GPa) | E | E | The ratio of stress to strain in the elastic region, determines the stiffness of the material. |\n",
    "| **Yield Strength** | $\\sigma_k$, $\\sigma_y$ (MPa) | YS | Re | The stress at which the material passes from the elastic to the plastic region. |\n",
    "| **Ultimate Tensile Strength** | $\\sigma_{UTS}, \\sigma_P$ (MPa) | UTS | Rm | The highest stress reached during the tensile test before the onset of necking. |\n",
    "| **Percent Elongation**  | A (%) | EL | A | The relative elongation of the specimen at break expressed as a percentage of the original length. |\n",
    "| **Cross-Section Contraction**  | Z (%) | RA | Z | The relative reduction in the cross-section of the specimen at break, expressed as a percentage of the original area. |\n",
    "| **True Fracture Stress**  | σ$_f$ (MPa) | TFS | - | True stress calculated with respect to the actual reduced cross-section at the fracture site. |\n",
    "\n",
    "\n",
    "* **Yield limit ($\\sigma_Y$)**: The stress at which a sudden plastic flow of the material (permanent deformation) occurs without an increase in load.\n",
    "\n",
    "$$\\sigma_Y = \\frac{F_Y}{A}$$\n",
    "\n",
    "where\n",
    "* $F_{Y}$ is the yield strength.\n",
    "* $A$ is the initial cross-section of the sample.\n",
    "\n",
    "The yield strength of materials is often not significant, and therefore it cannot be unambiguously determined in a tensile test. In such cases, the conventional yield strength is evaluated. The conventional yield strength is usually determined at a plastic elongation of 0.2%, which is why this characteristic value is denoted Rp0.2. In many cases, it is possible to determine both the upper yield strength ReH and the lower yield strength ReL.\n",
    "\n",
    "![](https://upload.wikimedia.org/wikipedia/commons/9/95/Pracovni_diagram_Rp02.svg)\n",
    "\n",
    "* **Tensile strength ($\\sigma_{UTS}$)**: The maximum stress that a material can withstand before failure occurs.\n",
    "\n",
    "$$\n",
    "\\sigma_{UTS} = \\frac{F_{max}}{A}\n",
    "$$\n",
    "\n",
    "where\n",
    "* $F_{max}$ is the maximum force.\n",
    "* $A$ is the initial cross-section of the sample.\n",
    "\n",
    "For metallic materials with a significant yield strength, the maximum tensile force is defined as the highest force reached just beyond the yield strength region. The maximum tensile force after exceeding the yield strength may be below the yield strength for less strengthened materials, in which case the tensile strength is lower than the upper yield strength value.\n",
    "\n",
    "## Tensile diagram for various materials\n",
    "\n",
    "A tensile diagram is a graphical representation of the dependence of stress on deformation. Different materials have a typical shape of the diagram, which varies depending on their properties.\n",
    "\n",
    "* **Brittle materials** (*brittle*): They have a linear tensile diagram and after exceeding the tensile strength, a sudden fracture occurs without significant plastic deformation.\n",
    "* **Ductile materials** (*ductile*): They have a nonlinear tensile diagram and after exceeding the yield strength, plastic deformation occurs before fracture occurs.\n",
    "\n",
    "![](https://www.e-education.psu.edu/matse81/sites/www.e-education.psu.edu.matse81/files/images/lesson04/ductile%26brittle.png)\n",
    "\n",
    "**Ductile materials**\n",
    "- **Energy absorption**: Ductile materials can absorb significant amounts of energy due to their ability to undergo plastic deformation before breaking.\n",
    "- **Deformation**: These materials can withstand significant plastic deformation before breaking.\n",
    "- **Stress-strain curve**: The stress-strain curve of ductile materials goes through all the stages as described above, including elastic deformation, yield, hardening, and necking before fracture.\n",
    "- **Examples**: Mild steel, aluminum, copper, rubber, and most plastics.\n",
    "\n",
    "**Brittle materials**\n",
    "- **Fracture behavior**: Brittle materials break without a significant change in elongation or plastic deformation. Their stress-strain curve is nearly vertical after the ultimate force, indicating very little plastic deformation.\n",
    "- **Strength consistency**: For brittle materials, the yield point, ultimate strength, and fracture stress are essentially the same.\n",
    "- **Examples**: Cast iron, ceramics, glass, concrete, and stone."
   ]
  },
  {
   "cell_type": "markdown",
   "id": "c7576d6b-63b5-4ad5-9b57-7455f9ab81fe",
   "metadata": {},
   "source": [
    "# Structural vs. material properties\n",
    "\n",
    "Structural properties depend on size, while material properties normalize displacements by length into strains, forces by area into stresses and energy by volume into energy density. Structural properties are the principal outcome variables, while material properties are the necessary input variables for finite element analysis.\n",
    "\n",
    "![](https://www.researchgate.net/publication/289984386/figure/fig1/AS:962699366256642@1606536823727/Comparison-of-structural-and-material-properties-Structural-properties-depend-on-size.gif)"
   ]
  },
  {
   "cell_type": "code",
   "execution_count": null,
   "id": "ccc4337c-7d21-440d-901b-30eae3a8973a",
   "metadata": {},
   "outputs": [],
   "source": []
  }
 ],
 "metadata": {
  "kernelspec": {
   "display_name": "Python 3 (ipykernel)",
   "language": "python",
   "name": "python3"
  },
  "language_info": {
   "codemirror_mode": {
    "name": "ipython",
    "version": 3
   },
   "file_extension": ".py",
   "mimetype": "text/x-python",
   "name": "python",
   "nbconvert_exporter": "python",
   "pygments_lexer": "ipython3",
   "version": "3.12.7"
  }
 },
 "nbformat": 4,
 "nbformat_minor": 5
}
