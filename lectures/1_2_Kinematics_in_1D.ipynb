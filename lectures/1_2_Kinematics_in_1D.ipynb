{
 "cells": [
  {
   "cell_type": "markdown",
   "id": "b886a797-fdc5-49e6-b7b9-4bad0ac98de0",
   "metadata": {},
   "source": [
    "# Kinematics in 1D"
   ]
  },
  {
   "cell_type": "code",
   "execution_count": 1,
   "id": "5e255a5f-3e5f-42f6-8daf-44d010d3d296",
   "metadata": {},
   "outputs": [],
   "source": [
    "import numpy as np\n",
    "import matplotlib.pyplot as plt\n",
    "import os\n",
    "import torch\n",
    "from IPython.display import IFrame\n",
    "from celluloid import Camera\n",
    "from IPython.display import HTML\n",
    "from base64 import b64encode"
   ]
  },
  {
   "cell_type": "markdown",
   "id": "dd0d060d-961f-4a65-b6b0-1fcc34a2236d",
   "metadata": {},
   "source": [
    "# Derivative"
   ]
  },
  {
   "cell_type": "code",
   "execution_count": 2,
   "id": "1e117377-d121-4f58-8bc5-4b95ad459aa3",
   "metadata": {},
   "outputs": [
    {
     "data": {
      "text/html": [
       "\n",
       "        <iframe\n",
       "            width=\"800\"\n",
       "            height=\"600\"\n",
       "            src=\"https://www.geogebra.org/m/cmdjgBc5?style=border%3A+1px+solid+black\"\n",
       "            frameborder=\"0\"\n",
       "            allowfullscreen\n",
       "            \n",
       "        ></iframe>\n",
       "        "
      ],
      "text/plain": [
       "<IPython.lib.display.IFrame at 0x29f408ca690>"
      ]
     },
     "execution_count": 2,
     "metadata": {},
     "output_type": "execute_result"
    }
   ],
   "source": [
    "IFrame('https://www.geogebra.org/m/cmdjgBc5', width=800, height=600, style=\"border: 1px solid black\")"
   ]
  },
  {
   "cell_type": "code",
   "execution_count": 3,
   "id": "22e00d5d-d244-4aad-8c74-f62a22fcc946",
   "metadata": {},
   "outputs": [
    {
     "data": {
      "text/html": [
       "\n",
       "        <iframe\n",
       "            width=\"800\"\n",
       "            height=\"600\"\n",
       "            src=\"https://www.geogebra.org/m/BDYnGhbt?style=border%3A+1px+solid+black\"\n",
       "            frameborder=\"0\"\n",
       "            allowfullscreen\n",
       "            \n",
       "        ></iframe>\n",
       "        "
      ],
      "text/plain": [
       "<IPython.lib.display.IFrame at 0x29f409a74a0>"
      ]
     },
     "execution_count": 3,
     "metadata": {},
     "output_type": "execute_result"
    }
   ],
   "source": [
    "from IPython.display import IFrame\n",
    "\n",
    "IFrame('https://www.geogebra.org/m/BDYnGhbt', width=800, height=600, style=\"border: 1px solid black\")"
   ]
  },
  {
   "cell_type": "markdown",
   "id": "326985d3-aff5-4ba5-9b40-73070ba76571",
   "metadata": {},
   "source": [
    "# Riemann sum - Integration"
   ]
  },
  {
   "cell_type": "code",
   "execution_count": 4,
   "id": "c9ed6c85-22df-4992-bf20-c91c47437e62",
   "metadata": {},
   "outputs": [
    {
     "data": {
      "text/html": [
       "\n",
       "        <iframe\n",
       "            width=\"800\"\n",
       "            height=\"600\"\n",
       "            src=\"https://www.geogebra.org/m/SNS8SYSg?style=border%3A+1px+solid+black\"\n",
       "            frameborder=\"0\"\n",
       "            allowfullscreen\n",
       "            \n",
       "        ></iframe>\n",
       "        "
      ],
      "text/plain": [
       "<IPython.lib.display.IFrame at 0x29f40ffb740>"
      ]
     },
     "execution_count": 4,
     "metadata": {},
     "output_type": "execute_result"
    }
   ],
   "source": [
    "from IPython.display import IFrame\n",
    "IFrame('https://www.geogebra.org/m/SNS8SYSg', width=800, height=600, style=\"border: 1px solid black\")"
   ]
  },
  {
   "attachments": {},
   "cell_type": "markdown",
   "id": "0356e4e5-2e8b-4f39-b647-4880cf2dc54f",
   "metadata": {},
   "source": [
    "## Position in 1D\n",
    "\n",
    "1D space, or one-dimensional space, is a concept used to describe objects or phenomena that have only one dimension. Imagine a straight line: it is infinitely long, but has no width or depth. Everything that is in 1D space can be described using only one coordinate.\n",
    "\n",
    "We can also consider a 1D space to be a space where we only need one coordinate to describe the position. Even if a car is moving in 3D space, we only need one coordinate to describe its position on a highway – the distance from the starting point of the highway. The position is limited to one dimension, even if it takes place in a higher-dimensional space.\n",
    "\n",
    "```{warning}\n",
    "In the case of general curvilinear motion, non-inertial accelerations and forces arise, such as centripetal acceleration when moving in a circle.\n",
    "```\n",
    "\n",
    "**How ​​to visualize 1D space**\n",
    "- **Line:** *(translational or rotational motion)* The easiest way to visualize 1D space is as a line. Each point on this line is specified by only one coordinate, which indicates its distance from the origin.\n",
    "- **Timeline:** The timeline is also an example of 1D space. Events occur over time and can be described by only one coordinate – time.\n",
    "- **String:** *(vibrational motion)* A vibrating string is a physical example of 1D space. The motion of points on a string can be described by only one coordinate – the distance from one end of the string.\n",
    "\n",
    "**Mathematical description of 1D space**\n",
    "\n",
    "1D space is described mathematically using:\n",
    "* **Real numbers:** Each point in 1D space is represented by a real number.\n",
    "* **Coordinate axes:** 1D space has only one coordinate axis, usually labeled the x-axis.\n",
    "* **Distance:**\n",
    "    * The distance between two points in 1D space is calculated as the absolute value of the difference between their coordinates.\n",
    "    * A measure of the length of the path followed by an object from its initial to final position.\n",
    "    * **Scalar quantity**\n",
    "* **Displacement**\n",
    "    * The Displacement is defined as the change of an object's position that occurs during a period of time.\n",
    "    * The displacement is a vector that points from an object’s initial position to its final position and has a magnitude that equals the shortest distance between the two positions.\n",
    "\n",
    "<div class='center-align'><figure><img src=\"https://images.theengineeringprojects.com/image/webp/2024/10/displacement-in-physics-5.jpg.webp?ssl=1\" width=\"500\" alt=\"Body in plane\"/><figcaption><left><i>Distance vs Displacement</i></left></figcaption> </figure></div>\n",
    "\n",
    "\n"
   ]
  },
  {
   "cell_type": "markdown",
   "id": "623d16e8-2881-4113-b2ff-fe1ad36d5911",
   "metadata": {},
   "source": [
    "## Motion in 1D\n",
    "\n",
    "For the further description, we will proceed from the definition of motion. In mechanics, the change in a physical quantity is denoted by the symbol $\\Delta$. For example, for a change in time, we will denote it as $\\Delta t$. This means:\n",
    "\n",
    "$$\\Delta t = t_2 - t_1$$\n",
    "\n",
    "If we start the motion at 12 hours 20 minutes and end it at 12 hours 21 minutes, the given motion lasted 1 minute. The description of the change in position is a little more complicated due to the division of the motion. For the sake of simplicity, we will consider the simplest way of measuring motion in the case of translational motion. We will discuss circular motion separately in the section on periodic motion.\n",
    "\n",
    "### Translational motion\n",
    "\n",
    "We will consider the motion of a runner along a straight path as the simplest translational motion. How could we determine its position? An example can be the original measurement of the run.\n",
    "\n",
    "![Run motion](https://www.fasttalklabs.com/wp-content/uploads/2023/08/analyze-run-form.jpg)\n",
    "\n",
    "### Coordinate axis\n",
    "* **Origin of coordinates:** The selected point on the line from which we measure distances.\n",
    "* **Positive direction:** The direction in which positive coordinate values ​​increase.\n",
    "* **Negative direction:** The direction opposite to the positive direction.\n",
    "\n",
    "![coordinate axis](https://df0b18phdhzpx.cloudfront.net/ckeditor_assets/pictures/1439925/original_13.png)\n",
    "\n",
    "### Point position\n",
    "* **Coordinate:** A numerical value indicating the distance of the point from the coordinate origin in the selected direction. In the case of movement along a line, we only need one value $x$.\n",
    "\n",
    "### Change of position\n",
    "* **Displacement:** The change in the position of a point over time. It is a vector quantity that has a magnitude (path) and a direction. We denote it by $\\vec{\\mathbf{d}}$.\n",
    "\n",
    "### Motion notation\n",
    "\n",
    "A possible motion notation is a table, where we express individual points\n",
    "\n",
    "|Time $t$ \\[s\\] | Position $x$ [m]|\n",
    "--- | --- |\n",
    "| 1 | 1 |\n",
    "| 2 | 3 |\n",
    "| 3 | 5 |\n",
    "| 4 | 5 |\n",
    "| 5 | 2 |\n",
    "| 6 | 1 |\n",
    "\n",
    "Displaying it using a table can be confusing when we have a large number of points. Therefore, it is more convenient to use a graph to describe the position. When connecting individual measured points, we always approximate the motion."
   ]
  },
  {
   "cell_type": "markdown",
   "id": "8440720a-3ecf-46f0-a91e-74f4f87f8a0c",
   "metadata": {},
   "source": [
    "import matplotlib.pyplot as plt\n",
    "t = [1,2,3,4,5,6]\n",
    "x = [1,3,5,5,2,1]\n",
    "\n",
    "plt.plot(t,x, \"o\", label=\"Measured values\")\n",
    "plt.plot(t,x, \"--\", label=\"Motion approximation\")\n",
    "plt.xlabel(\"Time [s]\")\n",
    "plt.ylabel(\"Distance [m]\")\n",
    "plt.legend()\n",
    "plt.show()"
   ]
  },
  {
   "cell_type": "markdown",
   "id": "000a9187-d0dc-4bca-b284-75de54c66ab7",
   "metadata": {},
   "source": [
    "In the case of a small number of measured points or their low measurement frequency relative to the movement, the approximation of the movement is inaccurate."
   ]
  },
  {
   "cell_type": "markdown",
   "id": "74f02c59-1202-4076-a1be-94eaebdd6943",
   "metadata": {},
   "source": [
    "## Kinematics\n",
    "\n",
    "**Kinematics** is a branch of classical mechanics that describes the motion of objects without considering the causes of the motion ([Wikipedia](http://en.wikipedia.org/wiki/Kinematics)).\n",
    "\n",
    "Kinematics of a particle is the description of motion when the object is considered as a particle.\n",
    "\n",
    "A particle as a physical object does not exist in nature; it is a simplification for understanding the motion of a body or it is a conceptual definition, such as the center of mass of a system of objects.\n",
    "\n",
    "**Path, velocity, and acceleration** are the three basic quantities describing the motion of a body. There are close relationships between them that allow us to describe and analyze the motion of a body.\n",
    "\n",
    "### Distance\n",
    "* **Distance** is the length of the trajectory that a body travels during its motion. It is a scalar quantity and is usually denoted by the letter *s*.\n",
    "\n",
    "### Speed\n",
    "* **Speed** is the rate of motion of an object.\n",
    "* The rate at which an object’s position is changing.\n",
    "* It is a ascalar quantity.\n",
    "\n",
    "$$t = \\frac{l}{\\Delta{t}}$$\n",
    "\n",
    "\n",
    "### Velocity\n",
    "* **Velocity** is the rate of motion in a specific direction.\n",
    "*  **Velocity** same magnitude as speed, but with a direction  - **vector quantity**.\n",
    "\n",
    "\n",
    "The average velocity between two instants is:\n",
    "\n",
    "$$\\overrightarrow{\\mathbf{v_x}}(t) = \\frac{\\overrightarrow{\\mathbf{x}}(t_2)-\\overrightarrow{\\mathbf{x}}(t_1)}{t_2-t_1} = \\frac{\\Delta \\overrightarrow{\\mathbf{x}}}{\\Delta t}$$\n",
    "\n",
    "The instantaneous velocity of a particle is obtained as $\\Delta t$ approaches zero.\n",
    "\n",
    "$$\\overrightarrow{\\mathbf{v_x}}(t) = \\lim_{\\Delta t \\to 0} \\frac{\\Delta \\overrightarrow{\\mathbf{x}}}{\\Delta t} = \\lim_{\\Delta t \\to 0} \\frac{\\overrightarrow{\\mathbf{x}}(t+\\Delta t)-\\overrightarrow{\\mathbf{r}}(t)}{\\Delta t} = \\frac{\\mathrm{d}\\overrightarrow{\\mathbf{x}}}{\\mathrm{d}t} = \\dot{\\vec{\\mathbf{x}}}$$"
   ]
  },
  {
   "cell_type": "code",
   "execution_count": null,
   "id": "d4264420-9228-45d9-82f0-1ef29959836b",
   "metadata": {},
   "outputs": [],
   "source": [
    "from IPython.display import IFrame\n",
    "IFrame('https://www.geogebra.org/m/EGx99sNr', width=800, height=600, style=\"border: 1px solid black\")"
   ]
  },
  {
   "attachments": {},
   "cell_type": "markdown",
   "id": "697ff39a-d692-41ec-bee8-d31a3c668c62",
   "metadata": {},
   "source": [
    "> **note:** In mechanics, we often encounter time derivatives, i.e. derivatives of functions that depend on time. To simplify the notation and make it easier to work with these derivatives, a special notation is used using dots above the symbol of the quantity. This notation was introduced by **Isaac Newton**.\n",
    "> * **First time derivative:** It is indicated by a single dot above the symbol of the quantity. For example, if $x$ denotes position, then $\\dot{x}$ (x with a dot) denotes its first time derivative, i.e. velocity:\n",
    ">\n",
    "> $$\\dot{x} = \\frac{dx}{dt}$$\n",
    ">\n",
    "> * **Second time derivative:** Denoted by two dots above the quantity symbol. For example, $\\ddot{x}$ (x with two dots) denotes the second time derivative of position, i.e. acceleration:\n",
    ">\n",
    "> $$\\ddot{x} = \\frac{d^2x}{dt^2} = \\frac{d}{dt}\\left(\\frac{dx}{dt}\\right) = \\frac{d\\dot{x}}{dt}$$\n",
    ">\n",
    "> * **Third and higher time derivatives:** Denoted by three or more dots above the quantity symbol. Higher time derivatives are used less often, but may appear, for example, in describing the dynamics of motion.\n",
    "\n",
    "#### Velocity ​​is relative\n",
    "\n",
    "Speed ​​is always relative. This means that it is given with respect to some reference point or frame. There is no absolute speed. Let's illustrate this with a few examples with respect to the Earth, the Sun, and the center of our Galaxy, the Milky Way.\n",
    "\n",
    "**1. Relative to the Earth:**\n",
    "\n",
    "* **Walking:** A person walks at a speed of, say, 5 km/h. This speed is *relative to the surface of the Earth*.\n",
    "* **Car:** A car travels at a speed of 100 km/h. Again, this speed is *relative to the Earth*.\n",
    "* **Airplane:** An airplane flies at a speed of 900 km/h. This speed is *relative to the Earth*.\n",
    "\n",
    "In these examples, the Earth is our most natural frame of reference. We all move around the Earth, and therefore these speeds make the most sense to us.\n",
    "\n",
    "**2. Relative to the Sun:**\n",
    "\n",
    "The Earth orbits the Sun. This means that even when we are standing on Earth, we are moving at an enormous speed *relative to the Sun*.\n",
    "\n",
    "* **Earth's speed around the Sun:** Approximately 30 km/s (108,000 km/h). This is much faster than anything we normally experience on Earth. Even when you are sitting quietly at home, you are moving at this enormous speed *relative to the Sun*.\n",
    "* **Voyager 1's speed (relative to the Sun):** Voyager 1, one of the most distant probes from Earth, is moving at approximately 17 km/s (61,200 km/h) *relative to the Sun*.\n",
    "\n",
    "Here we see that even relatively \"slowly\" moving bodies (like Earth) have enormous speeds if we change the frame of reference to the Sun.\n",
    "\n",
    "**3. Relative to the center of the Galaxy:**\n",
    "\n",
    "The Sun and the entire Solar System orbit the center of the Milky Way. Here too, we are moving at a tremendous speed.\n",
    "\n",
    "* **Speed ​​of the Sun around the center of the Galaxy:** Approximately 220 km/s (828,000 km/h). That is even faster than the Earth's movement around the Sun! Even the Sun, a huge and seemingly motionless star, is hurtling through space at a tremendous speed *relative to the center of the Galaxy*.\n",
    "\n",
    "Here, the Earth is just a small planet orbiting the Sun, which is one of billions of stars orbiting the center of the Galaxy. Therefore, our speed *relative to the center of the Galaxy* is made up of the speed of the Earth around the Sun and the speed of the Sun around the center of the Galaxy.\n",
    "\n",
    "**Summary:**\n",
    "\n",
    "| Relative to | Example | Speed ​​(approximate) |\n",
    "|---|---|---|\n",
    "| Earth | Walking | 5 km/h |\n",
    "| Equator | Earth's axis of rotation | 1674 km/h |\n",
    "| Sun | Earth | 108,000 km/h) |\n",
    "| Center of the Galaxy | Sun | 828,000 km/h) |\n",
    "| Milky Way | other galaxies | 2.2 million km/h|\n",
    "*Source: [Britannica.com](https://www.britannica.com/story/what-is-earths-velocity)*\n",
    "\n",
    "<iframe width=\"560\" height=\"315\" src=\"https://www.youtube.com/embed/buqtdpuZxvk?si=Dip7gZuaPjByjTCk\"></iframe>\n",
    "\n",
    "### Acceleration\n",
    "\n",
    "Acceleration is the change in velocity of a point, which can also be given by the second-order rate of change in position. The average acceleration between two instants is:\n",
    "\n",
    "$$\\overrightarrow{\\mathbf{a}}(t) = \\frac{\\overrightarrow{\\mathbf{v}}(t_2)-\\overrightarrow{\\mathbf{v}}(t_1)}{t_2-t_1} = \\frac{\\Delta \\overrightarrow{\\mathbf{v}}}{\\Delta t}$$\n",
    "\n",
    "Similarly, the instantaneous acceleration is the first-order derivative of the velocity or the second-order derivative of the position vector:\n",
    "\n",
    "$$\\overrightarrow{\\mathbf{a}}(t) = \\frac{\\mathrm{d}\\overrightarrow{\\mathbf{v}}(t)}{\\mathrm{d}t} = \\frac{\\mathrm{d}^2\\overrightarrow{\\mathbf{x}}(t)}{\\mathrm{d}t^2} = \\dot{\\vec{\\mathbf{v}}} =\\ddot{\\vec{\\mathbf{x}}}$$\n",
    "\n",
    "* The rate at which an object’s speed or velocity changes.\n",
    "* When an object speeds up, slows down, starts, stops, or changes direction, it is accelerating.\n",
    "* Always a **vector** quantity\n",
    "\n",
    "### Jerk\n",
    "\n",
    "**Jerk** is a physical quantity that describes **the change in acceleration over time**. It indicates how fast the acceleration of a body changes. It is a vector quantity, which means that it has a magnitude and a direction.\n",
    "\n",
    "Jerk is denoted by the letter $j$ and its definition is given by the derivative of acceleration ($a$) with respect to time ($t$):\n",
    "\n",
    "$$\n",
    "\\vec{\\mathbf{j}} = \\frac{\\mathrm{d}\\vec{\\mathbf{a}}}{\\mathrm{d}t} = \\frac{\\mathrm{d}^3\\mathbf{x}}{\\mathrm{d}t^3}\n",
    "$$\n",
    "\n"
   ]
  },
  {
   "cell_type": "code",
   "execution_count": null,
   "id": "a0634f59-ee97-4bae-9034-484628fa9b96",
   "metadata": {},
   "outputs": [],
   "source": [
    "import numpy as np\n",
    "import matplotlib.pyplot as plt\n",
    "\n",
    "\n",
    "t = np.linspace(0, 2, 101)\n",
    "r0 = 1\n",
    "v0 = 2\n",
    "a0 = 4\n",
    "\n",
    "plt.rc('axes',  labelsize=14,  titlesize=14) \n",
    "plt.rc('xtick', labelsize=10)\n",
    "plt.rc('ytick', labelsize=10) \n",
    "f, axarr = plt.subplots(3, 3, sharex = True, sharey = True, figsize=(14,7))\n",
    "plt.suptitle('Movement in 1D', fontsize=20);\n",
    "\n",
    "tones = np.ones(np.size(t))\n",
    "\n",
    "axarr[0, 0].set_title('no movement', fontsize=14);\n",
    "axarr[0, 0].plot(t, r0*tones, 'g', linewidth=4, label='$r(t)=1$')\n",
    "axarr[1, 0].plot(t,  0*tones, 'b', linewidth=4, label='$v(t)=0$')\n",
    "axarr[2, 0].plot(t,  0*tones, 'r', linewidth=4, label='$a(t)=0$')\n",
    "axarr[0, 0].set_ylabel('r(t) [m]')\n",
    "axarr[1, 0].set_ylabel('v(t) [m/s]')\n",
    "axarr[2, 0].set_ylabel('a(t) [m/s$^2$]')\n",
    "\n",
    "axarr[0, 1].set_title('constant speed');\n",
    "axarr[0, 1].plot(t, r0*tones+v0*t, 'g', linewidth=4, label='$r(t)=1+2t$')\n",
    "axarr[1, 1].plot(t, v0*tones,      'b', linewidth=4, label='$v(t)=2$')\n",
    "axarr[2, 1].plot(t,  0*tones,      'r', linewidth=4, label='$a(t)=0$')\n",
    "\n",
    "axarr[0, 2].set_title('constant acceleration');\n",
    "axarr[0, 2].plot(t, r0*tones+v0*t+1/2.*a0*t**2,'g', linewidth=4,\n",
    "                 label='$r(t)=1+2t+\\\\frac{1}{2}4t^2$')\n",
    "axarr[1, 2].plot(t, v0*tones+a0*t,             'b', linewidth=4,\n",
    "                 label='$v(t)=2+4t$')\n",
    "axarr[2, 2].plot(t, a0*tones,                  'r', linewidth=4,\n",
    "                 label='$a(t)=4$')\n",
    "\n",
    "for i in range(3): \n",
    "    axarr[2, i].set_xlabel('Čas [s]');\n",
    "    for j in range(3):\n",
    "        axarr[i,j].set_ylim((-.2, 10))\n",
    "        axarr[i,j].legend(loc = 'upper left', frameon=True, framealpha = 0.9, fontsize=14)\n",
    "        \n",
    "plt.subplots_adjust(hspace=0.09, wspace=0.07)"
   ]
  },
  {
   "cell_type": "markdown",
   "id": "eb9d1f99-08de-45dd-8f5c-24b42d9b0518",
   "metadata": {},
   "source": [
    "### Kinematics of the 100m Race\n",
    "\n",
    "An example where the analysis of some aspects of human body movement can be reduced to point analysis is the study of the biomechanics of the 100m sprint.\n",
    "\n",
    "The technical report with the kinematic data for Usain Bolt's 100m world record can be downloaded from the International Association of Athletics Federations' [website for Research Projects](http://www.iaaf.org/development/research).\n",
    "Specifically, the following table shows the data for the three medalists in this event:\n",
    "\n",
    "<br>\n",
    "<figure><img src=\"https://github.com/BMClab/BMC/blob/master/images/Berlin2009_100m.png?raw=1\" width=700 alt=\"Berlin 2009 100m split times\"/><figcaption><center><i>Figure. Data from three medalists in the 100m in Berlin, 2009 (<a href=\"http://www.iaaf.org/download/download?filename=76ade5f9-75a0-4fda-b9bf-1b30be6f60d2.pdf&urlSlug=1-biomechanics-IAberlin-report-s)\">0print report</a>).</i></center></figcaption></figure>\n",
    "\n",
    "The **RT** column in the table above refers to each athlete's reaction time. The IAAF has a very strict rule about reaction time: any athlete with a reaction time of less than 100 ms is disqualified from the competition! A discussion of this rule can be found on the website [Reaction Times and Sprint False Starts](http://condellpark.com/kd/reactiontime.htm).\n",
    "\n",
    "You can measure your own reaction time in a simple way on this website: [http://www.humanbenchmark.com/tests/reactiontime](http://www.humanbenchmark.com/tests/reactiontime).\n",
    "\n",
    "The article [A Kinematics Analysis Of Three Best 100 M Performances Ever](http://www.ncbi.nlm.nih.gov/pmc/articles/PMC3661886/) by Krzysztof and Mero presents a detailed kinematic analysis of 100 m races."
   ]
  },
  {
   "cell_type": "markdown",
   "id": "fea05376-46a5-46b9-8180-f81df33403ce",
   "metadata": {},
   "source": [
    "### Kinematics of the 100m Race\n",
    "\n",
    "An example where the analysis of some aspects of human body movement can be reduced to point analysis is the study of the biomechanics of the 100m sprint.\n",
    "\n",
    "The technical report with the kinematic data for Usain Bolt's 100m world record can be downloaded from the International Association of Athletics Federations' [website for Research Projects](http://www.iaaf.org/development/research).\n",
    "[Here is the direct link](http://www.iaaf.org/download/download?filename=76ade5f9-75a0-4fda-b9bf-1b30be6f60d2.pdf&urlSlug=1-biomechanics-report-wc-berlin-2009-sprint). Specifically, the following table shows the data for the three medalists in this event:\n",
    "\n",
    "<br>\n",
    "<figure><img src=\"https://github.com/BMClab/BMC/blob/master/images/Berlin2009_100m.png?raw=1\" width=700 alt=\"Berlin 2009 100m split times\"/><figcaption><center><i>Figure. Data from three medalists in the 100m in Berlin, 2009 (<a href=\"http://www.iaaf.org/download/download?filename=76ade5f9-75a0-4fda-b9bf-1b30be6f60d2.pdf&urlSlug=1-biomechanics-IAberlin-report-s)\">0print report</a>).</i></center></figcaption></figure>\n",
    "\n",
    "The **RT** column in the table above refers to each athlete's reaction time. The IAAF has a very strict rule about reaction time: any athlete with a reaction time of less than 100 ms is disqualified from the competition! A discussion of this rule can be found on the website [Reaction Times and Sprint False Starts](http://condellpark.com/kd/reactiontime.htm).\n",
    "\n",
    "You can measure your own reaction time in a simple way on this website: [http://www.humanbenchmark.com/tests/reactiontime](http://www.humanbenchmark.com/tests/reactiontime).\n",
    "\n",
    "The article [A Kinematics Analysis Of Three Best 100 M Performances Ever](http://www.ncbi.nlm.nih.gov/pmc/articles/PMC3661886/) by Krzysztof and Mero presents a detailed kinematic analysis of 100 m races."
   ]
  },
  {
   "cell_type": "code",
   "execution_count": 2,
   "id": "c13b2eaa-d920-46a2-91ce-e013b4aa170b",
   "metadata": {},
   "outputs": [
    {
     "data": {
      "text/html": [
       "\n",
       "        <iframe\n",
       "            width=\"800\"\n",
       "            height=\"600\"\n",
       "            src=\"https://www.geogebra.org/classic/pdNj3DgD?style=border%3A+1px+solid+black\"\n",
       "            frameborder=\"0\"\n",
       "            allowfullscreen\n",
       "            \n",
       "        ></iframe>\n",
       "        "
      ],
      "text/plain": [
       "<IPython.lib.display.IFrame at 0x210060411f0>"
      ]
     },
     "execution_count": 2,
     "metadata": {},
     "output_type": "execute_result"
    }
   ],
   "source": [
    "from IPython.display import IFrame\n",
    "IFrame('https://www.geogebra.org/classic/pdNj3DgD', width=800, height=600, style=\"border: 1px solid black\")"
   ]
  },
  {
   "cell_type": "code",
   "execution_count": null,
   "id": "e19b1177-8d05-472c-b4fc-52381f065cb1",
   "metadata": {},
   "outputs": [],
   "source": []
  }
 ],
 "metadata": {
  "kernelspec": {
   "display_name": "Python 3 (ipykernel)",
   "language": "python",
   "name": "python3"
  },
  "language_info": {
   "codemirror_mode": {
    "name": "ipython",
    "version": 3
   },
   "file_extension": ".py",
   "mimetype": "text/x-python",
   "name": "python",
   "nbconvert_exporter": "python",
   "pygments_lexer": "ipython3",
   "version": "3.12.7"
  }
 },
 "nbformat": 4,
 "nbformat_minor": 5
}
