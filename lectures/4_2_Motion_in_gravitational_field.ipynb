{
 "cells": [
  {
   "cell_type": "markdown",
   "id": "28f38988-7cdd-4050-ab19-2f2759d26fa2",
   "metadata": {},
   "source": [
    "# Motion in a gravitational field"
   ]
  },
  {
   "cell_type": "code",
   "execution_count": 1,
   "id": "98addcd6-4dbe-409d-94d1-67bc50a2f2e2",
   "metadata": {},
   "outputs": [],
   "source": [
    "import numpy as np\n",
    "import matplotlib.pyplot as plt\n",
    "%matplotlib notebook"
   ]
  },
  {
   "cell_type": "markdown",
   "id": "d3f5e6d6-8928-46b3-b815-c6b4d9264a11",
   "metadata": {},
   "source": [
    "Let us derive the equations of motion for an oblique throw and examine their characteristics. For simplicity, let us consider plane motion for now, neglecting air resistance and gravitational acceleration, $g$=9.8m/s$^2$. Consider a body (which we will consider a mass point) thrown into the air with an initial angle $\\theta$ with respect to the horizontal (direction $x$) and an initial velocity $\\vec{v_0}$.\n",
    "\n",
    "> Superposition of motion is the principle that states that if several independent motions act on a body simultaneously, the resulting motion of the body is the sum (superposition) of these individual motions.\n",
    "\n",
    ":::{caution}\n",
    "The superposition principle holds if the individual motions are independent of each other. This means that one motion does not affect the others.\n",
    ":::\n",
    "\n",
    "$$\n",
    "\\begin{align}\n",
    "& x(t) = x_0 + v_0\\cos(\\theta)\\:t \\\\\n",
    "& y(t) = y_0 + v_0\\sin(\\theta)\\:t - \\frac{g\\:t^2}{2} \\\\\n",
    "& v_x(t) = v_0\\cos(\\theta) \\\\\n",
    "& v_y(t) = v_0\\sin(\\theta) - g\\:t \\\\\n",
    "& a_x(t) = 0 \\\\\n",
    "& a_y(t) = -g\n",
    "\\label{eq_1}\n",
    "\\end{align}\n",
    "$$"
   ]
  },
  {
   "cell_type": "markdown",
   "id": "23b475d0-240a-4274-8772-d49fd732657b",
   "metadata": {},
   "source": [
    "## Flight time\n",
    "\n",
    "From the equation for vertical velocity, the flight time can be calculated, using the property that at maximum altitude the vertical velocity is zero and the climb time is equal to the descent time.\n",
    "\n",
    "$$ t_{flight} = \\frac{2v_0\\sin(\\theta)}{g}$$"
   ]
  },
  {
   "cell_type": "markdown",
   "id": "490735c7-f2c2-4498-be9f-347a7f1b0db5",
   "metadata": {},
   "source": [
    "## Maximum Height\n",
    "\n",
    "Using the flight time just calculated and again using the fact that at maximum height the object has zero vertical velocity, the maximum height, $h$, can be obtained from the equation for vertical position:\n",
    "\n",
    "$$h = \\frac{v_0^2\\sin^2(\\theta)}{2g} $$"
   ]
  },
  {
   "cell_type": "markdown",
   "id": "686dd7eb-bda9-4267-9d8a-2fafa2ce5fee",
   "metadata": {},
   "source": [
    "# Range\n",
    "\n",
    "The range of $L$ can be determined from the flight time\n",
    "\n",
    "$$ L = v_0\\cos(\\theta)\\:t_{flight}$$\n",
    "\n",
    "$$ L = v_0\\cos(\\theta)\\ \\frac{2 v_0^2\\sin(\\theta)}{g} = \\frac{v_0^2\\sin(2\\theta)}{g}$$"
   ]
  },
  {
   "cell_type": "markdown",
   "id": "f37ba114-8a83-46ad-8667-5a3d5f18d5c8",
   "metadata": {},
   "source": [
    "## Trajectory\n",
    "\n",
    "The equation for horizontal position versus time is the equation of a line, and the equation for vertical position is the equation of a parabola. We can prove that the spatial trajectory (vertical position versus horizontal position) is also a parabola if we use both equations for position and eliminate the time variable:\n",
    "\n",
    "$$ y = y_0 + \\tan(\\theta)(x-x_0) - \\frac{g}{2v_0^2cos^2(\\theta)}(x-x_0)^2$$\n",
    "\n",
    "where $y_0,\\: x_0,\\: \\theta,\\: v_0,\\: g$ are constants and the equation is the equation of a parabola.\n",
    "\n",
    "## Trajectory Optimization\n",
    "\n",
    "* **Maximum Length** $\\sin(2\\theta)=1$ and therefore $\\theta=45^\\circ$\n",
    "* **Maximum Height** $\\sin^2(\\theta)=1$ and therefore $\\theta=90^\\circ$"
   ]
  },
  {
   "cell_type": "markdown",
   "id": "48135b2e-e72f-4203-9067-9dc4a46a01e6",
   "metadata": {},
   "source": [
    "## Interactive simulation"
   ]
  },
  {
   "cell_type": "code",
   "execution_count": 3,
   "id": "127b930f-f03a-4f59-9fd1-3c2b0c49102a",
   "metadata": {},
   "outputs": [
    {
     "data": {
      "text/html": [
       "\n",
       "        <iframe\n",
       "            width=\"100%\"\n",
       "            height=\"500\"\n",
       "            src=\"https://phet.colorado.edu/sims/html/projectile-motion/latest/projectile-motion_en.html\"\n",
       "            frameborder=\"0\"\n",
       "            allowfullscreen\n",
       "            \n",
       "        ></iframe>\n",
       "        "
      ],
      "text/plain": [
       "<IPython.lib.display.IFrame at 0x1c2d30e5250>"
      ]
     },
     "execution_count": 3,
     "metadata": {},
     "output_type": "execute_result"
    }
   ],
   "source": [
    "from IPython.display import IFrame\n",
    "IFrame('https://phet.colorado.edu/sims/html/projectile-motion/latest/projectile-motion_en.html',\n",
    "       width='100%', height=500)"
   ]
  },
  {
   "cell_type": "code",
   "execution_count": null,
   "id": "83eeecca-8981-4cf8-9fe9-c9afc13587e8",
   "metadata": {},
   "outputs": [],
   "source": []
  }
 ],
 "metadata": {
  "kernelspec": {
   "display_name": "Python 3 (ipykernel)",
   "language": "python",
   "name": "python3"
  },
  "language_info": {
   "codemirror_mode": {
    "name": "ipython",
    "version": 3
   },
   "file_extension": ".py",
   "mimetype": "text/x-python",
   "name": "python",
   "nbconvert_exporter": "python",
   "pygments_lexer": "ipython3",
   "version": "3.12.7"
  }
 },
 "nbformat": 4,
 "nbformat_minor": 5
}
