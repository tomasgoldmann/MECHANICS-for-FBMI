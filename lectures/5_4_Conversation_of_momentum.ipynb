{
 "cells": [
  {
   "cell_type": "markdown",
   "id": "f50a7e28-a21b-4d3c-80e3-db3fe2a662bc",
   "metadata": {},
   "source": [
    "# Law of conservation of momentum\n",
    "\n",
    "The momentum $ \\vec{L} $ of a rigid body about point $ O $ is defined as:\n",
    "\n",
    "$$\n",
    "\\vec{L} = \\sum_i \\vec{r}_i \\times \\vec{p}_i\n",
    "$$\n",
    "\n",
    "where:\n",
    "- $ \\vec{r}_i $ is the position vector of particle $ i $ relative to point $ O $,\n",
    "- $ \\vec{p}_i = m_i \\vec{v}_i $ is the momentum of the particle.\n",
    "\n",
    "In the case of a continuous body, we pass to the integral:\n",
    "\n",
    "$$\n",
    "\\vec{L} = \\int \\vec{r} \\times \\vec{v} \\, dm\n",
    "$$\n",
    "\n",
    "# Law of conservation of  momentum\n",
    "\n",
    "If no external moment of force acts on the system ($ \\vec{M} = 0 $), we get:\n",
    "\n",
    "$$\n",
    "\\frac{d\\vec{L}}{dt} = 0\n",
    "$$\n",
    "\n",
    "which means that the angular momentum remains constant:\n",
    "\n",
    "$$\n",
    "\\vec{L} = \\text{const.}\n",
    "$$\n",
    "\n",
    "This law says that if no external moments act on a body, its angular momentum does not change.\n",
    "\n",
    "---\n",
    "\n",
    "## Example: A spinning skater\n",
    "\n",
    "A skater performing a pirouette can change the speed of rotation by changing the position of his arms. If it approaches the body, the moment of inertia $ I $ decreases, and since the  momentum $ L = I \\omega $ must remain constant, the angular velocity $ \\omega $ increases.\n",
    "\n",
    "Mathematically:\n",
    "\n",
    "$$\n",
    "I_1 \\omega_1 = I_2 \\omega_2\n",
    "$$\n",
    "\n",
    "where:\n",
    "- $ I_1, \\omega_1 $ are the moment of inertia and angular velocity before the arms are pulled,\n",
    "- $ I_2, \\omega_2 $ are the values ​​after the arms are pulled.\n",
    "\n",
    "This principle is used not only in figure skating, but also in astrophysics (the collapse of stars into neutron stars increases their rotation) and mechanics (flywheels in machines)."
   ]
  },
  {
   "cell_type": "code",
   "execution_count": null,
   "id": "24cb7ba2-cde5-4987-a327-fcc7a03f63b8",
   "metadata": {},
   "outputs": [],
   "source": []
  }
 ],
 "metadata": {
  "kernelspec": {
   "display_name": "Python 3 (ipykernel)",
   "language": "python",
   "name": "python3"
  },
  "language_info": {
   "codemirror_mode": {
    "name": "ipython",
    "version": 3
   },
   "file_extension": ".py",
   "mimetype": "text/x-python",
   "name": "python",
   "nbconvert_exporter": "python",
   "pygments_lexer": "ipython3",
   "version": "3.12.7"
  }
 },
 "nbformat": 4,
 "nbformat_minor": 5
}
