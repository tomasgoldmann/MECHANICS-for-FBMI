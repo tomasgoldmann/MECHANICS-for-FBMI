{
 "cells": [
  {
   "cell_type": "markdown",
   "id": "6ec18295-f361-4376-8c06-747616a3b5db",
   "metadata": {},
   "source": [
    "# Hook's law"
   ]
  },
  {
   "cell_type": "code",
   "execution_count": 2,
   "id": "c6fa960f-c349-419e-9d11-7eef478882ab",
   "metadata": {},
   "outputs": [],
   "source": [
    "from IPython.display import IFrame\n",
    "from IPython.display import YouTubeVideo"
   ]
  },
  {
   "cell_type": "markdown",
   "id": "e403cfc1-8f6e-41d7-933a-87139f79178c",
   "metadata": {},
   "source": [
    "## Moving from forces of motion to changes in shape\n",
    "\n",
    "Now we will move from considering forces that affect the motion of an object (such as friction and air resistance) to those that affect the shape of an object. When large forces are applied, the shape of the object changes. For example, when we press hard on a nail, it does not move, but the force applied changes its shape. The change in shape due to the application of a force is called **deformation**.\n",
    "\n",
    "<div class='center-align'><figure><img src=\"https://breakingmuscle.com/wp-content/uploads/2015/11/bracedbending2-scaled.jpg\" width=\"300\" ></figure></div>\n",
    "\n",
    "At the same time, deformations also occur when very small forces are applied. These deformations are much smaller and have two important characteristics:\n",
    "\n",
    "1. **Elasticity** – The object returns to its original shape after the force is removed, i.e. the deformation is elastic.\n",
    "2. **Proportionality** – The magnitude of the deformation is proportional to the applied force, which means that **Hooke's Law** applies to small deformations.\n",
    "\n",
    ">**Note**\n",
    ">\n",
    "> Hooke's Law\n",
    "Hooke's Law is named after the 17th-century British physicist Robert Hooke and was first formulated in 1676 as a Latin anagram puzzle *\"ceiiinosssttuv\"*. Hooke published its solution in 1678 in the form of the theorem *Ut tensio, sic vis*, which means \"As the extension, so the force.\"\n",
    "\n",
    "Mathematically, Hooke's Law can be expressed as:\n",
    "\n",
    "$$\n",
    "F = k \\Delta l\n",
    "$$\n",
    "\n",
    "where:\n",
    "- $\\Delta l$ is the magnitude of the deformation (for example, the change in length),\n",
    "- $F$ is the applied force,\n",
    "- $k$ is a proportionality constant that depends on the shape and material of the object. This constant of proportionality is called **stiffness** (*stiffness*). Stiffness is a physical quantity characterizing the resistance of a body or material to deformation when a force is applied. It expresses how much force is needed to cause a certain deformation. The unit of stiffness is N/m.\n",
    ">**Warning**\n",
    ">\n",
    ">Elastic force is not constant\n",
    ">It is important to realize that this force acts against the acting external force similarly to the friction force and depends on the deformation $\\Delta l$ – it is not constant like the friction force.\n",
    "\n",
    "If we rewrite the equation in the form:\n",
    "\n",
    "$$\n",
    "\\Delta l = \\frac{F}{k}\n",
    "$$\n",
    "\n",
    "it is clear that the deformation is directly proportional to the applied force (*Ut tensio, sic vis*). The inverse value of stiffness is called **compliance** (*compliance*). Compliance is a physical quantity expressing the ability of a body or material to undergo deformation when a force is applied.\n",
    "\n",
    "$$\n",
    "C = \\frac{1}{k}\n",
    "$$\n",
    "\n",
    "where:\n",
    "- $C$ is the compliance \\[m/N\\],\n",
    "- $k$ is the stiffness \\[N/m\\]).\n",
    "\n",
    "The relationship between the deformation $\\Delta l$ and the applied force $F$ can be expressed as:\n",
    "\n",
    "$$\n",
    "\\Delta l = C F\n",
    "$$\n",
    "\n",
    "However, this relationship does not hold for arbitrary forces. The figure shows a graph of the deformation $\\Delta l$ versus the applied force $F$. The straight line represents the linear region where Hooke's law holds. The slope of this straight line is $1/k$. At higher forces, the graph curves, but the deformation is still elastic—after the force is removed, $\\Delta l$ returns to zero. At even higher forces, the object undergoes permanent deformation, eventually leading to its fracture. Note that in this graph, the slope increases just before the break, meaning that a small increase in force $F$ causes a significant elongation of $\\Delta l$ near the break.\n",
    "\n",
    "![](https://openstax.org/apps/archive/20250116.201611/resources/b1cae2957bab746ebaf065bd43f567509a446c3b)"
   ]
  },
  {
   "cell_type": "code",
   "execution_count": 3,
   "id": "8e13c922-c550-4729-b55f-c4a36a698d3b",
   "metadata": {},
   "outputs": [
    {
     "data": {
      "text/html": [
       "\n",
       "        <iframe\n",
       "            width=\"800\"\n",
       "            height=\"600\"\n",
       "            src=\"https://www.geogebra.org/classic/tb98aHHz?embed\"\n",
       "            frameborder=\"0\"\n",
       "            allowfullscreen\n",
       "            \n",
       "        ></iframe>\n",
       "        "
      ],
      "text/plain": [
       "<IPython.lib.display.IFrame at 0x1cad8431df0>"
      ]
     },
     "execution_count": 3,
     "metadata": {},
     "output_type": "execute_result"
    }
   ],
   "source": [
    "IFrame(\"https://www.geogebra.org/classic/tb98aHHz?embed\", width=\"800\", height=\"600\")"
   ]
  },
  {
   "cell_type": "markdown",
   "id": "993d96bb-51fd-419e-90e4-30b1d5e28867",
   "metadata": {},
   "source": [
    "## What does stiffness depend on?\n",
    "\n",
    ">Warning\n",
    ">\n",
    "> Stiffness is a property of a body.\n",
    ">\n",
    ">Stiffness depends not only on **material properties**, but also on **the geometry of the object** (e.g. cross-section or length). Therefore, two objects made of the same material have different stiffnesses if they have different dimensions or shapes.\n",
    "\n",
    "Hooke's law states that the elongation $\\Delta l$ is a function of the applied force. But what does the stiffness of an object itself depend on? Suppose we apply the same force to the guitar strings. The same force, in this case the weight $W$, leads to different resulting deformations. The resulting deformations are shown as gray segments in the figure below.\n",
    "\n",
    "<div class='center-align'><figure><img src=\"https://pressbooks.bccampus.ca/introductorygeneralphysics1phys1107/wp-content/uploads/sites/80/2017/04/Figure_06_03_02a-1.jpg\" width=\"300\" ></figure></div>\n",
    "\n",
    "- The string on the left is **thin nylon** - we observe a large deformation.\n",
    "- The string in the middle is **thicker nylon** - we observe a smaller deformation.\n",
    "- The string on the right is **steel** - we observe almost no deformation.\n",
    "\n",
    "Each string deforms differently, which shows that stiffness depends on:\n",
    "\n",
    "* **Material** - Steel string has a higher modulus of elasticity than nylon, and therefore deforms less.\n",
    "* **Diameter (cross-sectional area)** - A thicker nylon string is stiffer than a thinner one because a larger cross-section increases resistance to deformation.\n",
    "* **Length** – Although in this case all the strings are the same length, in general, longer objects have less stiffness (they deform more under the same force).\n",
    "\n",
    "If we were to test strings of different lengths, we would find that the total elongation depends on the size of the original length:\n",
    "\n",
    "$$\\Delta l \\propto l$$\n",
    "\n",
    "We could also find that the elongation is smaller for materials with a larger cross-section\n",
    "\n",
    "$$\\Delta l \\propto \\frac{1}{A}$$\n",
    "\n",
    "When we insert these dependencies into Hooke's law, we find\n",
    "\n",
    "$$\\Delta l = E \\frac{l}{A} $$\n",
    "\n",
    "or we can rewrite it in the form\n",
    "\n",
    "$$\\sigma = E \\varepsilon $$\n",
    "\n",
    "where:\n",
    "* $\\sigma$ is the stress, \\[ N/m$^2$\\]\n",
    "* $\\varepsilon$ is the relative elongation, \\[1\\]\n",
    "* $E$ is Young's modulus of elasticity, \\[Pa\\]\n",
    "\n",
    "Hooke's law in this form is also referred to as **elementary Hooke's law** and we can formulate it:\n",
    "\n",
    "> Normal stress is directly proportional to relative elongation.\n",
    ">\n",
    "> $$ \\sigma = E \\varepsilon $$"
   ]
  },
  {
   "cell_type": "markdown",
   "id": "c850b399-d600-4055-b164-ae08d46eb883",
   "metadata": {},
   "source": [
    "## Stress \n",
    "\n",
    "> **Stress** expresses the internal force acting in a material due to an external load. It indicates how much force acts on a unit cross-sectional area.\n",
    "\n",
    "Mathematically, it is defined by the relationship:\n",
    "\n",
    "$$ \\sigma = \\frac{F}{A}$$\n",
    "\n",
    "where:\n",
    "- $\\sigma$ is the normal stress \\[Pa = N/m$^2$\\],\n",
    "- $F$ is the applied force \\[N\\],\n",
    "- $A$ is the cross-sectional area \\[m$^2$\\].\n",
    "\n",
    "Stress can be:\n",
    "- **Tensile** ($\\sigma > 0$) – the material is elongated.\n",
    "- **Compressive** ($\\sigma < 0$) – the material is shortened.\n",
    "\n",
    "![](https://www.bu.edu/moss/files/2015/01/normalstress.jpg)\n",
    "\n",
    "For the purposes of this course, we will assume that all materials are **homogeneous, isotropic, and elastic**. We will also assume that the object is **prismatic**—that is, the cross-section is the same along its entire length (for example, a banana is approximately prismatic, while an apple is not). These assumptions allow us to say that the object will **deform uniformly** at every point of its cross-section, and the stress is constant.\n",
    "\n",
    "In case the stress in the cross section is not constant, a small cross-sectional area $\\Delta A$ transmits a small force $\\Delta F$ and we can define the stress at a point when we reduce the given areas and forces:\n",
    "\n",
    "$$\n",
    "p = \\lim\\limits_{\\Delta A \\rightarrow 0} \\frac{\\Delta F}{\\Delta A} = \\frac{\\mathrm{d}F}{\\mathrm{d}A}\n",
    "$$\n",
    "\n",
    "and the sum of all these forces must be equal to the **resultant internal force** $F$.\n",
    "\n",
    "$$\n",
    "F = \\int\\limits_A p \\mathrm{d}A\n",
    "$$\n",
    "\n",
    "This relationship expresses the **average normal stress**, because we have averaged the internal forces over the entire cross section.\n",
    "\n",
    "Stress is often difficult to understand because it is not directly visible. However, there is a method that allows **visualization of stress** – by observing an object transparent from certain materials in **polarized light**. This phenomenon is known as **photoelasticity**."
   ]
  },
  {
   "cell_type": "code",
   "execution_count": 4,
   "id": "2e0beade-0d82-4481-a184-059a2c3a0431",
   "metadata": {},
   "outputs": [
    {
     "data": {
      "image/jpeg": "[encoded data removed]",
      "text/html": [
       "\n",
       "        <iframe\n",
       "            width=\"400\"\n",
       "            height=\"300\"\n",
       "            src=\"https://www.youtube.com/embed/MhcsqX9u1pU\"\n",
       "            frameborder=\"0\"\n",
       "            allowfullscreen\n",
       "            \n",
       "        ></iframe>\n",
       "        "
      ],
      "text/plain": [
       "<IPython.lib.display.YouTubeVideo at 0x1cad6d820c0>"
      ]
     },
     "execution_count": 4,
     "metadata": {},
     "output_type": "execute_result"
    }
   ],
   "source": [
    "YouTubeVideo('MhcsqX9u1pU')"
   ]
  },
  {
   "cell_type": "markdown",
   "id": "f0364a35-b6a4-4ce6-913a-d2f1769b8549",
   "metadata": {},
   "source": [
    "Stress can exist in a material even without an applied load. This is called residual stress, which can be beneficial in increasing the strength of materials—for example, in the manufacture of Japanese katanas. Conversely, unwanted residual stress can promote crack growth and lead to material failure. An example is the collapse of the Silver Bridge in West Virginia in 1967.\n",
    "\n",
    "One of the most interesting examples of residual stress is the phenomenon of rapid cooling of molten glass, known as Prince Rupert’s Drop."
   ]
  },
  {
   "cell_type": "code",
   "execution_count": 5,
   "id": "b0ce1ca2-efb0-4432-bb70-367b186d37b5",
   "metadata": {},
   "outputs": [
    {
     "data": {
      "image/jpeg": "[encoded data removed]",
      "text/html": [
       "\n",
       "        <iframe\n",
       "            width=\"400\"\n",
       "            height=\"300\"\n",
       "            src=\"https://www.youtube.com/embed/xe-f4gokRBs\"\n",
       "            frameborder=\"0\"\n",
       "            allowfullscreen\n",
       "            \n",
       "        ></iframe>\n",
       "        "
      ],
      "text/plain": [
       "<IPython.lib.display.YouTubeVideo at 0x1cad841ba40>"
      ]
     },
     "execution_count": 5,
     "metadata": {},
     "output_type": "execute_result"
    }
   ],
   "source": [
    "YouTubeVideo('xe-f4gokRBs')"
   ]
  },
  {
   "cell_type": "markdown",
   "id": "d20746fa-46f6-448a-baa5-2d2898b94bea",
   "metadata": {},
   "source": [
    "## Strain \n",
    "\n",
    "> **Strain** is a dimensionless quantity that expresses the relative change in the length of a material during deformation.\n",
    "\n",
    "![](https://www.simscale.com/wp-content/uploads/2022/12/simwiki-stress-strain-elongation.png)\n",
    "\n",
    "Mathematically, it is defined as:\n",
    "\n",
    "$$\n",
    "\\varepsilon = \\frac{\\Delta L}{L_0}\n",
    "$$\n",
    "\n",
    "where:\n",
    "- $\\varepsilon $ is the relative elongation \\[-\\],\n",
    "- $\\Delta l $ is the change in the length of the body \\[m\\],\n",
    "- $l_0 $ is the original length of the body \\[m\\].\n",
    "\n",
    "Strain is **positive** for **tension** and **negative** for **compression**.\n",
    "\n",
    "Unlike stress, deformation can be directly seen and measured. In the elastic region, however, common deformations are small for engineering materials, typically in the range of micrometers. For measurement, we therefore use a sensor called a **strain gauge**.\n",
    "\n",
    "An example is a **resistance strain gauge**, in which the electrical resistance changes during deformation, which can be measured precisely. The strain gauge works on the basis of the **dependence of the electrical resistance of a conductor on its length and cross-section**. The electrical resistance of a conductor is given by the relationship:\n",
    "\n",
    "$$\n",
    "R = \\rho \\frac{L}{A}$$\n",
    "\n",
    "where:\n",
    "- $R$ is the electrical resistance \\[$\\Omega$\\],\n",
    "- $\\rho$ is the specific electrical resistance of the material \\[$\\Omega$ m\\],\n",
    "- $L$ is the length of the conductor \\[m\\],\n",
    "- $A$ is the cross-sectional area of ​​the conductor \\[m$^2$\\].\n",
    "\n",
    "When the strain gauge is **stretched**, the length of the conductor increases and the cross-section decreases, which leads to an **increase in resistance**. Conversely, when **compressed**, the resistance decreases. The change in resistance $\\Delta R$ is proportional to the relative elongation according to the relationship:\n",
    "\n",
    "![](https://www.semiki.com/storage/2024/08/kyowa-strain-gages-semiki-dai-ly-strain-gages-1024x426.jpg)\n",
    "\n",
    "$$\n",
    "\\frac{\\Delta R}{R} = K \\cdot \\varepsilon\n",
    "$$\n",
    "\n",
    "where:\n",
    "- $K$ is the **strain gauge factor** (typically around 2 for metal strain gauges),\n",
    "- $\\varepsilon$ is the relative elongation \\[1\\]"
   ]
  },
  {
   "cell_type": "markdown",
   "id": "a13759ed-7a75-4045-b8d0-4027005db99d",
   "metadata": {},
   "source": [
    "## Young's modulus of elasticity (tensile modulus)\n",
    "\n",
    "> Young's modulus of elasticity \\( E \\) characterizes the **ability of a material to resist deformation under stress**.\n",
    "\n",
    "Young's modulus of elasticity is defined as the ratio of **normal stress** to the corresponding **relative strain** in the linear elastic region of the material:\n",
    "\n",
    "$$\n",
    "E = \\frac{\\sigma}{\\varepsilon}\n",
    "$$\n",
    "\n",
    "where:\n",
    "- $E$ is Young's modulus of elasticity (Pa, N/m²)\n",
    "- $\\sigma$ is normal stress (Pa, N/m²)\n",
    "- $\\varepsilon$ is relative strain (dimensionless quantity)\n",
    "\n",
    "In the **stress-strain diagram**, Young's modulus of elasticity corresponds to the **direction (slope) of the straight part of the curve**, i.e. the region where Hooke's law applies. The **steeper** this part of the curve is, the **stiffer** the material is and more resistant to deformation.\n",
    "\n",
    "![](https://upload.wikimedia.org/wikipedia/commons/thumb/8/80/ModulPruznosti2.svg/507px-ModulPruznosti2.svg.png)\n",
    "\n",
    "At the same tensile stress, material “B” exhibits significantly greater deformation than material “A”. Material “A” therefore has a higher tensile modulus of elasticity than material “B”. A higher value of the modulus of elasticity means that the material is **stiffer** and deforms less under the same load.\n",
    "\n",
    ">Note\n",
    ">\n",
    ">Thomas Young (1773–1829)\n",
    "[Thomas Young](https://en.wikipedia.org/wiki/Thomas_Young_(scientist)) was a **British physicist, physician and polymath** who was called [The Last Man Who Knew Everything](https://en.wikipedia.org/wiki/The_Last_Man_Who_Knew_Everything). He described **accommodation of the eye** and the role of the lens in focusing images, and is considered the founder of ocular physiology. He is also famous for his **double-slit experiment**, which provided evidence for the wave nature of light. He contributed to the decipherment of **Egyptian hieroglyphs**.\n",
    "\n",
    "Young described a characterization of elasticity that became known as Young's modulus, denoted $E$, in 1807 and further developed it in his [Course of Lectures on Natural Philosophy and the Mechanical Arts](https://archive.org/details/bub_gb_fGMSAAAAIAAJ). However, the first experimental use of the concept of Young's modulus was made by Giordano Riccati in 1782, 25 years before Young. Moreover, the idea can be traced back to a paper by Leonhard Euler, published in 1727, approximately 80 years before Young's paper of 1807.\n",
    ":::\n",
    "\n",
    "![]( https://www.researchgate.net/publication/339329536/figure/fig4/AS:11431281179441493@1691189416888/Approximate-Youngs-modulus-of-selected-biological-and-engineering-materials-Young_W640.jpg)"
   ]
  },
  {
   "cell_type": "code",
   "execution_count": null,
   "id": "99052c40-c014-4277-a51a-c99d4b1c0506",
   "metadata": {},
   "outputs": [],
   "source": []
  }
 ],
 "metadata": {
  "kernelspec": {
   "display_name": "Python 3 (ipykernel)",
   "language": "python",
   "name": "python3"
  },
  "language_info": {
   "codemirror_mode": {
    "name": "ipython",
    "version": 3
   },
   "file_extension": ".py",
   "mimetype": "text/x-python",
   "name": "python",
   "nbconvert_exporter": "python",
   "pygments_lexer": "ipython3",
   "version": "3.12.7"
  }
 },
 "nbformat": 4,
 "nbformat_minor": 5
}
