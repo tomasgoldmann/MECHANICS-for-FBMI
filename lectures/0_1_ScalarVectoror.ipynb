{
 "cells": [
  {
   "cell_type": "markdown",
   "metadata": {
    "slideshow": {
     "slide_type": "slide"
    }
   },
   "source": [
    "# Scalar and Vector\n",
    "\n",
    "Based on: [Marcos Duarte, Renato Naville Watanabe, Laboratory of Biomechanics and Motor Control](https://nbviewer.org/github/BMClab/BMC/blob/master/notebooks/ScalarVector.ipynb)"
   ]
  },
  {
   "cell_type": "markdown",
   "metadata": {
    "slideshow": {
     "slide_type": "slide"
    }
   },
   "source": [
    "Python handles very well all mathematical operations with numeric scalars and vectors and you can use [Sympy](http://sympy.org) for similar stuff but with abstract symbols. Let's briefly review scalars and vectors and show how to use Python for numerical calculation.  \n",
    "\n",
    "For a review about scalars and vectors, see chapter 2 of [Ruina and Rudra's book](http://ruina.tam.cornell.edu/Book/index.html)."
   ]
  },
  {
   "cell_type": "markdown",
   "metadata": {},
   "source": [
    "## Python setup"
   ]
  },
  {
   "cell_type": "code",
   "execution_count": 1,
   "metadata": {
    "ExecuteTime": {
     "end_time": "2020-09-25T18:14:33.148480Z",
     "start_time": "2020-09-25T18:14:33.145872Z"
    }
   },
   "outputs": [],
   "source": [
    "from IPython.display import IFrame\n",
    "import math\n",
    "import numpy as np"
   ]
  },
  {
   "cell_type": "markdown",
   "metadata": {
    "slideshow": {
     "slide_type": "slide"
    }
   },
   "source": [
    "## Scalar\n",
    "\n",
    ">A **scalar** is a one-dimensional physical quantity, which can be described by a single real number. This means that to describe it, it is enough to state its magnitude. Unlike vector quantities, which have a direction in addition to magnitude, scalars have no directional properties.  \n",
    "For example, time, mass, and energy are examples of scalars.\n",
    "    \n",
    "**Examples of scalar quantities:**\n",
    "- Length: For example, the length of a pencil is 15 cm.\n",
    "- Weight: The weight of a book is 500 grams.\n",
    "- Time: The duration of a movie is 2 hours.\n",
    "- Temperature: The temperature of water is 20 degrees Celsius.\n",
    "- Energy: The kinetic energy of a moving body is 100 Joules.\n",
    "## Extensive and intensive quantities\n",
    "\n",
    "In thermodynamics and physics, we generally distinguish two basic types of quantities: extensive and intensive. This division is important for understanding the behavior of systems and their properties.\n",
    "\n",
    "### Extensive quantities\n",
    "\n",
    "* **Definition:** Extensive quantities are those whose value depends on the size of the system, i.e. on the amount of matter or mass. If we double the amount of matter in the system, the value of the extensive quantity also doubles.\n",
    "\n",
    "* **Examples:**\n",
    "    * **Mass (m):** Total mass of a body.\n",
    "    * **Volume (V):** The space occupied by a body.\n",
    "    * **Energy (E):** Total energy of a system (internal energy, kinetic energy, potential energy).\n",
    "    * **Entropy (S):** The degree of disorder of a system.\n",
    "    * **Charge (Q):** Total electric charge.\n",
    "    * **Length (l):** Dimension of a body.\n",
    "\n",
    "### Intensive quantities\n",
    "\n",
    "* **Definition:** Intensive quantities are those whose value does not depend on the size of the system. They remain the same even if we change the amount of substance in the system.\n",
    "\n",
    "* **Examples:**\n",
    "    * **Temperature (T):** The degree of hotness or coldness.\n",
    "    * **Pressure (p):** The force acting on a unit area.\n",
    "    * **Density (ρ):** The mass per unit volume.\n",
    "    * **Specific heat capacity (c):** The amount of heat required to raise a unit mass by 1 degree.\n",
    "    * **Concentration (c):** The amount of substance in a given volume.\n",
    "\n",
    "### Relationship between extensive and intensive quantities\n",
    "\n",
    "* The ratio of two extensive quantities often gives an intensive quantity (e.g. density = mass/volume).\n",
    "* Intensive quantities are \"qualitative\" properties, while extensive quantities are \"quantitative\".\n",
    "\n",
    "### Practical significance\n",
    "\n",
    "The distinction between extensive and intensive quantities is crucial for the correct understanding and description of thermodynamic systems and processes. It allows us, for example, to:\n",
    "\n",
    "* Create thermodynamic models and equations.\n",
    "* Compare the properties of different substances.\n",
    "* Predict the behavior of systems under changing conditions.\n",
    "\n",
    "**Graphical representation of scalars**\n",
    "Scalars are usually represented graphically as just numbers with the appropriate unit. Unlike vectors, which are represented as lines with orientation, scalars have no direction, and therefore their graphical representation is simple.\n",
    "\n",
    "### Scalar operations in Python\n",
    "\n",
    "Simple arithmetic operations with scalars are indeed simple:"
   ]
  },
  {
   "cell_type": "code",
   "execution_count": 2,
   "metadata": {
    "ExecuteTime": {
     "end_time": "2020-09-25T18:14:33.156785Z",
     "start_time": "2020-09-25T18:14:33.152486Z"
    },
    "slideshow": {
     "slide_type": "fragment"
    }
   },
   "outputs": [
    {
     "name": "stdout",
     "output_type": "stream",
     "text": [
      "a = 2 , b = 3\n",
      "a + b = 5\n",
      "a - b = -1\n",
      "a * b = 6\n",
      "a / b = 0.6666666666666666\n",
      "a ** b = 8\n",
      "sqrt(b) = 1.7320508075688772\n"
     ]
    }
   ],
   "source": [
    "a = 2\n",
    "b = 3\n",
    "print('a =', a, ', b =', b)\n",
    "print('a + b =', a + b)\n",
    "print('a - b =', a - b)\n",
    "print('a * b =', a * b)\n",
    "print('a / b =', a / b)\n",
    "print('a ** b =', a ** b)\n",
    "print('sqrt(b) =', math.sqrt(b))"
   ]
  },
  {
   "cell_type": "markdown",
   "metadata": {
    "slideshow": {
     "slide_type": "slide"
    }
   },
   "source": [
    "If you have a set of numbers, or an array, it is probably better to use Numpy; it will be faster for large data sets, and combined with Scipy, has many more mathematical funcions."
   ]
  },
  {
   "cell_type": "code",
   "execution_count": 3,
   "metadata": {
    "ExecuteTime": {
     "end_time": "2020-09-25T18:14:33.164182Z",
     "start_time": "2020-09-25T18:14:33.159233Z"
    },
    "slideshow": {
     "slide_type": "fragment"
    }
   },
   "outputs": [
    {
     "name": "stdout",
     "output_type": "stream",
     "text": [
      "a = 2 , b = [3 4 5 6 7 8]\n",
      "a + b = [ 5  6  7  8  9 10]\n",
      "a - b = [-1 -2 -3 -4 -5 -6]\n",
      "a * b = [ 6  8 10 12 14 16]\n",
      "a / b = [0.66666667 0.5        0.4        0.33333333 0.28571429 0.25      ]\n",
      "a ** b = [  8  16  32  64 128 256]\n",
      "np.sqrt(b) = [1.73205081 2.         2.23606798 2.44948974 2.64575131 2.82842712]\n"
     ]
    }
   ],
   "source": [
    "a = 2\n",
    "b = [3, 4, 5, 6, 7, 8]\n",
    "b = np.array(b)\n",
    "print('a =', a, ', b =', b)\n",
    "print('a + b =', a + b)\n",
    "print('a - b =', a - b)\n",
    "print('a * b =', a * b)\n",
    "print('a / b =', a / b)\n",
    "print('a ** b =', a ** b)\n",
    "print('np.sqrt(b) =', np.sqrt(b))  # use numpy functions for numpy arrays"
   ]
  },
  {
   "cell_type": "markdown",
   "metadata": {
    "slideshow": {
     "slide_type": "slide"
    }
   },
   "source": [
    "Numpy performs the arithmetic operations of the single number in `a` with all the numbers of the array `b`. This is called broadcasting in computer science.   \n",
    "Even if you have two arrays (but they must have the same size), Numpy handles for you:"
   ]
  },
  {
   "cell_type": "code",
   "execution_count": 4,
   "metadata": {
    "ExecuteTime": {
     "end_time": "2020-09-25T18:14:33.169496Z",
     "start_time": "2020-09-25T18:14:33.165541Z"
    },
    "slideshow": {
     "slide_type": "fragment"
    }
   },
   "outputs": [
    {
     "name": "stdout",
     "output_type": "stream",
     "text": [
      "a = [1 2 3] , b = [4 5 6]\n",
      "a + b = [5 7 9]\n",
      "a - b = [-3 -3 -3]\n",
      "a * b = [ 4 10 18]\n",
      "a / b = [0.25 0.4  0.5 ]\n",
      "a ** b = [  1  32 729]\n"
     ]
    }
   ],
   "source": [
    "a = np.array([1, 2, 3])\n",
    "b = np.array([4, 5, 6])\n",
    "print('a =', a, ', b =', b)\n",
    "print('a + b =', a + b)\n",
    "print('a - b =', a - b)\n",
    "print('a * b =', a * b)\n",
    "print('a / b =', a / b)\n",
    "print('a ** b =', a ** b)"
   ]
  },
  {
   "cell_type": "markdown",
   "metadata": {
    "slideshow": {
     "slide_type": "slide"
    }
   },
   "source": [
    "## Vector\n",
    "\n",
    ">A **vector** is a quantity with magnitude (or length) and direction.\n",
    "\n",
    "For example, position, force, and torque are physical quantities defined by vectors.\n",
    "What does it means? \n",
    "    \n",
    "**Magnitude**: Specifies the \"intensity\" or \"amount\" of the quantity. For example, a speed of 50 km/h indicates the magnitude of the speed.\n",
    "**Direction**: Specifies where the quantity \"points\" or \"acts\". For example, a speed of 50 km/h east indicates both the magnitude and the direction of the movement.\n",
    "Graphical representation:\n",
    "\n",
    "A vector is graphically represented as a **oriented abscissa**.\n",
    "\n",
    "The length of the line segment represents the magnitude of the vector.\n",
    "The direction of the line segment (and the arrow at its end) represents the direction of the vector.\n",
    "\n",
    "The symbols for vectors are usually printed in bold in books, such as **a**. Other notation conventions include $\\vec {a}$. To avoid misunderstandings, we will denote vectors $\\vec{\\mathbf{a}}$ in our course.\n",
    "\n",
    "For example, consider the position of a point in space represented by a vector:\n",
    "\n",
    "![image.png](https://fyzweb.cz/materialy/sily/sourad/sourad1.gif)\n",
    "\n",
    "https://fyzweb.cz/materialy/sily/sourad/sourad1.gif\n",
    "\n",
    "The position of a point represented by a vector in a Cartesian coordinate system.\n",
    "\n",
    "The position of the point (vector) above can be represented as a triplet of values:\n",
    "\n",
    "$$ (x,\\: y,\\: z) \\; \\Rightarrow \\; (5, 3, -2) $$\n",
    "\n",
    "or in matrix form:\n",
    "\n",
    "$$ \\begin{bmatrix} x \\\\y \\\\z \\end{bmatrix} \\;\\; \\Rightarrow \\;\\; \\begin{bmatrix} 1 \\\\3 \\\\2 \\end{bmatrix}$$\n",
    "\n",
    "We can use Numpy arrays to represent the components of vectors.\n",
    "For example, for the above vector, it is expressed in Python as:\n"
   ]
  },
  {
   "cell_type": "code",
   "execution_count": 5,
   "metadata": {
    "ExecuteTime": {
     "end_time": "2020-09-25T18:14:33.172492Z",
     "start_time": "2020-09-25T18:14:33.170590Z"
    },
    "slideshow": {
     "slide_type": "fragment"
    }
   },
   "outputs": [
    {
     "name": "stdout",
     "output_type": "stream",
     "text": [
      "a = [1 3 2]\n"
     ]
    }
   ],
   "source": [
    "a = np.array([1, 3, 2])\n",
    "print('a =', a)\n"
   ]
  },
  {
   "cell_type": "markdown",
   "metadata": {},
   "source": [
    "\n",
    "Exactly like the arrays in the last example for scalars, so all operations we performed will result in the same values, of course.   \n",
    "However, as we are now dealing with vectors, now some of the  operations dont make sense. For example, for vectors there are no multiplication, division, power, and square root in the way we calculated.\n",
    "\n",
    "A vector can also be represented as:\n",
    "\n",
    "\n",
    "Where <span class=\"notranslate\"> $\\hat{\\mathbf{i}},\\, \\hat{\\mathbf{j}},\\, \\hat{\\mathbf{k}}\\,$ </span> are unit vectors, each representing a direction and <span class=\"notranslate\"> $ a_x\\hat{\\mathbf{i}},\\: a_y\\hat{\\mathbf{j}},\\: a_z\\hat{\\mathbf{k}} $ </span> are the vector components of the vector <span class=\"notranslate\">$\\overrightarrow{\\mathbf{a}}$</span>.\n",
    "\n",
    "A unit vector (or versor) is a vector whose length (or norm) is 1.   \n",
    "The unit vector of a non-zero vector <span class=\"notranslate\">$\\overrightarrow{\\mathbf{a}}$</span> is the unit vector codirectional with <span class=\"notranslate\">$\\overrightarrow{\\mathbf{a}}$</span>:\n"
   ]
  },
  {
   "cell_type": "code",
   "execution_count": 6,
   "metadata": {
    "scrolled": true
   },
   "outputs": [
    {
     "data": {
      "text/html": [
       "\n",
       "        <iframe\n",
       "            width=\"100%\"\n",
       "            height=\"500\"\n",
       "            src=\"https://www.geogebra.org/classic/ydu8a7t7?embed\"\n",
       "            frameborder=\"0\"\n",
       "            allowfullscreen\n",
       "            \n",
       "        ></iframe>\n",
       "        "
      ],
      "text/plain": [
       "<IPython.lib.display.IFrame at 0x2904fe73da0>"
      ]
     },
     "execution_count": 6,
     "metadata": {},
     "output_type": "execute_result"
    }
   ],
   "source": [
    "IFrame('https://www.geogebra.org/classic/ydu8a7t7?embed', width='100%', height=500)"
   ]
  },
  {
   "cell_type": "markdown",
   "metadata": {},
   "source": [
    "## Multiplication of vector by scalar\n",
    "\n",
    "For the components of the vector ${a_x}\\vec{\\mathbf{i}}$, we have already used the multiplication of the vector $\\vec{\\mathbf{i}}$ by the number $a_x$.\n",
    "\n",
    "> Multiplication of vector by scalar is an operation that changes the magnitude of the vector, but not its direction. We can think of it as \"stretching\" or \"shortening\" the vector.\n",
    "\n",
    "**How ​​it works**:\n",
    "- **Increase:** When we multiply a vector by a positive scalar (a number greater than 1), we increase its magnitude. It is as if we are \"stretching\" the vector.\n",
    "- **Decrease:** When we multiply a vector by a positive scalar between 0 and 1, we decrease its magnitude. It is as if we are \"shortening\" the vector.\n",
    "- **Change of direction:** When we multiply a vector by a negative scalar, we change its direction to the opposite. It is as if we are \"rotating\" the vector by 180 degrees. The magnitude of the vector can also change depending on the absolute value of the scalar."
   ]
  },
  {
   "cell_type": "code",
   "execution_count": 7,
   "metadata": {},
   "outputs": [
    {
     "name": "stdout",
     "output_type": "stream",
     "text": [
      "a * b = [4 2]\n",
      "a * b = [1.  0.5]\n",
      "a * d = [-2 -1]\n"
     ]
    }
   ],
   "source": [
    "a = np.array([2,1])\n",
    "b = 2\n",
    "c = 0.5\n",
    "d = -1\n",
    "print('a * b =', a* b)\n",
    "print('a * b =', a * c)\n",
    "print('a * d =', a * d)"
   ]
  },
  {
   "cell_type": "code",
   "execution_count": 8,
   "metadata": {
    "scrolled": true
   },
   "outputs": [
    {
     "data": {
      "text/html": [
       "\n",
       "        <iframe\n",
       "            width=\"100%\"\n",
       "            height=\"500\"\n",
       "            src=\"https://www.geogebra.org/classic/HYZXHadK?embed\"\n",
       "            frameborder=\"0\"\n",
       "            allowfullscreen\n",
       "            \n",
       "        ></iframe>\n",
       "        "
      ],
      "text/plain": [
       "<IPython.lib.display.IFrame at 0x2904fa484d0>"
      ]
     },
     "execution_count": 8,
     "metadata": {},
     "output_type": "execute_result"
    }
   ],
   "source": [
    "IFrame('https://www.geogebra.org/classic/HYZXHadK?embed', width='100%', height=500)"
   ]
  },
  {
   "cell_type": "markdown",
   "metadata": {},
   "source": [
    "If we have a vector $\\vec{{\\mathbf{a}}}$, there exists an opposite vector $-\\vec{{\\mathbf{a}}}$. For this vector:\n",
    "$$\\vec{{\\mathbf{a}}} + (-\\vec{{\\mathbf{a}}}) = \\vec{{\\mathbf{0}}}$$\n",
    "where $\\vec{{\\mathbf{0}}}$ is the zero vector $\\vec{{\\mathbf{0}}} = (0,0,0)$."
   ]
  },
  {
   "cell_type": "markdown",
   "metadata": {},
   "source": [
    "Scalar multiplication in Python works simply like array multiplication. However, since we are now dealing with vectors, some operations now don't make sense. For example, there is no multiplication, division, power, or square root for a pair of vectors in the way we calculated them.\n",
    "\n",
    "The unit vector $\\vec{\\mathbf{u}}$ of a nonzero vector $\\vec{\\mathbf{a}}$ is a unit vector with the same direction:\n",
    "\n",
    "$$ \\mathbf{\\vec{u}} = \\frac{\\overrightarrow{\\mathbf{a}}}{||\\overrightarrow{\\mathbf{a}}||} = \\frac{a_x\\,\\hat{\\mathbf{i}} + a_y\\,\\hat{\\mathbf{j}} + a_z\\, \\hat{\\mathbf{k}}}{\\sqrt{a_x^2+a_y^2+a_z^2}} $$"
   ]
  },
  {
   "cell_type": "markdown",
   "metadata": {},
   "source": [
    "### Magnitude (length or norm) of a vector\n",
    "\n",
    "The magnitude (length) of a vector is often represented by the symbol $ || \\; || $, also known as the norm (or Euclidean norm) of a vector and is defined as:\n",
    "$$ ||\\overrightarrow{\\mathbf{a}}|| = \\sqrt{a_x^2+a_y^2+a_z^2} $$\n",
    "The `numpy.linalg.norm` function calculates the norm:"
   ]
  },
  {
   "cell_type": "code",
   "execution_count": 9,
   "metadata": {},
   "outputs": [
    {
     "data": {
      "text/plain": [
       "3.7416573867739413"
      ]
     },
     "execution_count": 9,
     "metadata": {},
     "output_type": "execute_result"
    }
   ],
   "source": [
    "a = np.array([1, 2, 3])\n",
    "np.linalg.norm(a)"
   ]
  },
  {
   "cell_type": "markdown",
   "metadata": {},
   "source": [
    "Or we can use the definition directly and calculate:"
   ]
  },
  {
   "cell_type": "code",
   "execution_count": 10,
   "metadata": {},
   "outputs": [
    {
     "data": {
      "text/plain": [
       "3.7416573867739413"
      ]
     },
     "execution_count": 10,
     "metadata": {},
     "output_type": "execute_result"
    }
   ],
   "source": [
    "np.sqrt(np.sum(a*a))"
   ]
  },
  {
   "cell_type": "markdown",
   "metadata": {},
   "source": [
    "Then, the eigenvector (unit vector) for the vector $ \\overrightarrow{\\mathbf{a}} = (1, 2, 3)$ is:"
   ]
  },
  {
   "cell_type": "code",
   "execution_count": 11,
   "metadata": {},
   "outputs": [
    {
     "name": "stdout",
     "output_type": "stream",
     "text": [
      "u = [0.26726124 0.53452248 0.80178373]\n"
     ]
    }
   ],
   "source": [
    "a = np.array([1, 2, 3])\n",
    "u = a/np.linalg.norm(a)\n",
    "print('u =', u)"
   ]
  },
  {
   "cell_type": "markdown",
   "metadata": {},
   "source": [
    "And we can verify that its size is indeed 1:"
   ]
  },
  {
   "cell_type": "code",
   "execution_count": 12,
   "metadata": {},
   "outputs": [
    {
     "data": {
      "text/plain": [
       "1.0"
      ]
     },
     "execution_count": 12,
     "metadata": {},
     "output_type": "execute_result"
    }
   ],
   "source": [
    "np.linalg.norm(u)"
   ]
  },
  {
   "cell_type": "markdown",
   "metadata": {},
   "source": [
    "But the representation of a vector as a tuple of values ​​is only valid for a vector with its point of action coinciding with the origin of the coordinate system. $ (0, 0, 0) $.\n",
    "For example, consider the following vector:\n",
    "![vector in space](https://images.nagwa.com/figures/explainers/694162356987/6.svg)\n",
    "\n",
    "Such a vector cannot be represented by $(B_x, B_y, B_z)$, because it would be a vector from the origin to point B. To accurately represent this vector we need two vectors $\\vec{OB}$ and $\\vec{OA}$. This fact is important when we perform some calculations in mechanics."
   ]
  },
  {
   "cell_type": "markdown",
   "metadata": {},
   "source": [
    "### Addition and substraction of vectors"
   ]
  },
  {
   "cell_type": "markdown",
   "metadata": {},
   "source": [
    "By adding two vectors we will obtain another vector:\n",
    "$$ \\overrightarrow{\\mathbf{a}} + \\overrightarrow{\\mathbf{b}} = (a_x\\vec{\\mathbf{i}} + a_y\\vec{\\mathbf{j}} + a_z\\vec{\\mathbf{k}}) + (b_x\\vec{\\mathbf{i}} + b_y\\vec{\\mathbf{j}} + b_z\\vec{\\mathbf{k}}) = \n",
    "(a_x+b_x)\\vec{\\mathbf{i}} + (a_y+b_y)\\vec{\\mathbf{j}} + (a_z+b_z)\\vec{\\mathbf{k}} $$\n",
    "\n",
    "In matrix notation it will look like this:\n",
    "$$\\begin{bmatrix} a_x \\\\ a_y \\\\ a_z \\end{bmatrix}  +  \\begin{bmatrix} b_x \\\\ b_y \\\\ b_z \\end{bmatrix} = \\begin{bmatrix} a_x + b_x \\\\ a_y + b_y \\\\ a_z + b_z \\end{bmatrix}$$"
   ]
  },
  {
   "cell_type": "markdown",
   "metadata": {},
   "source": [
    "The parallelogram method is a graphical method that allows us to visually add two vectors.\n",
    "\n",
    "**Procedure:**\n",
    "1. Drawing the vectors: We draw the two vectors that we want to add so that their starting points coincide.\n",
    "2. Constructing a parallelogram: We construct parallelograms from the endpoints of both vectors. That is, from the endpoint of the first vector we construct a line parallel to the second vector and vice versa. This creates a parallelogram.\n",
    "3. Resulting vector: The diagonal of the parallelogram, which starts from the point where the two vectors meet, represents the resulting vector (vector sum)."
   ]
  },
  {
   "cell_type": "code",
   "execution_count": 13,
   "metadata": {},
   "outputs": [
    {
     "data": {
      "text/html": [
       "\n",
       "        <iframe\n",
       "            width=\"100%\"\n",
       "            height=\"500\"\n",
       "            src=\"https://www.geogebra.org/classic/FCknj7c3?embed\"\n",
       "            frameborder=\"0\"\n",
       "            allowfullscreen\n",
       "            \n",
       "        ></iframe>\n",
       "        "
      ],
      "text/plain": [
       "<IPython.lib.display.IFrame at 0x2904fa4a300>"
      ]
     },
     "execution_count": 13,
     "metadata": {},
     "output_type": "execute_result"
    }
   ],
   "source": [
    "IFrame('https://www.geogebra.org/classic/FCknj7c3?embed', width='100%', height=500)"
   ]
  },
  {
   "cell_type": "markdown",
   "metadata": {},
   "source": [
    "In space, the parallelogram method works the same way, but we have to construct it in the plane defined by both vectors. Therefore, in space, we prefer to rely on the calculation"
   ]
  },
  {
   "cell_type": "code",
   "execution_count": 14,
   "metadata": {},
   "outputs": [
    {
     "data": {
      "text/html": [
       "\n",
       "        <iframe\n",
       "            width=\"100%\"\n",
       "            height=\"500\"\n",
       "            src=\"https://www.geogebra.org/classic/gkhaxb2b?embed\"\n",
       "            frameborder=\"0\"\n",
       "            allowfullscreen\n",
       "            \n",
       "        ></iframe>\n",
       "        "
      ],
      "text/plain": [
       "<IPython.lib.display.IFrame at 0x2904fe89070>"
      ]
     },
     "execution_count": 14,
     "metadata": {},
     "output_type": "execute_result"
    }
   ],
   "source": [
    "IFrame('https://www.geogebra.org/classic/gkhaxb2b?embed', width='100%', height=500)"
   ]
  },
  {
   "cell_type": "markdown",
   "metadata": {},
   "source": [
    "Subtracting two vectors is also another vector:\n",
    "\n",
    "$$ \\overrightarrow{\\mathbf{a}} - \\overrightarrow{\\mathbf{b}} = (a_x\\vec{\\mathbf{i}} + a_y\\vec{\\mathbf{j}} + a_z\\vec{\\mathbf{k}}) - (b_x\\vec{\\mathbf{i}} + b_y\\vec{\\mathbf{j}} + b_z\\vec{\\mathbf{k}}) = \n",
    "(a_x-b_x)\\vec{\\mathbf{i}} + (a_y-b_y)\\vec{\\mathbf{j}} + (a_z-b_z)\\vec{\\mathbf{k}} $$\n",
    "\n",
    "In matrix form:\n",
    "$$\\begin{bmatrix} a_x \\\\ a_y \\\\ a_z \\end{bmatrix}  -  \\begin{bmatrix} b_x \\\\ b_y \\\\ b_z \\end{bmatrix} = \\begin{bmatrix} a_x - b_x \\\\ a_y - b_y \\\\ a_z - b_z \\end{bmatrix}$$"
   ]
  },
  {
   "cell_type": "markdown",
   "metadata": {},
   "source": [
    "Consider two 2D arrays (rows and columns) representing the positions of two objects moving in space. The columns represent the vector components and the rows the values ​​of the position vector at different times. It is easy to perform addition and subtraction with these vectors:"
   ]
  },
  {
   "cell_type": "code",
   "execution_count": 15,
   "metadata": {},
   "outputs": [
    {
     "name": "stdout",
     "output_type": "stream",
     "text": [
      "a = [[1 2 3]\n",
      " [1 1 1]] \n",
      "b = [[4 5 6]\n",
      " [7 8 9]]\n",
      "a + b = [[ 5  7  9]\n",
      " [ 8  9 10]]\n",
      "a - b = [[-3 -3 -3]\n",
      " [-6 -7 -8]]\n"
     ]
    }
   ],
   "source": [
    "a = np.array([[1, 2, 3], [1, 1, 1]])\n",
    "b = np.array([[4, 5, 6], [7, 8, 9]])\n",
    "print('a =', a, '\\nb =', b)\n",
    "print('a + b =', a + b)\n",
    "print('a - b =', a - b)"
   ]
  },
  {
   "cell_type": "markdown",
   "metadata": {},
   "source": [
    "Numpy can handle n-dimensional arrays with a size limited by the available memory on the computer.\n",
    "\n",
    "And we can perform operations on each vector, such as calculating the norm of each one.\n",
    "First, we check the shape of the variable `a` using the `shape` method or the `numpy.shape` function:"
   ]
  },
  {
   "cell_type": "code",
   "execution_count": 16,
   "metadata": {},
   "outputs": [
    {
     "name": "stdout",
     "output_type": "stream",
     "text": [
      "(2, 3)\n",
      "(2, 3)\n"
     ]
    }
   ],
   "source": [
    "print(a.shape)\n",
    "print(np.shape(a))"
   ]
  },
  {
   "cell_type": "markdown",
   "metadata": {},
   "source": [
    "This means that variable A has 2 rows and 3 columns. We need to tell the numpy.norm function to calculate the norm for each vector, i.e. to work through the columns of the variable and using the axis parameters:"
   ]
  },
  {
   "cell_type": "code",
   "execution_count": 17,
   "metadata": {},
   "outputs": [
    {
     "data": {
      "text/plain": [
       "array([3.74165739, 1.73205081])"
      ]
     },
     "execution_count": 17,
     "metadata": {},
     "output_type": "execute_result"
    }
   ],
   "source": [
    "np.linalg.norm(a, axis=1)"
   ]
  },
  {
   "cell_type": "markdown",
   "metadata": {},
   "source": [
    "### Vector between two given points\n",
    "\n",
    "from [Lesson Explainer: Vectors in Space](https://www.nagwa.com/en/explainers/694162356987/)\n",
    "\n",
    "Let's start by considering two distinct points a in space, as shown in the figure.\n",
    "![point AB](https://images.nagwa.com/figures/explainers/694162356987/5.svg)\n",
    "\n",
    "We want to construct a vector from $A$ to $B$, which is denoted by $\\vec{AB}$\n",
    "![vector AB](https://images.nagwa.com/figures/explainers/694162356987/6.svg)\n",
    "\n",
    "To achieve this, we can travel through the origin, as shown in the figure below. We can go from point $O$ to point $A$ and then from point $O$ to point\n",
    "$B$.\n",
    "![vector AB](https://images.nagwa.com/figures/explainers/694162356987/7.svg)\n",
    "\n",
    "This can be written as the following equation using vectors:\n",
    "$$\\vec{AB} = \\vec{AO} + \\vec{OB} $$\n",
    "For any point $A$,\n",
    "$$\\vec{AO} = - \\vec{OA}$$\n",
    "We can use this property to rewrite our equation as:\n",
    "$$\\vec{AB} = -\\vec{OA} + \\vec{BO} $$\n",
    "The vector $\\vec{AB}$ can thus be expressed as\n",
    "\n",
    "$$\\vec{AB} = \\vec{BO} - \\vec{OA} = \\vec{\\mathbf{B}} - \\vec{\\mathbf{A}}$$\\\n",
    "The vector between two points can be obtained by subtracting the position vector of the starting point from the position vector of the final point."
   ]
  },
  {
   "cell_type": "code",
   "execution_count": 18,
   "metadata": {},
   "outputs": [
    {
     "data": {
      "text/html": [
       "\n",
       "        <iframe\n",
       "            width=\"100%\"\n",
       "            height=\"500\"\n",
       "            src=\"https://www.geogebra.org/classic/NrzgxrQa?embed\"\n",
       "            frameborder=\"0\"\n",
       "            allowfullscreen\n",
       "            \n",
       "        ></iframe>\n",
       "        "
      ],
      "text/plain": [
       "<IPython.lib.display.IFrame at 0x2904fa656d0>"
      ]
     },
     "execution_count": 18,
     "metadata": {},
     "output_type": "execute_result"
    }
   ],
   "source": [
    "IFrame('https://www.geogebra.org/classic/NrzgxrQa?embed', width='100%', height=500)"
   ]
  },
  {
   "cell_type": "markdown",
   "metadata": {},
   "source": [
    "## Dot Product\n",
    "\n",
    ">The dot product is an operation that assigns a single number (scalar) to two vectors.\n",
    "\n",
    "This number tells us how much the two vectors \"agree\" or \"point in the same direction\". The dot product allows us to calculate the projection of one vector onto another. This projection tells us how much of one vector \"points\" in the direction of the other vector.\n",
    "\n",
    "**Mathematical notation**\n",
    "The scalar product of the vectors $\\vec{\\mathbf{u}}$ and $\\vec{\\mathbf{v}}$ is denoted by $\\vec{\\mathbf{u}} \\cdot \\vec{\\mathbf{u}}$.\n",
    "\n",
    "Let us define the scalar product of unit vectors in a rectangular coordinate system.\n",
    "$$ \\vec{\\mathbf{i}} \\cdot \\vec{\\mathbf{i}} = \\vec{\\mathbf{j}} \\cdot \\vec{\\mathbf{j}} = \\vec{\\mathbf{k}} \\cdot \\vec{\\mathbf{k}}= 1 \\quad \\text{a} \\quad \\vec{\\mathbf{i}} \\cdot \\vec{\\mathbf{j}} = \\vec{\\mathbf{i}} \\cdot \\vec{\\mathbf{k}} = \\vec{\\mathbf{j}} \\cdot \\vec{\\mathbf{k}} = 0 $$\n",
    "\n",
    "The dot product between two vectors is a mathematical operation algebraically defined as the sum of the multiples of the individual components (in each direction) of both vectors.\n",
    "$$ \\overrightarrow{\\mathbf{a}} \\cdot \\overrightarrow{\\mathbf{b}} = (a_x\\,\\vec{\\mathbf{i}}+a_y\\,\\vec{\\mathbf{j}}+a_z\\,\\vec{\\mathbf{k}}) \\cdot (b_x\\,\\vec{\\mathbf{i}}+b_y\\,\\vec{\\mathbf{j}}+b_z\\,\\vec{\\mathbf{k}}) = a_x b_x + a_y b_y + a_z b_z $$\n",
    "\n",
    "The geometric equivalent of the dot product is the product of the magnitudes of the two vectors and the cosine of the angle between them:\n",
    "$$ \\overrightarrow{\\mathbf{a}} \\cdot \\overrightarrow{\\mathbf{b}} = ||\\overrightarrow{\\mathbf{a}}||\\:||\\overrightarrow{\\mathbf{b}}||\\:cos(\\theta) $$\n",
    "\n",
    "Which is also equivalent to the dot product of the vector $\\overrightarrow{\\mathbf{a}}$ and $\\overrightarrow{\\mathbf{b}}$ is the magnitude of the vector $\\overrightarrow{\\mathbf{a}}$ and the magnitude of the component $\\overrightarrow{\\mathbf{b}}$ parallel to $\\overrightarrow{\\mathbf{a}}$\n",
    "\n",
    "In matrix notation, we can write it as the multiplication of a pair of vectors\n",
    "$$ \\overrightarrow{\\mathbf{a}} \\cdot \\overrightarrow{\\mathbf{b}} = \\begin{bmatrix} a_x \\\\ a_y \\\\ a_z \\end{bmatrix} \\begin{bmatrix} b_x \\\\ b_y \\\\ b_z \\end{bmatrix}^T = \\begin{bmatrix} a_x \\\\ a_y \\\\ a_z \\end{bmatrix} [b_x, b_y, b_z]$$"
   ]
  },
  {
   "cell_type": "markdown",
   "metadata": {},
   "source": [
    "In this interactive animation, you can visualize the dot product between two vectors:"
   ]
  },
  {
   "cell_type": "code",
   "execution_count": 19,
   "metadata": {},
   "outputs": [
    {
     "data": {
      "text/html": [
       "\n",
       "        <iframe\n",
       "            width=\"100%\"\n",
       "            height=\"500\"\n",
       "            src=\"https://www.geogebra.org/classic/ncdf2jsw?embed\"\n",
       "            frameborder=\"0\"\n",
       "            allowfullscreen\n",
       "            \n",
       "        ></iframe>\n",
       "        "
      ],
      "text/plain": [
       "<IPython.lib.display.IFrame at 0x2904ff3daf0>"
      ]
     },
     "execution_count": 19,
     "metadata": {},
     "output_type": "execute_result"
    }
   ],
   "source": [
    "IFrame('https://www.geogebra.org/classic/ncdf2jsw?embed',\n",
    "       width='100%', height=500)"
   ]
  },
  {
   "cell_type": "markdown",
   "metadata": {},
   "source": [
    "The Numpy function for the dot product is `numpy.dot`:"
   ]
  },
  {
   "cell_type": "code",
   "execution_count": 20,
   "metadata": {},
   "outputs": [
    {
     "name": "stdout",
     "output_type": "stream",
     "text": [
      "a = [5 2 3] \n",
      "b = [4 5 6]\n",
      "np.dot(a, b) = 48\n"
     ]
    }
   ],
   "source": [
    "a = np.array([5, 2, 3])\n",
    "b = np.array([4, 5, 6])\n",
    "print('a =', a, '\\nb =', b)\n",
    "print('np.dot(a, b) =', np.dot(a, b))"
   ]
  },
  {
   "cell_type": "markdown",
   "metadata": {},
   "source": [
    "Or we can use the definition directly and calculate directly:"
   ]
  },
  {
   "cell_type": "code",
   "execution_count": 21,
   "metadata": {},
   "outputs": [
    {
     "data": {
      "text/plain": [
       "48"
      ]
     },
     "execution_count": 21,
     "metadata": {},
     "output_type": "execute_result"
    }
   ],
   "source": [
    "np.sum(a*b)"
   ]
  },
  {
   "cell_type": "markdown",
   "metadata": {},
   "source": [
    "For 2D arrays, the numpy.dot function performs multiplication rather than dot product; so let's use the numpy.sum function:"
   ]
  },
  {
   "cell_type": "code",
   "execution_count": 22,
   "metadata": {},
   "outputs": [
    {
     "data": {
      "text/plain": [
       "array([32, 24])"
      ]
     },
     "execution_count": 22,
     "metadata": {},
     "output_type": "execute_result"
    }
   ],
   "source": [
    "a = np.array([[1, 2, 3], [1, 1, 1]])\n",
    "b = np.array([[4, 5, 6], [7, 8, 9]])\n",
    "np.sum(a*b, axis=1)"
   ]
  },
  {
   "cell_type": "markdown",
   "metadata": {},
   "source": [
    "## Cross product\n",
    "\n",
    "> Cross (vector) product is a binary operation defined in three-dimensional Euclidean space that assigns a new vector to two vectors that is perpendicular to both of them. Unlike the scalar product, which results in a number (scalar), the result of a vector product is again a vector.\n",
    "\n",
    "**Mathematical notation**\n",
    "The cross product of vectors $\\vec{\\mathbf{a}}$ and $\\vec{\\mathbf{b}}$ is denoted by $\\vec{\\mathbf{a}} \\times \\vec{\\mathbf{b}}$.\n",
    "\n",
    "**Geometric interpretation**\n",
    "- **Direction**: The resulting vector is perpendicular to the plane defined by vectors $\\vec{\\mathbf{a}}$ and $\\vec{\\mathbf{b}}$. Its direction is determined using the right-hand rule: If we bend the fingers of our right hand from vector u to vector v, the thumb shows us the direction of the resulting vector.\n",
    "\n",
    "![right-hand rule](https://www.ck12.org//flx/show/THUMB_POSTCARD/image/user%3Af99688690816/28.43.2.png)\n",
    "\n",
    "- **Magnitude**: The magnitude of the resulting vector is equal to the area of ​​the parallelogram defined by the vectors $\\vec{\\mathbf{a}}$ and $\\vec{\\mathbf{b}}$.\n",
    "\n",
    "$$ \\overrightarrow{\\mathbf{a}} \\times \\overrightarrow{\\mathbf{b}} = ||\\overrightarrow{\\mathbf{a}}||\\:||\\overrightarrow{\\mathbf{b}}||\\:sin(\\theta) $$\n",
    "\n",
    "<br>\n",
    "<figure><img src=\"http://upload.wikimedia.org/wikipedia/commons/4/4e/Cross_product_parallelogram.svg\" width=160 alt=\"Vector subtraction\"/><figcaption><i>Fig. The area of ​​a parallelogram is equal to the magnitude of the cross product (source Wikipedia).</i>\n",
    "</figcaption></figure>\n",
    "\n",
    "**Analytical expression**\n",
    "\n",
    "Let's define the cross product of unit vectors:\n",
    "$$ \\begin{array}{l l}\n",
    "\\vec{\\mathbf{i}} \\times \\vec{\\mathbf{i}} = \\vec{\\mathbf{j}} \\times \\vec{\\mathbf{j}} = \\vec{\\mathbf{k}} \\times \\vec{\\mathbf{k}} = 0 \\\\\n",
    "\\vec{\\mathbf{i}} \\times \\vec{\\mathbf{j}} = \\vec{\\mathbf{k}}, \\quad \\vec{\\mathbf{k}} \\times \\vec{\\mathbf{k}} = \\vec{\\mathbf{i}}, \\quad \\vec{\\mathbf{k}} \\times \\vec{\\mathbf{i}} = \\vec{\\mathbf{j}} \\\\\n",
    "\\vec{\\mathbf{j}} \\times \\vec{\\mathbf{i}} = -\\vec{\\mathbf{k}}, \\quad \\vec{\\mathbf{k}} \\times \\vec{\\mathbf{j}}= -\\vec{\\mathbf{i}}, \\quad \\vec{\\mathbf{i}} \\times \\vec{\\mathbf{k}} = -\\vec{\\mathbf{j}}\n",
    "\\end{array} $$\n",
    "\n",
    "we then obtain\n",
    "\n",
    "$$ \\overrightarrow{\\mathbf{a}} \\times \\overrightarrow{\\mathbf{b}} = (a_x\\,\\vec{\\mathbf{i}} + a_y\\,\\vec{\\mathbf{j}} + a_z\\,\\vec{\\mathbf{k}}) \\times (b_x\\,\\vec{\\mathbf{i}}+b_y\\,\\vec{\\mathbf{j}}+b_z\\,\\vec{\\mathbf{k}}) = (a_y b_z-a_z b_y)\\vec{\\mathbf{i}} + (a_z b_x-a_x b_z)\\vec{\\mathbf{j}}+(a_x b_y- a_y b_x)\\vec{\\mathbf{k}} $$\n",
    "\n",
    "The cross product can also be calculated as the determinant of a matrix:\n",
    "$$ \\overrightarrow{\\mathbf{a}} \\times \\overrightarrow{\\mathbf{b}} = \\left| \\begin{array}{ccc}\n",
    "\\vec{\\mathbf{i}} & \\vec{\\mathbf{j}} & \\vec{\\mathbf{k}} \\\\\n",
    "a_x & a_y & a_z \\\\\n",
    "b_x & b_y & b_z\n",
    "\\end{array} \\right|\n",
    "= a_y b_z \\vec{\\mathbf{i}} + a_z b_x \\vec{\\mathbf{j}} + a_x b_y \\vec{\\mathbf{k}} - a_y b_x \\vec{\\mathbf{k}}-a_z b_y \\vec{\\mathbf{i}} - a_x b_z \\vec{\\mathbf{j}} $$\n",
    "$$\\overrightarrow{\\mathbf{a}} \\times \\overrightarrow{\\mathbf{b}} = (a_y b_z-a_z b_y)\\vec{\\mathbf{i}} + (a_z b_x-a_x b_z)\\vec{\\mathbf{j}} + (a_x b_y-a_y b_x)\\vec{\\mathbf{k}} $$"
   ]
  },
  {
   "cell_type": "markdown",
   "metadata": {},
   "source": [
    "In this interactive animation, you can visualize the cross product between two vectors:"
   ]
  },
  {
   "cell_type": "code",
   "execution_count": 23,
   "metadata": {},
   "outputs": [
    {
     "data": {
      "text/html": [
       "\n",
       "        <iframe\n",
       "            width=\"100%\"\n",
       "            height=\"500\"\n",
       "            src=\"https://www.geogebra.org/classic/cz6v2U99?embed\"\n",
       "            frameborder=\"0\"\n",
       "            allowfullscreen\n",
       "            \n",
       "        ></iframe>\n",
       "        "
      ],
      "text/plain": [
       "<IPython.lib.display.IFrame at 0x2904ff3eae0>"
      ]
     },
     "execution_count": 23,
     "metadata": {},
     "output_type": "execute_result"
    }
   ],
   "source": [
    "IFrame('https://www.geogebra.org/classic/cz6v2U99?embed',\n",
    "       width='100%', height=500)"
   ]
  },
  {
   "cell_type": "markdown",
   "metadata": {},
   "source": [
    "The Numpy function for the cross product is `numpy.cross`:"
   ]
  },
  {
   "cell_type": "code",
   "execution_count": 24,
   "metadata": {},
   "outputs": [
    {
     "name": "stdout",
     "output_type": "stream",
     "text": [
      "a = [0, 0, 5] \n",
      " b = [3, 0, 0]\n",
      "np.cross(a, b) = [ 0 15  0]\n"
     ]
    }
   ],
   "source": [
    "a = [0, 0, 5]\n",
    "b = [3, 0, 0]\n",
    "\n",
    "print('a =', a, '\\n b =', b)\n",
    "print('np.cross(a, b) =', np.cross(a, b))"
   ]
  },
  {
   "cell_type": "markdown",
   "metadata": {},
   "source": [
    "For a 2D array with vectors in different rows:"
   ]
  },
  {
   "cell_type": "code",
   "execution_count": 25,
   "metadata": {},
   "outputs": [
    {
     "data": {
      "text/plain": [
       "array([[-3,  6, -3],\n",
       "       [ 1, -2,  1]])"
      ]
     },
     "execution_count": 25,
     "metadata": {},
     "output_type": "execute_result"
    }
   ],
   "source": [
    "a = np.array([[1, 2, 3], [1, 1, 1]])\n",
    "b = np.array([[4, 5, 6], [7, 8, 9]])\n",
    "np.cross(a, b, axis=1)"
   ]
  },
  {
   "cell_type": "code",
   "execution_count": 26,
   "metadata": {},
   "outputs": [],
   "source": [
    "a = np.array([1, 2, 0])\n",
    "b = np.array([0, 1, 3])\n",
    "c = np.array([1, 0, 1])"
   ]
  },
  {
   "cell_type": "markdown",
   "metadata": {},
   "source": [
    "## Further Reading\n",
    "\n",
    "- Read pages 44-92 of the first chapter of [Ruina and Rudra's book](http://ruina.tam.cornell.edu/Book/index.html) on scalars and vectors in mechanics."
   ]
  },
  {
   "cell_type": "markdown",
   "metadata": {},
   "source": [
    "## Video lectures on the Internet\n",
    "\n",
    "- Khan Academy: [Vectors](https://www.khanacademy.org/math/algebra-home/alg-vectors)\n",
    "- [Vectors, what even are they?](https://youtu.be/fNk_zzaMoSs)\n",
    "- [Basics of Vector and Tensor Algebra](https://is.muni.cz/do/rect/el/estud/prif/js17/pocetni_praktikum1/web/ch02.html)"
   ]
  },
  {
   "cell_type": "markdown",
   "metadata": {},
   "source": [
    "## Problems\n",
    "\n",
    "1. Given the vectors, $\\overrightarrow{\\mathbf{a}}=[1, 0, 0]$ and $\\overrightarrow{\\mathbf{b}}=[1, 1, 1]$, calculate their dot and cross products.\n",
    "\n",
    "2. Calculate the unit vectors for $ [2, −2, 3] $ and $ [3, −3, 2] $ and determine the orthogonal vector of these two vectors.\n",
    "\n",
    "3. Given the vectors $a = [1, 0, 0]$ and $b = [1, 1, 1]$, calculate $\\overrightarrow{\\mathbf{a}} \\times \\overrightarrow{\\mathbf{b}}$ and verify that this vector is orthogonal to the original vectors. Also calculate $\\overrightarrow{\\mathbf{b}} \\times \\overrightarrow{\\mathbf{a}}$ and compare with $\\overrightarrow{\\mathbf{a}} \\times \\overrightarrow{\\mathbf{b}}$.\n",
    "\n",
    "4. Given the vectors $ [1, 1, 0]; [1, 0, 1]; [0, 1, 1] $, calculate the orthonormal basis of the coordinate system.\n",
    "\n",
    "6. Solve problems **1.1** to **1.9**, **1.11** (using Python), **1.12**, **1.14**, **1.17**, **1.18** to **1.24** of the book Ruina a Rudra\n",
    "\n",
    "7. From the book Ruina a Rudra, solve problems **1.1.1** to **1.3.16**.\n",
    "\n",
    "If you are not confident in scalars and vectors, you should solve these problems by hand first and then use Python to check your answers. Knowledge of vector calculus is essential for further mastery of mechanics."
   ]
  },
  {
   "cell_type": "markdown",
   "metadata": {},
   "source": [
    "## References\n",
    "\n",
    "- Ruina A, Rudra P (2019) [Introduction to Statics and Dynamics](http://ruina.tam.cornell.edu/Book/index.html). Oxford University Press."
   ]
  }
 ],
 "metadata": {
  "kernelspec": {
   "display_name": "Python 3 (ipykernel)",
   "language": "python",
   "name": "python3"
  },
  "language_info": {
   "codemirror_mode": {
    "name": "ipython",
    "version": 3
   },
   "file_extension": ".py",
   "mimetype": "text/x-python",
   "name": "python",
   "nbconvert_exporter": "python",
   "pygments_lexer": "ipython3",
   "version": "3.12.7"
  },
  "latex_envs": {
   "LaTeX_envs_menu_present": true,
   "autoclose": false,
   "autocomplete": true,
   "bibliofile": "biblio.bib",
   "cite_by": "apalike",
   "current_citInitial": 1,
   "eqLabelWithNumbers": true,
   "eqNumInitial": 1,
   "hotkeys": {
    "equation": "Ctrl-E",
    "itemize": "Ctrl-I"
   },
   "labels_anchors": false,
   "latex_user_defs": false,
   "report_style_numbering": false,
   "user_envs_cfg": false
  },
  "nbTranslate": {
   "displayLangs": [
    "*"
   ],
   "hotkey": "alt-t",
   "langInMainMenu": true,
   "sourceLang": "en",
   "targetLang": "fr",
   "useGoogleTranslate": true
  },
  "toc": {
   "base_numbering": 1,
   "nav_menu": {},
   "number_sections": true,
   "sideBar": true,
   "skip_h1_title": true,
   "title_cell": "Contents",
   "title_sidebar": "Contents",
   "toc_cell": true,
   "toc_position": {},
   "toc_section_display": true,
   "toc_window_display": false
  },
  "varInspector": {
   "cols": {
    "lenName": 16,
    "lenType": 16,
    "lenVar": 40
   },
   "kernels_config": {
    "python": {
     "delete_cmd_postfix": "",
     "delete_cmd_prefix": "del ",
     "library": "var_list.py",
     "varRefreshCmd": "print(var_dic_list())"
    },
    "r": {
     "delete_cmd_postfix": ") ",
     "delete_cmd_prefix": "rm(",
     "library": "var_list.r",
     "varRefreshCmd": "cat(var_dic_list()) "
    }
   },
   "types_to_exclude": [
    "module",
    "function",
    "builtin_function_or_method",
    "instance",
    "_Feature"
   ],
   "window_display": false
  },
  "widgets": {
   "application/vnd.jupyter.widget-state+json": {
    "state": {},
    "version_major": 2,
    "version_minor": 0
   }
  }
 },
 "nbformat": 4,
 "nbformat_minor": 4
}
