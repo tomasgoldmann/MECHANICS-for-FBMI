{
 "cells": [
  {
   "cell_type": "markdown",
   "id": "1492a822-50eb-48d4-b711-40eab63ceddb",
   "metadata": {},
   "source": [
    "# Example - Yo-Yo Dynamics\n",
    "\n",
    "According to https://www.lehman.edu/faculty/anchordoqui/chapter21.pdf\n",
    "\n",
    "A yo-yo of mass $m$ has an axis of radius $b$ and a spool of radius $R$. Its moment of inertia about the center can be taken as $I_{\\text{cm}} = \\frac{1}{2} m R^2$, and the thickness of the string can be neglected. The yo-yo is released from rest. Assume that the center of mass of the yo-yo is falling vertically and the string is vertical as it unwinds. Determine the force in the string as the yo-yo falls?\n",
    "\n",
    "As the yo-yo falls, it rotates clockwise. The torque about the center of mass of the yo-yo is caused by the force in the string and increases the magnitude of the angular velocity. The string determines the $y$ direction, the $x$ axis is horizontal, and the direction of the torque is in the negative $z$ direction. Let's use the right-hand rule or the vector definition of torque:\n",
    "\n",
    "$$\\vec{M}_{\\text{cm}} = \\vec{r}_{\\text{cm},T} \\times \\vec{T}$$\n",
    "\n",
    "Where:\n",
    "\n",
    "$$\\vec{r}_{\\text{cm},T} = -b \\vec{i}, \\quad \\vec{T} = T \\vec{j}$$\n",
    "\n",
    "So the torque is:\n",
    "\n",
    "$$\\vec{M}_{\\text{cm}} = (-b \\hat{i}) \\times (T \\hat{j}) = -bT \\vec{k}$$\n",
    "\n",
    "Now let's use Newton's second law in the direction $-\\vec{j} $:\n",
    "\n",
    "$$T - mg = m a_y$$\n",
    "\n",
    "where $a_y$ is the vertical acceleration of the Yo-Yo.\n",
    "\n",
    "Let's use the rotational equation of motion for the Yo-Yo:\n",
    "\n",
    "$$-bT = I_{\\text{cm}} \\alpha_z$$\n",
    "\n",
    "The angular accelerations $\\alpha_z$ and the linear accelerations $a_y$ are related by the condition:\n",
    "\n",
    "$$\n",
    "a_y = b \\alpha_z\n",
    "$$\n",
    "\n",
    "We add to the equation:\n",
    "\n",
    "$$\n",
    "T - mg = mb \\alpha_z\n",
    "$$\n",
    "\n",
    "Solve the rotational equation for $\\alpha_z$ and get:\n",
    "\n",
    "$$\n",
    "mg - T = \\frac{mb^2 T}{I_{\\text{cm}}}\n",
    "$$\n",
    "\n",
    "After simplification:\n",
    "\n",
    "$$\n",
    "T = \\frac{mg}{1 + \\frac{mb^2}{I_{\\text{cm}}}}\n",
    "= \\frac{mg}{1 + \\frac{2b^2}{R^2}}\n",
    "$$"
   ]
  },
  {
   "cell_type": "code",
   "execution_count": null,
   "id": "8c6caa6e-6692-4de4-b7d9-eece06a2dbf3",
   "metadata": {},
   "outputs": [],
   "source": []
  }
 ],
 "metadata": {
  "kernelspec": {
   "display_name": "Python 3 (ipykernel)",
   "language": "python",
   "name": "python3"
  },
  "language_info": {
   "codemirror_mode": {
    "name": "ipython",
    "version": 3
   },
   "file_extension": ".py",
   "mimetype": "text/x-python",
   "name": "python",
   "nbconvert_exporter": "python",
   "pygments_lexer": "ipython3",
   "version": "3.12.7"
  }
 },
 "nbformat": 4,
 "nbformat_minor": 5
}
