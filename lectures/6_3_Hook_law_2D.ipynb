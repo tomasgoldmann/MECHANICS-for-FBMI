{
 "cells": [
  {
   "cell_type": "markdown",
   "id": "c9694700-79d3-434b-a666-d3b7e2337af1",
   "metadata": {},
   "source": [
    "# Generalised Hooke's Law for Plane Stress\n",
    "\n",
    "For plane stress, the deformation response is described by the following equations:\n",
    "\n",
    "### Normal strains:\n",
    "\n",
    "$$\n",
    "\\varepsilon_x = \\frac{1}{E} \\left( \\sigma_x - \\nu \\sigma_y \\right)\n",
    "$$\n",
    "\n",
    "$$\n",
    "\\varepsilon_y = \\frac{1}{E} \\left( \\sigma_y - \\nu \\sigma_x \\right)\n",
    "$$\n",
    "\n",
    "### Shear strain:\n",
    "\n",
    "$$\n",
    "\\gamma_{xy} = \\frac{\\tau_{xy}}{G}\n",
    "$$\n",
    "\n",
    "where:\n",
    "- $E$ is Young's modulus of elasticity,\n",
    "- $G = \\frac{E}{2(1+\\nu)}$ is the shear modulus of elasticity,\n",
    "- $\\nu$ is Poisson's ratio,\n",
    "- $\\varepsilon_x, \\varepsilon_y$ are normal strains in the $x$ and $y$,\n",
    "- $\\gamma_{xy}$ is the shear strain.\n",
    "\n",
    "## Matrix expression\n",
    "\n",
    "In matrix form, Hooke's law for plane stress can be written as:\n",
    "\n",
    "$$\n",
    "\\begin{bmatrix}\n",
    "\\varepsilon_x \\\\\n",
    "\\varepsilon_y \\\\\n",
    "\\gamma_{xy}\n",
    "\\end{bmatrix}\n",
    "=\n",
    "\\frac{1}{E}\n",
    "\\begin{bmatrix}\n",
    "1 & -\\nu & 0 \\\\\n",
    "-\\nu & 1 & 0 \\\\\n",
    "0 & 0 & 2(1+\\nu)\n",
    "\\end{bmatrix}\n",
    "\\begin{bmatrix}\n",
    "\\sigma_x \\\\\n",
    "\\sigma_y \\\\\n",
    "\\tau_{xy}\n",
    "\\end{bmatrix}\n",
    "$$"
   ]
  },
  {
   "cell_type": "code",
   "execution_count": null,
   "id": "929df7a7-1da7-44be-86a2-c0067a31be44",
   "metadata": {},
   "outputs": [],
   "source": []
  }
 ],
 "metadata": {
  "kernelspec": {
   "display_name": "Python 3 (ipykernel)",
   "language": "python",
   "name": "python3"
  },
  "language_info": {
   "codemirror_mode": {
    "name": "ipython",
    "version": 3
   },
   "file_extension": ".py",
   "mimetype": "text/x-python",
   "name": "python",
   "nbconvert_exporter": "python",
   "pygments_lexer": "ipython3",
   "version": "3.12.7"
  }
 },
 "nbformat": 4,
 "nbformat_minor": 5
}
