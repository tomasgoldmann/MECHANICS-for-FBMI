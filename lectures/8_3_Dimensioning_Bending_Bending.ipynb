{
 "cells": [
  {
   "cell_type": "markdown",
   "id": "5170779a-b333-4826-bbfa-b8dd8afd8aea",
   "metadata": {},
   "source": [
    "## Dimensioning of beams with combined bending - bending in two different planes\n",
    "\n",
    "When designing beams that are subjected to combined bending in two different planes, the interaction between these two bending moments must be taken into account. This situation often occurs in beams that are loaded with bending moments in both the $x$-$y$ and $x$-$z$ planes. This problem is typical for beams that have more complex geometry or are under the influence of more complex loads.\n",
    "\n",
    "### Step 1: Determination of bending moments\n",
    "\n",
    "For the combination of bending in two planes, we have two components of the bending moment:\n",
    "\n",
    "1. **Bending moment in the plane $x$-$y$**: $M_{xy}$\n",
    "2. **Bending moment in the plane $x$-$z$**: $M_{xz}$\n",
    "\n",
    "The overall stress state in these planes will be affected not only by these two bending moments, but also by any forces that may cause shear stress.\n",
    "\n",
    "### Step 2: Simplification by superposition\n",
    "\n",
    "For dimensioning, it is possible to use the **superposition** method, where the effects of the individual bending moments are first calculated and then added together. When dimensioning a beam in the case of combined bending, it is necessary to take into account:\n",
    "\n",
    "- **Resulting stress** at each point of the beam, which consists of the effects of both bending moments.\n",
    "- **Resulting stress in the material** is therefore a combination of the stresses induced by bending in two planes.\n",
    "\n",
    "### Step 3: Formula for combined stress\n",
    "\n",
    "For bending in two different planes, the total stress at any point in the beam is expressed as the sum of the stresses induced by the individual moments. For planar bending in the $x$-$y$ and $x$-$z$ planes, the total stress at a distance of $y$ from the axis is shown by the following formula:\n",
    "\n",
    "$$\n",
    "\\sigma = \\frac{M_{xy} y}{J_{xy}} + \\frac{M_{xz} y}{J_{xz}}\n",
    "$$\n",
    "\n",
    "where:\n",
    "- $\\sigma$ is the resultant stress at a point $y$ away from the neutral axis.\n",
    "- $M_{xy}$ and $M_{xz}$ are the bending moments in the $x$-$y$ and $x$-$z$ planes.\n",
    "- $J_{xy}$ and $J_{xz}$ are the moments of inertia of the beam section in the $x$-$y$ and $x$-$z$ planes.\n",
    "\n",
    "### Step 4: Checking the stress limit\n",
    "\n",
    "To verify the correctness of the design, it is necessary to compare the resulting stress with the material's ultimate strength or allowable stress:\n",
    "\n",
    "$$\n",
    "\\sigma \\leq \\sigma_{max}\n",
    "$$\n",
    "\n",
    "If this stress exceeds the allowable limit, it is necessary to adjust the beam dimensions or change the material."
   ]
  },
  {
   "cell_type": "code",
   "execution_count": null,
   "id": "dcee756c-f051-43bb-95e6-fc2b98e86ec8",
   "metadata": {},
   "outputs": [],
   "source": []
  }
 ],
 "metadata": {
  "kernelspec": {
   "display_name": "Python 3 (ipykernel)",
   "language": "python",
   "name": "python3"
  },
  "language_info": {
   "codemirror_mode": {
    "name": "ipython",
    "version": 3
   },
   "file_extension": ".py",
   "mimetype": "text/x-python",
   "name": "python",
   "nbconvert_exporter": "python",
   "pygments_lexer": "ipython3",
   "version": "3.12.7"
  }
 },
 "nbformat": 4,
 "nbformat_minor": 5
}
