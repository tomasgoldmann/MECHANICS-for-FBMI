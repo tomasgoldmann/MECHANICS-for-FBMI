{
 "cells": [
  {
   "cell_type": "markdown",
   "id": "e26fb462-dbcb-45a4-ac1c-293de09b4c5a",
   "metadata": {},
   "source": [
    "# Analogy between kinematic and dynamic parameters of rotational and translational motion\n",
    "\n",
    "| **Translational motion** | **Rotary motion** | Unit |\n",
    "|--------------------------|-------------------|------|\n",
    "| Position $ x $ | Angular position $ \\varphi $ | m, rad |\n",
    "| Velocity $ v = \\frac{dx}{dt} $ | Angular velocity $ \\omega = \\frac{d\\varphi}{dt} $ | m/s, rad/s |\n",
    "| Acceleration $ a = \\frac{dv}{dt} $ | Angular acceleration $ \\alpha = \\frac{d\\omega}{dt} $ | m/s², rad/s² |\n",
    "| Mass $ m $ | Moment of inertia $ I $ | kg, kg·m² |\n",
    "| Force $ F = m a $ | Torque $ M = I \\alpha $ | N, N·m |\n",
    "| Momentum $ p = m v $ | Angular momentum $ L = I \\omega $ | kg·m/s, kg·m²/s |\n",
    "| Impulse force $ \\Delta p = F t $ | Impulse torque $ \\Delta L = M t $ | N·s, N·m·s |\n",
    "| Work $ W = F s $ | Work $ W = M \\varphi $ | J, J |\n",
    "| Kinetic energy $ T = \\frac{1}{2} m v^2 $ | Kinetic energy $ T = \\frac{1}{2} I \\omega^2 $ | J |"
   ]
  },
  {
   "cell_type": "code",
   "execution_count": null,
   "id": "2273914f-30fd-4db3-abc7-fe547cd3d505",
   "metadata": {},
   "outputs": [],
   "source": []
  }
 ],
 "metadata": {
  "kernelspec": {
   "display_name": "Python 3 (ipykernel)",
   "language": "python",
   "name": "python3"
  },
  "language_info": {
   "codemirror_mode": {
    "name": "ipython",
    "version": 3
   },
   "file_extension": ".py",
   "mimetype": "text/x-python",
   "name": "python",
   "nbconvert_exporter": "python",
   "pygments_lexer": "ipython3",
   "version": "3.12.7"
  }
 },
 "nbformat": 4,
 "nbformat_minor": 5
}
