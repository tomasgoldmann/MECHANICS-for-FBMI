{
 "cells": [
  {
   "cell_type": "markdown",
   "id": "f76be78f-d5e6-4f27-8979-10d3cadc8b1d",
   "metadata": {},
   "source": [
    "# Motion in 2D\n",
    "In two-dimensional (2D) space, the motion of a point is described by two coordinates, usually denoted *x* and *y*. These coordinates determine the position of the point in a plane. The motion of a point then represents the change in these coordinates over time.\n",
    "\n",
    "Degrees of freedom (DOF) indicate the number of independent parameters that are needed to uniquely determine the position and orientation of a body in space.\n",
    "\n",
    "* **Point:** In 2D space, a point has two degrees of freedom. This means that two coordinates (x, y) are needed to determine its position. In 3D space, a point has three degrees of freedom (x, y, z).\n",
    "* **Body:** In 2D space, a rigid body has three degrees of freedom: two translational (movement in the x and y axes) and one rotational (rotation about an axis perpendicular to the plane). In 3D space, a rigid body has six degrees of freedom: three translational and three rotational.\n",
    "\n",
    "### Description of motion\n",
    "\n",
    "The motion of a point in 2D space can be described in various ways:\n",
    "\n",
    "* **Trajectory:** A trajectory is the curve that a point describes during its motion. Mathematically, it can be expressed as a function of time:\n",
    "* $$ x = f(t) $$\n",
    "* $$ y = g(t) $$\n",
    "* **Position vector:** The position vector $\\mathbf{r}$ gives the position of a point relative to the origin of the coordinate system. In 2D space it has the form:\n",
    "* $$ \\vec{r} = (x, y) $$\n",
    "* **Velocity:** The velocity $\\vec{v} = \\dot{\\vec{r}}$ gives the change in the position vector over time:\n",
    "\n",
    "* $$ \\mathbf{v} = \\frac{d\\vec{r}}{dt} = \\left( \\frac{dx}{dt}, \\frac{dy}{dt} \\right) $$\n",
    "\n",
    "* **Acceleration:** The acceleration $\\mathbf{a}$ gives the change in the velocity vector over time:\n",
    "* $$ \\mathbf{a} = \\frac{d\\mathbf{v}}{dt} = \\left( \\frac{d^2x}{dt^2}, \\frac{d^2y}{dt^2} \\right) $$"
   ]
  },
  {
   "cell_type": "code",
   "execution_count": null,
   "id": "fdacfbd1-b6b1-4ad0-a8d1-f18d1fe125b7",
   "metadata": {},
   "outputs": [],
   "source": []
  },
  {
   "cell_type": "code",
   "execution_count": null,
   "id": "ff62287f-a4a3-4f50-82d9-92e154369839",
   "metadata": {},
   "outputs": [],
   "source": []
  }
 ],
 "metadata": {
  "kernelspec": {
   "display_name": "Python 3 (ipykernel)",
   "language": "python",
   "name": "python3"
  },
  "language_info": {
   "codemirror_mode": {
    "name": "ipython",
    "version": 3
   },
   "file_extension": ".py",
   "mimetype": "text/x-python",
   "name": "python",
   "nbconvert_exporter": "python",
   "pygments_lexer": "ipython3",
   "version": "3.12.7"
  }
 },
 "nbformat": 4,
 "nbformat_minor": 5
}
