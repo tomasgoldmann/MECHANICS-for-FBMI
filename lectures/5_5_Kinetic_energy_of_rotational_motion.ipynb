{
 "cells": [
  {
   "cell_type": "markdown",
   "id": "5c5bd770-7f55-4ccd-bdb5-c7ed5ca71ce3",
   "metadata": {},
   "source": [
    "# Kinetic energy of rotational motion\n",
    "\n",
    "The kinetic energy $ T $ of a system of mass points is given by the sum of the kinetic energies of the individual particles:\n",
    "\n",
    "$$\n",
    "E_k = \\sum_i \\frac{1}{2} m_i v_i^2\n",
    "$$\n",
    "\n",
    "where:\n",
    "- $ m_i $ is the mass of the ith particle,\n",
    "- $ v_i $ is its velocity.\n",
    "\n",
    "Let us assume a rigid body rotating around a fixed axis with an angular velocity $ \\omega $. Each point of the body moves along a circular trajectory around the axis of rotation. The velocity of point $ i $ can be expressed in terms of angular velocity as:\n",
    "\n",
    "$$\n",
    "v_i = \\omega r_i\n",
    "$$\n",
    "\n",
    "where $ r_i $ is the perpendicular distance of the point from the axis of rotation.\n",
    "\n",
    "We substitute into the expression for kinetic energy:\n",
    "\n",
    "$$\n",
    "E_k = \\sum_i \\frac{1}{2} m_i (\\omega r_i)^2\n",
    "$$\n",
    "\n",
    "$$\n",
    "E_k = \\frac{1}{2} \\omega^2 \\sum_i m_i r_i^2\n",
    "$$\n",
    "\n",
    "The expression $ \\sum_i m_i r_i^2 $ corresponds to the definition of the moment of inertia $ I $:\n",
    "\n",
    "$$\n",
    "I = \\sum_i m_i r_i^2\n",
    "$$\n",
    "\n",
    "By substituting, we obtain the final relation for the kinetic energy of rotational motion:\n",
    "\n",
    "$$\n",
    "E_k = \\frac{1}{2} I \\omega^2\n",
    "$$\n",
    "\n",
    "This relation is analogous to the expression for the kinetic energy of translational motion:\n",
    "\n",
    "$$\n",
    "E_k = \\frac{1}{2} m v^2\n",
    "$$\n",
    "\n",
    "where the mass $ m $ corresponds to the moment of inertia $ I $ and the velocity $ v $ is replaced by the angular velocity $ \\omega $."
   ]
  },
  {
   "cell_type": "code",
   "execution_count": null,
   "id": "0359c2a2-83b7-493a-8b8b-dca55fd677ca",
   "metadata": {},
   "outputs": [],
   "source": []
  }
 ],
 "metadata": {
  "kernelspec": {
   "display_name": "Python 3 (ipykernel)",
   "language": "python",
   "name": "python3"
  },
  "language_info": {
   "codemirror_mode": {
    "name": "ipython",
    "version": 3
   },
   "file_extension": ".py",
   "mimetype": "text/x-python",
   "name": "python",
   "nbconvert_exporter": "python",
   "pygments_lexer": "ipython3",
   "version": "3.12.7"
  }
 },
 "nbformat": 4,
 "nbformat_minor": 5
}
