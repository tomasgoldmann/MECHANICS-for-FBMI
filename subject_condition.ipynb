{
 "cells": [
  {
   "cell_type": "code",
   "execution_count": null,
   "id": "20c9e7e0-5041-43d3-b2b7-d2f0e7847cfa",
   "metadata": {},
   "outputs": [],
   "source": [
    "## Zápočet:\n",
    "* Cvičení jsou povinnou součástí výuky.\n",
    "* Během semestru se uskuteční 3 testy, z každého je možné získat maximálně 20 bodů, celkem je tedy možné získat 60 bodů.\n",
    "\n",
    "* Podmínkou získání zápočtu je úspěšné absolvování každého zápočtového testu s minimálním celkovým ziskem 50% bodů (maximum 20\n",
    "bodů, minimum 10 bodů). Účast na testech je povinná.\n",
    "\n",
    "* Každý student má právo absolvovat test jedenkrát znovu (tj. jeden opravný test). Opravné testy proběhnou v zápočtovém týdnu.\n",
    "\n",
    "* Pokud se student nemohl z vážných důvodů (nemoc) testu zúčastnit, písemně se omluvil před termínem testu vyučujícímu a doložil oprávněnost své absence (lékařským potvrzením), může psát test v náhradním termínu. O oprávněnosti omluvy a termínu náhradného testu rozhoduje přednášející.\n",
    "\n",
    "* Pokuď student nesplní miniální podmínku u maximálně jednoho zápočtového testu ani u opravného termínu, je možné nahradit chybějící body vypracováním domácího úkolu.\n",
    "* Pokuď student nesplní podmínku 10 bodů u dva a více testů, nebude mu udělen zápočet. \n",
    "\n",
    "## Zkouška:\n",
    "\n",
    "Zkoušky se lze účastnit pouze při zapsaném zápočtu v KOSu a po zaspání na termín. Zkouška je převážně písemná a obsahuje\n",
    "jak teoretické, tak početní otázky z přednášek, cvičení a domácích úkolů. Zkouška se skládá z těchto\n",
    "částí:\n",
    "1. Test o délce cca 60 minut obsahuje krátké otázky z teorie a jednoduché výpočetní úlohy\n",
    "s maximálním ziskem 40 bodů. Ze 40 možných bodů je nutné získat alespoň 50%. Test probíhá na počítačích a student volí správnou odpověď z možných odpovědí.\n",
    "2. Příkladová část o délce cca 80 minut obvykle obsahuje dva až tři příklady s maximálním ziskem 40 bodů.\n",
    "    * Ze 40 možných bodů je nutné získat alespoň 50%. Lze používat seznamy vzorců bez dalších vepsaných poznámek (oficiální tahák).\n",
    "    * Ani jeden příklad nesmí být hodnocen 0 body. V případě hodnocení příkladu za 0 bodů student neuspěl. \n",
    "3. Ústní část. Lze získat 20 bodů. Při špatně zodpovězené otázce a prokázání neznalosti ztráta max. 20 bodů.\n",
    "\n",
    "Součtem bodů ze zápočtového testu a ze všech částí zkoušky vznikne výsledná známka.. \n",
    "\n",
    "| Součet bodů | Výsledná známka|\n",
    "--- | --- |\n",
    "|90-100 |A – výborně|\n",
    "|80-89| B – velmi dobře|\n",
    "|70-79| C – dobře|\n",
    "|60-69| D – uspokojivě|\n",
    "|50-59| E – dostatečně|\n",
    "|<50| F|\n",
    "\n"
   ]
  }
 ],
 "metadata": {
  "kernelspec": {
   "display_name": "Python [conda env:base] *",
   "language": "python",
   "name": "conda-base-py"
  },
  "language_info": {
   "codemirror_mode": {
    "name": "ipython",
    "version": 3
   },
   "file_extension": ".py",
   "mimetype": "text/x-python",
   "name": "python",
   "nbconvert_exporter": "python",
   "pygments_lexer": "ipython3",
   "version": "3.12.7"
  },
  "panel-cell-order": [
   "65f7f138-3fe2-44e2-8fa0-87105265aa96"
  ]
 },
 "nbformat": 4,
 "nbformat_minor": 5
}
